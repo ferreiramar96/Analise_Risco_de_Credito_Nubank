{
  "cells": [
    {
      "cell_type": "markdown",
      "metadata": {
        "id": "view-in-github",
        "colab_type": "text"
      },
      "source": [
        "<a href=\"https://colab.research.google.com/github/ferreiramar96/Analise_Risco_de_Credito_Nubank/blob/main/Avalia%C3%A7%C3%A3o_de_Risco_Cr%C3%A9dito_Nubank.ipynb\" target=\"_parent\"><img src=\"https://colab.research.google.com/assets/colab-badge.svg\" alt=\"Open In Colab\"/></a>"
      ]
    },
    {
      "cell_type": "markdown",
      "metadata": {
        "id": "ZNvmL_lMsAqU"
      },
      "source": [
        "# Análise de Risco de Crédito - Nubank\n",
        "\n",
        "\n",
        "Uma das área que mais causa problemas para bancos, financiadoras e empresários é a taxa de inadimplência por parte da sua carteira de clientes. Avaliar se uma pessoa irá deixar de cumprir com suas obrigações financeiras é de extrema importância, e pode causar um grande impacto no balanço da Instituição. Cada vez mais, soluções vêm sendo desenvolvidas e aprimoradas visando minimizar o risco de *default*.\n",
        "\n",
        "*Default* é o termo utilizado para indicado o não cumprimento das obrigações e/ou condições de um empréstimo (como financiamentos ou dívidas de cartão de crédito). Normalmente, o principal motivo para o descumprimento das condições de pagamento é incapacidade financeira do cliente.\n",
        "\n",
        "<p align=center>\n",
        "  <img src=\"https://raw.githubusercontent.com/ferreiramar96/Analise_Risco_de_Credito_Nubank/main/Imagens/capa.png\" width=\"85%\">\n",
        "</p>\n",
        "\n",
        "Grandes bancos e Fintechs têm apostado cada vez mais em modelos de *Machine Learning* para previnir a inadimplência de alguns clientes. Dentre as principais instituições financeira, o [Nubank](https://nubank.com.br/sobre-nos) é uma das que mais tem se destacado no uso de Inteligência Artificial e times de *Data Science*.\n",
        "\n",
        "O conjunto de dados a ser utilizado neste Projeto de *Data Science* parte de uma competição realizada pela Startup a fim de revelar talentos e potenciais contratações pela Fintech.\n",
        "\n",
        "Neste problema, o objetivo é prever qual a probabilidade (problema de Classificação) de um cliente da Startup Nubank não coumprir com suas obrigações financeiras e deixar de pagar a sua fatura do Cartão de Crédito, se tornando um cliente Default. Vale ressaltar que essa avaliação deve ser realizada no momento em que o cliente solicita o cartão (normalmente no primeiro contato com a instituição).\n",
        "\n",
        "\n",
        "  \n",
        "Vale ressaltar que essa avaliação deve ser realizada no momento em que o cliente solicita o cartão (normalmente no primeiro contato com a instituição).\n",
        "\n",
        "*---------------------------------------------------------------------------------------------------------------------------------------------------------*\n",
        "\n",
        "### Objetivos\n",
        "\n",
        "> Criar um modelo que forneça a probabilidade de um cliente virar inadimplente.\n",
        "\n",
        "> Espera-se que um modelo seja capaz de minimizar as perdas financeiras do Nubank, porém minimizando também os falsos positivos."
      ]
    },
    {
      "cell_type": "markdown",
      "metadata": {
        "id": "5PCK4RxLpqd8"
      },
      "source": [
        "## Importar os Dados\n",
        "\n",
        "Os dados que serão utilizados nesta análise estão disponíveis para download por meio [deste link](http://dl.dropboxusercontent.com/s/xn2a4kzf0zer0xu/acquisition_train.csv?dl=0). Consiste basicamente em um arquivo `csv` contendo 45.000 entradas e 43 colunas.\n",
        "\n",
        "Este arquivo será importando para uma estrutura *DataFrame* utilizando a biblioteca `pandas` a fim de possibilitar sua manipulação e análise."
      ]
    },
    {
      "cell_type": "code",
      "execution_count": 1,
      "metadata": {
        "id": "PqMaG41qo1Y4"
      },
      "outputs": [],
      "source": [
        "!pip install scikit-plot -q\n",
        "!pip install imbalanced-learn -q"
      ]
    },
    {
      "cell_type": "code",
      "execution_count": 2,
      "metadata": {
        "id": "XXM8sS303tzc"
      },
      "outputs": [],
      "source": [
        "#Importando os pacotes necessários\n",
        "import math\n",
        "import pandas as pd\n",
        "import numpy as np\n",
        "import matplotlib.pyplot as plt\n",
        "from scipy.stats import norm\n",
        "import seaborn as sns\n",
        "import missingno as msno\n",
        "import scikitplot as skplt\n",
        "from sklearn.impute import SimpleImputer\n",
        "from sklearn.decomposition import PCA\n",
        "from imblearn.under_sampling import RandomUnderSampler\n",
        "from sklearn.metrics import accuracy_score, f1_score, confusion_matrix\n",
        "from sklearn.metrics import classification_report, recall_score, roc_auc_score\n",
        "from scikitplot.metrics import plot_confusion_matrix\n",
        "from sklearn.preprocessing import StandardScaler, LabelEncoder, OneHotEncoder\n",
        "from sklearn.compose import make_column_transformer\n",
        "from sklearn.model_selection import train_test_split\n",
        "from sklearn.model_selection import cross_val_score\n",
        "from sklearn.model_selection import StratifiedKFold\n",
        "from sklearn.model_selection import GridSearchCV\n",
        "from sklearn.svm import SVC\n",
        "from lightgbm import LGBMClassifier\n",
        "from sklearn.naive_bayes import GaussianNB\n",
        "from sklearn.linear_model import SGDClassifier\n",
        "from sklearn.neighbors import KNeighborsClassifier\n",
        "from sklearn.tree import DecisionTreeClassifier\n",
        "from sklearn.linear_model import LogisticRegression\n",
        "from xgboost import XGBClassifier\n",
        "from sklearn.ensemble import RandomForestClassifier\n",
        "\n",
        "#Setando o pandas\n",
        "pd.options.display.max_columns = None\n",
        "\n",
        "#Random seed\n",
        "np.random.seed(42)\n",
        "\n",
        "#Filtrar mensagens de warning\n",
        "import warnings\n",
        "warnings.filterwarnings('ignore')"
      ]
    },
    {
      "cell_type": "markdown",
      "metadata": {
        "id": "Ci5BUIj0oAa7"
      },
      "source": [
        "Em cima, importei todos os pacotes que serão necessários para este projeto."
      ]
    },
    {
      "cell_type": "code",
      "execution_count": 3,
      "metadata": {
        "id": "nB1eP0Nq3w7j"
      },
      "outputs": [],
      "source": [
        "#Importando os dados\n",
        "df = pd.read_csv(\"http://dl.dropboxusercontent.com/s/xn2a4kzf0zer0xu/acquisition_train.csv?dl=0\")"
      ]
    },
    {
      "cell_type": "markdown",
      "metadata": {
        "id": "dwuK0z97ne15"
      },
      "source": [
        "Primeiro passo que precisamos fazer, é ver quais são as dimensões de nossos dados(linhas e colunas)."
      ]
    },
    {
      "cell_type": "code",
      "execution_count": 4,
      "metadata": {
        "colab": {
          "base_uri": "https://localhost:8080/",
          "height": 0
        },
        "id": "grA6reNpnlsW",
        "outputId": "8bd945c5-47ea-4b2f-91a5-80cbf56651a9"
      },
      "outputs": [
        {
          "output_type": "stream",
          "name": "stdout",
          "text": [
            "DIMENSÃO DO DATAFRAME:\n",
            "---------------------\n",
            "Linhas: 45000\n",
            "Colunas: 43\n"
          ]
        }
      ],
      "source": [
        "#Verificando a dimensão de nosso dataframe\n",
        "print(\"DIMENSÃO DO DATAFRAME:\")\n",
        "print(\"---------------------\")\n",
        "print(f\"Linhas: {df.shape[0]}\")\n",
        "print(f\"Colunas: {df.shape[1]}\")"
      ]
    },
    {
      "cell_type": "markdown",
      "metadata": {
        "id": "-uadFoplnHLf"
      },
      "source": [
        "Com nossos dados importados e sabendo que nossos dados possuem 45.000 linhas e 43 colunas, a seguir irei pegar o nome de todas as colunas e colocarei um dicionário de váriaveis, explicando o que cada variável significa."
      ]
    },
    {
      "cell_type": "markdown",
      "metadata": {
        "id": "8wmCZm1iw1-N"
      },
      "source": [
        "### Dicionário de Variáveis\n",
        "\n",
        "* `ids` - Identificação única do cliente\n",
        "\n",
        "* `target_default` - Variável-alvo, indica se o cliente foi inadimplente (`True`) ou não (`False`)\n",
        "\n",
        "* `score_3, score_4, score_5, score_6` - Não identificadas\n",
        "\n",
        "* `risk_rate` - Pontuação de risco\n",
        "\n",
        "* `last_amount_borrowed` - Valor total do último empréstimo/crédito concedido\n",
        "\n",
        "* `last_borrowed_in_months` - Quando foi feito o último empréstimo (em meses)\n",
        "\n",
        "* `credit_limit` - Limite de crédito\n",
        "\n",
        "* `income` - Renda do cliente\n",
        "\n",
        "* `facebook_profile` - Pessoa tem perfil no Facebook? Sim (`True`)/Não (`False`)\n",
        "\n",
        "* `application_time_applied` - Hora que aplicou a solicitação\n",
        "\n",
        "* `application_time_in_funnel` - Posição do cliente no funil de vendas no momento da aplicação\n",
        "\n",
        "* `email` - Provedor de e-mail do cliente\n",
        "\n",
        "* `external_data_provider_fraud_score` - Pontuação de score\n",
        "\n",
        "* `lat_lon` - Localização do cliente (latitude e longitude)\n",
        "\n",
        "* `marketing_channel` - Canal pelo qual o cliente fez a aplicação\n",
        "\n",
        "* `profile_phone_number` - Número de telefone\n",
        "\n",
        "* `reported_income` - Valor da renda informado pelo cliente\n",
        "\n",
        "* `shipping_state` - Local de entrega do cartão\n",
        "\n",
        "* `shipping_zip_code` - Código postal para envio do cartão\n",
        "\n",
        "* `user_agent`- Tipo de aparelho que o usuário está utilizando (se é PC, celular, marca, sistema operacional, etc.)\n",
        "\n",
        "* `target_fraud` - variável-alvo, indica se o cliente foi fraudado\n",
        "\n",
        "* `channel, job_name, profile_tags, real_state, reason, score_1, score_2, state, zip` - Todas essas variáveis estão anonimizadas (uma técnica de processamento de dados que remove ou modifica informações que possam identificar uma pessoa)\n",
        "\n",
        "* `external_data_provider_credit_checks_last_2_year | external_data_provider_credit_checks_last_month | external_data_provider_credit_checks_last_year | external_data_provider_email_seen_before | external_data_provider_first_name | n_accounts | n_bankruptcies | n_issues | ok_since` - Demais variáveis que não são tão relevantes."
      ]
    },
    {
      "cell_type": "markdown",
      "metadata": {
        "id": "5src9DXL6Sic"
      },
      "source": [
        "Agora com nosso dicionário de variáveis em mãos, vamos vizualizar as 3 primeiras entradas de nossos dados, para conhecermos um pouco mais sobre eles."
      ]
    },
    {
      "cell_type": "code",
      "execution_count": 5,
      "metadata": {
        "colab": {
          "base_uri": "https://localhost:8080/",
          "height": 525
        },
        "id": "Rabyj2bt5xiE",
        "outputId": "e51a36a5-6136-4088-8fce-601443429251"
      },
      "outputs": [
        {
          "output_type": "execute_result",
          "data": {
            "text/plain": [
              "                                    ids target_default  \\\n",
              "0  343b7e7b-2cf8-e508-b8fd-0a0285af30aa          False   \n",
              "1  bc2c7502-bbad-0f8c-39c3-94e881967124          False   \n",
              "2  669630dd-2e6a-0396-84bf-455e5009c922           True   \n",
              "3  d235609e-b6cb-0ccc-a329-d4f12e7ebdc1          False   \n",
              "\n",
              "                    score_1                   score_2  score_3     score_4  \\\n",
              "0  1Rk8w4Ucd5yR3KcqZzLdow==  IOVu8au3ISbo6+zmfnYwMg==    350.0  101.800832   \n",
              "1  DGCQep2AE5QRkNCshIAlFQ==  SaamrHMo23l/3TwXOWgVzw==    370.0   97.062615   \n",
              "2  DGCQep2AE5QRkNCshIAlFQ==  Fv28Bz0YRTVAT5kl1bAV6g==    360.0  100.027073   \n",
              "3  1Rk8w4Ucd5yR3KcqZzLdow==  dCm9hFKfdRm7ej3jW+gyxw==    510.0  101.599485   \n",
              "\n",
              "    score_5     score_6  risk_rate  last_amount_borrowed  \\\n",
              "0  0.259555  108.427273       0.40              25033.92   \n",
              "1  0.942655   92.002546       0.24                   NaN   \n",
              "2  0.351918  112.892453       0.29               7207.92   \n",
              "3  0.987673   94.902491       0.32                   NaN   \n",
              "\n",
              "   last_borrowed_in_months  credit_limit  \\\n",
              "0                     36.0           0.0   \n",
              "1                      NaN       39726.0   \n",
              "2                     36.0           NaN   \n",
              "3                      NaN       54591.0   \n",
              "\n",
              "                                              reason     income  \\\n",
              "0  mLVIVxoGY7TUDJ1FyFoSIZi1SFcaBmO01AydRchaEiGYtU...   65014.12   \n",
              "1  mLVIVxoGY7TUDJ1FyFoSIZi1SFcaBmO01AydRchaEiGYtU...  100018.91   \n",
              "2  mLVIVxoGY7TUDJ1FyFoSIZi1SFcaBmO01AydRchaEiGYtU...   65023.65   \n",
              "3  mLVIVxoGY7TUDJ1FyFoSIZi1SFcaBmO01AydRchaEiGYtU...   68830.01   \n",
              "\n",
              "  facebook_profile                     state                       zip  \\\n",
              "0             True  sjJbkqJS7cXalHLBFA+EOQ==  Ernn+uVXCMq/6ARrBCcd+A==   \n",
              "1            False  xsd3ZdsI3356I3xMxZeiqQ==  rlWIXTBO+VOa34+SpGyhlQ==   \n",
              "2              NaN  Ygq6MsM98oC8yceExr69Ig==  PjTIDfJsK0DKL9fO7vuW2g==   \n",
              "3            False  KET/Pmr6rHp1RJ/P9ymztw==  Cc/kWDLQH3dpHv5HU+pLVA==   \n",
              "\n",
              "                    channel  \\\n",
              "0  NCqL3QBx0pscDnx3ixKwXg==   \n",
              "1  NCqL3QBx0pscDnx3ixKwXg==   \n",
              "2  NCqL3QBx0pscDnx3ixKwXg==   \n",
              "3  NCqL3QBx0pscDnx3ixKwXg==   \n",
              "\n",
              "                                            job_name  \\\n",
              "0  mLVIVxoGY7TUDJ1FyFoSIZi1SFcaBmO01AydRchaEiGYtU...   \n",
              "1  mLVIVxoGY7TUDJ1FyFoSIZi1SFcaBmO01AydRchaEiGYtU...   \n",
              "2  mLVIVxoGY7TUDJ1FyFoSIZi1SFcaBmO01AydRchaEiGYtU...   \n",
              "3  mLVIVxoGY7TUDJ1FyFoSIZi1SFcaBmO01AydRchaEiE56f...   \n",
              "\n",
              "                 real_state  ok_since  n_bankruptcies  n_defaulted_loans  \\\n",
              "0  N5/CE7lSkAfB04hVFFwllw==       NaN             0.0                0.0   \n",
              "1  N5/CE7lSkAfB04hVFFwllw==      50.0             0.0                0.0   \n",
              "2  n+xK9CfX0bCn77lClTWviw==       NaN             0.0                0.0   \n",
              "3  n+xK9CfX0bCn77lClTWviw==       NaN             1.0                0.0   \n",
              "\n",
              "   n_accounts  n_issues application_time_applied  application_time_in_funnel  \\\n",
              "0        18.0      18.0                 07:52:34                         444   \n",
              "1        14.0      14.0                 02:34:29                         346   \n",
              "2        10.0       NaN                 00:60:02                           6   \n",
              "3        19.0      19.0                 11:20:49                         406   \n",
              "\n",
              "         email  external_data_provider_credit_checks_last_2_year  \\\n",
              "0  outlook.com                                               NaN   \n",
              "1    gmail.com                                               0.0   \n",
              "2    gmail.com                                               NaN   \n",
              "3    spgov.com                                               NaN   \n",
              "\n",
              "   external_data_provider_credit_checks_last_month  \\\n",
              "0                                                2   \n",
              "1                                                1   \n",
              "2                                                2   \n",
              "3                                                3   \n",
              "\n",
              "   external_data_provider_credit_checks_last_year  \\\n",
              "0                                             0.0   \n",
              "1                                             0.0   \n",
              "2                                             NaN   \n",
              "3                                             NaN   \n",
              "\n",
              "   external_data_provider_email_seen_before external_data_provider_first_name  \\\n",
              "0                                      51.0                        leidelaura   \n",
              "1                                      17.0                          diocezio   \n",
              "2                                       9.0                         veralucia   \n",
              "3                                      38.0                            venice   \n",
              "\n",
              "   external_data_provider_fraud_score  \\\n",
              "0                                 645   \n",
              "1                                 243   \n",
              "2                                  65   \n",
              "3                                 815   \n",
              "\n",
              "                                      lat_lon marketing_channel  \\\n",
              "0    (-29.151545708122246, -51.1386461804385)      Invite-email   \n",
              "1   (-19.687710705798963, -47.94151536525154)  Radio-commercial   \n",
              "2  (-28.748023890412284, -51.867279334353995)      Waiting-list   \n",
              "3   (-17.520650158450454, -39.75801139933186)      Waiting-list   \n",
              "\n",
              "  profile_phone_number  reported_income shipping_state  shipping_zip_code  \\\n",
              "0          514-9840782          57849.0          BR-MT              17528   \n",
              "1          251-3659293           4902.0          BR-RS              40933   \n",
              "2          230-6097993         163679.0          BR-RR              50985   \n",
              "3          261-3543751           1086.0          BR-RN              37825   \n",
              "\n",
              "                           profile_tags  \\\n",
              "0               {'tags': ['n19', 'n8']}   \n",
              "1         {'tags': ['n6', 'n7', 'nim']}   \n",
              "2  {'tags': ['n0', 'n17', 'nim', 'da']}   \n",
              "3                      {'tags': ['n4']}   \n",
              "\n",
              "                                          user_agent target_fraud  \n",
              "0  Mozilla/5.0 (Linux; Android 6.0.1; SGP771 Buil...          NaN  \n",
              "1  Mozilla/5.0 (Linux; Android 5.0.2; SAMSUNG SM-...          NaN  \n",
              "2  Mozilla/5.0 (Linux; Android 6.0.1; SGP771 Buil...          NaN  \n",
              "3  Mozilla/5.0 (Linux; Android 6.0; HTC One X10 B...          NaN  "
            ],
            "text/html": [
              "\n",
              "  <div id=\"df-239582b8-c3ac-42d8-9be1-ffb945e04219\" class=\"colab-df-container\">\n",
              "    <div>\n",
              "<style scoped>\n",
              "    .dataframe tbody tr th:only-of-type {\n",
              "        vertical-align: middle;\n",
              "    }\n",
              "\n",
              "    .dataframe tbody tr th {\n",
              "        vertical-align: top;\n",
              "    }\n",
              "\n",
              "    .dataframe thead th {\n",
              "        text-align: right;\n",
              "    }\n",
              "</style>\n",
              "<table border=\"1\" class=\"dataframe\">\n",
              "  <thead>\n",
              "    <tr style=\"text-align: right;\">\n",
              "      <th></th>\n",
              "      <th>ids</th>\n",
              "      <th>target_default</th>\n",
              "      <th>score_1</th>\n",
              "      <th>score_2</th>\n",
              "      <th>score_3</th>\n",
              "      <th>score_4</th>\n",
              "      <th>score_5</th>\n",
              "      <th>score_6</th>\n",
              "      <th>risk_rate</th>\n",
              "      <th>last_amount_borrowed</th>\n",
              "      <th>last_borrowed_in_months</th>\n",
              "      <th>credit_limit</th>\n",
              "      <th>reason</th>\n",
              "      <th>income</th>\n",
              "      <th>facebook_profile</th>\n",
              "      <th>state</th>\n",
              "      <th>zip</th>\n",
              "      <th>channel</th>\n",
              "      <th>job_name</th>\n",
              "      <th>real_state</th>\n",
              "      <th>ok_since</th>\n",
              "      <th>n_bankruptcies</th>\n",
              "      <th>n_defaulted_loans</th>\n",
              "      <th>n_accounts</th>\n",
              "      <th>n_issues</th>\n",
              "      <th>application_time_applied</th>\n",
              "      <th>application_time_in_funnel</th>\n",
              "      <th>email</th>\n",
              "      <th>external_data_provider_credit_checks_last_2_year</th>\n",
              "      <th>external_data_provider_credit_checks_last_month</th>\n",
              "      <th>external_data_provider_credit_checks_last_year</th>\n",
              "      <th>external_data_provider_email_seen_before</th>\n",
              "      <th>external_data_provider_first_name</th>\n",
              "      <th>external_data_provider_fraud_score</th>\n",
              "      <th>lat_lon</th>\n",
              "      <th>marketing_channel</th>\n",
              "      <th>profile_phone_number</th>\n",
              "      <th>reported_income</th>\n",
              "      <th>shipping_state</th>\n",
              "      <th>shipping_zip_code</th>\n",
              "      <th>profile_tags</th>\n",
              "      <th>user_agent</th>\n",
              "      <th>target_fraud</th>\n",
              "    </tr>\n",
              "  </thead>\n",
              "  <tbody>\n",
              "    <tr>\n",
              "      <th>0</th>\n",
              "      <td>343b7e7b-2cf8-e508-b8fd-0a0285af30aa</td>\n",
              "      <td>False</td>\n",
              "      <td>1Rk8w4Ucd5yR3KcqZzLdow==</td>\n",
              "      <td>IOVu8au3ISbo6+zmfnYwMg==</td>\n",
              "      <td>350.0</td>\n",
              "      <td>101.800832</td>\n",
              "      <td>0.259555</td>\n",
              "      <td>108.427273</td>\n",
              "      <td>0.40</td>\n",
              "      <td>25033.92</td>\n",
              "      <td>36.0</td>\n",
              "      <td>0.0</td>\n",
              "      <td>mLVIVxoGY7TUDJ1FyFoSIZi1SFcaBmO01AydRchaEiGYtU...</td>\n",
              "      <td>65014.12</td>\n",
              "      <td>True</td>\n",
              "      <td>sjJbkqJS7cXalHLBFA+EOQ==</td>\n",
              "      <td>Ernn+uVXCMq/6ARrBCcd+A==</td>\n",
              "      <td>NCqL3QBx0pscDnx3ixKwXg==</td>\n",
              "      <td>mLVIVxoGY7TUDJ1FyFoSIZi1SFcaBmO01AydRchaEiGYtU...</td>\n",
              "      <td>N5/CE7lSkAfB04hVFFwllw==</td>\n",
              "      <td>NaN</td>\n",
              "      <td>0.0</td>\n",
              "      <td>0.0</td>\n",
              "      <td>18.0</td>\n",
              "      <td>18.0</td>\n",
              "      <td>07:52:34</td>\n",
              "      <td>444</td>\n",
              "      <td>outlook.com</td>\n",
              "      <td>NaN</td>\n",
              "      <td>2</td>\n",
              "      <td>0.0</td>\n",
              "      <td>51.0</td>\n",
              "      <td>leidelaura</td>\n",
              "      <td>645</td>\n",
              "      <td>(-29.151545708122246, -51.1386461804385)</td>\n",
              "      <td>Invite-email</td>\n",
              "      <td>514-9840782</td>\n",
              "      <td>57849.0</td>\n",
              "      <td>BR-MT</td>\n",
              "      <td>17528</td>\n",
              "      <td>{'tags': ['n19', 'n8']}</td>\n",
              "      <td>Mozilla/5.0 (Linux; Android 6.0.1; SGP771 Buil...</td>\n",
              "      <td>NaN</td>\n",
              "    </tr>\n",
              "    <tr>\n",
              "      <th>1</th>\n",
              "      <td>bc2c7502-bbad-0f8c-39c3-94e881967124</td>\n",
              "      <td>False</td>\n",
              "      <td>DGCQep2AE5QRkNCshIAlFQ==</td>\n",
              "      <td>SaamrHMo23l/3TwXOWgVzw==</td>\n",
              "      <td>370.0</td>\n",
              "      <td>97.062615</td>\n",
              "      <td>0.942655</td>\n",
              "      <td>92.002546</td>\n",
              "      <td>0.24</td>\n",
              "      <td>NaN</td>\n",
              "      <td>NaN</td>\n",
              "      <td>39726.0</td>\n",
              "      <td>mLVIVxoGY7TUDJ1FyFoSIZi1SFcaBmO01AydRchaEiGYtU...</td>\n",
              "      <td>100018.91</td>\n",
              "      <td>False</td>\n",
              "      <td>xsd3ZdsI3356I3xMxZeiqQ==</td>\n",
              "      <td>rlWIXTBO+VOa34+SpGyhlQ==</td>\n",
              "      <td>NCqL3QBx0pscDnx3ixKwXg==</td>\n",
              "      <td>mLVIVxoGY7TUDJ1FyFoSIZi1SFcaBmO01AydRchaEiGYtU...</td>\n",
              "      <td>N5/CE7lSkAfB04hVFFwllw==</td>\n",
              "      <td>50.0</td>\n",
              "      <td>0.0</td>\n",
              "      <td>0.0</td>\n",
              "      <td>14.0</td>\n",
              "      <td>14.0</td>\n",
              "      <td>02:34:29</td>\n",
              "      <td>346</td>\n",
              "      <td>gmail.com</td>\n",
              "      <td>0.0</td>\n",
              "      <td>1</td>\n",
              "      <td>0.0</td>\n",
              "      <td>17.0</td>\n",
              "      <td>diocezio</td>\n",
              "      <td>243</td>\n",
              "      <td>(-19.687710705798963, -47.94151536525154)</td>\n",
              "      <td>Radio-commercial</td>\n",
              "      <td>251-3659293</td>\n",
              "      <td>4902.0</td>\n",
              "      <td>BR-RS</td>\n",
              "      <td>40933</td>\n",
              "      <td>{'tags': ['n6', 'n7', 'nim']}</td>\n",
              "      <td>Mozilla/5.0 (Linux; Android 5.0.2; SAMSUNG SM-...</td>\n",
              "      <td>NaN</td>\n",
              "    </tr>\n",
              "    <tr>\n",
              "      <th>2</th>\n",
              "      <td>669630dd-2e6a-0396-84bf-455e5009c922</td>\n",
              "      <td>True</td>\n",
              "      <td>DGCQep2AE5QRkNCshIAlFQ==</td>\n",
              "      <td>Fv28Bz0YRTVAT5kl1bAV6g==</td>\n",
              "      <td>360.0</td>\n",
              "      <td>100.027073</td>\n",
              "      <td>0.351918</td>\n",
              "      <td>112.892453</td>\n",
              "      <td>0.29</td>\n",
              "      <td>7207.92</td>\n",
              "      <td>36.0</td>\n",
              "      <td>NaN</td>\n",
              "      <td>mLVIVxoGY7TUDJ1FyFoSIZi1SFcaBmO01AydRchaEiGYtU...</td>\n",
              "      <td>65023.65</td>\n",
              "      <td>NaN</td>\n",
              "      <td>Ygq6MsM98oC8yceExr69Ig==</td>\n",
              "      <td>PjTIDfJsK0DKL9fO7vuW2g==</td>\n",
              "      <td>NCqL3QBx0pscDnx3ixKwXg==</td>\n",
              "      <td>mLVIVxoGY7TUDJ1FyFoSIZi1SFcaBmO01AydRchaEiGYtU...</td>\n",
              "      <td>n+xK9CfX0bCn77lClTWviw==</td>\n",
              "      <td>NaN</td>\n",
              "      <td>0.0</td>\n",
              "      <td>0.0</td>\n",
              "      <td>10.0</td>\n",
              "      <td>NaN</td>\n",
              "      <td>00:60:02</td>\n",
              "      <td>6</td>\n",
              "      <td>gmail.com</td>\n",
              "      <td>NaN</td>\n",
              "      <td>2</td>\n",
              "      <td>NaN</td>\n",
              "      <td>9.0</td>\n",
              "      <td>veralucia</td>\n",
              "      <td>65</td>\n",
              "      <td>(-28.748023890412284, -51.867279334353995)</td>\n",
              "      <td>Waiting-list</td>\n",
              "      <td>230-6097993</td>\n",
              "      <td>163679.0</td>\n",
              "      <td>BR-RR</td>\n",
              "      <td>50985</td>\n",
              "      <td>{'tags': ['n0', 'n17', 'nim', 'da']}</td>\n",
              "      <td>Mozilla/5.0 (Linux; Android 6.0.1; SGP771 Buil...</td>\n",
              "      <td>NaN</td>\n",
              "    </tr>\n",
              "    <tr>\n",
              "      <th>3</th>\n",
              "      <td>d235609e-b6cb-0ccc-a329-d4f12e7ebdc1</td>\n",
              "      <td>False</td>\n",
              "      <td>1Rk8w4Ucd5yR3KcqZzLdow==</td>\n",
              "      <td>dCm9hFKfdRm7ej3jW+gyxw==</td>\n",
              "      <td>510.0</td>\n",
              "      <td>101.599485</td>\n",
              "      <td>0.987673</td>\n",
              "      <td>94.902491</td>\n",
              "      <td>0.32</td>\n",
              "      <td>NaN</td>\n",
              "      <td>NaN</td>\n",
              "      <td>54591.0</td>\n",
              "      <td>mLVIVxoGY7TUDJ1FyFoSIZi1SFcaBmO01AydRchaEiGYtU...</td>\n",
              "      <td>68830.01</td>\n",
              "      <td>False</td>\n",
              "      <td>KET/Pmr6rHp1RJ/P9ymztw==</td>\n",
              "      <td>Cc/kWDLQH3dpHv5HU+pLVA==</td>\n",
              "      <td>NCqL3QBx0pscDnx3ixKwXg==</td>\n",
              "      <td>mLVIVxoGY7TUDJ1FyFoSIZi1SFcaBmO01AydRchaEiE56f...</td>\n",
              "      <td>n+xK9CfX0bCn77lClTWviw==</td>\n",
              "      <td>NaN</td>\n",
              "      <td>1.0</td>\n",
              "      <td>0.0</td>\n",
              "      <td>19.0</td>\n",
              "      <td>19.0</td>\n",
              "      <td>11:20:49</td>\n",
              "      <td>406</td>\n",
              "      <td>spgov.com</td>\n",
              "      <td>NaN</td>\n",
              "      <td>3</td>\n",
              "      <td>NaN</td>\n",
              "      <td>38.0</td>\n",
              "      <td>venice</td>\n",
              "      <td>815</td>\n",
              "      <td>(-17.520650158450454, -39.75801139933186)</td>\n",
              "      <td>Waiting-list</td>\n",
              "      <td>261-3543751</td>\n",
              "      <td>1086.0</td>\n",
              "      <td>BR-RN</td>\n",
              "      <td>37825</td>\n",
              "      <td>{'tags': ['n4']}</td>\n",
              "      <td>Mozilla/5.0 (Linux; Android 6.0; HTC One X10 B...</td>\n",
              "      <td>NaN</td>\n",
              "    </tr>\n",
              "  </tbody>\n",
              "</table>\n",
              "</div>\n",
              "    <div class=\"colab-df-buttons\">\n",
              "\n",
              "  <div class=\"colab-df-container\">\n",
              "    <button class=\"colab-df-convert\" onclick=\"convertToInteractive('df-239582b8-c3ac-42d8-9be1-ffb945e04219')\"\n",
              "            title=\"Convert this dataframe to an interactive table.\"\n",
              "            style=\"display:none;\">\n",
              "\n",
              "  <svg xmlns=\"http://www.w3.org/2000/svg\" height=\"24px\" viewBox=\"0 -960 960 960\">\n",
              "    <path d=\"M120-120v-720h720v720H120Zm60-500h600v-160H180v160Zm220 220h160v-160H400v160Zm0 220h160v-160H400v160ZM180-400h160v-160H180v160Zm440 0h160v-160H620v160ZM180-180h160v-160H180v160Zm440 0h160v-160H620v160Z\"/>\n",
              "  </svg>\n",
              "    </button>\n",
              "\n",
              "  <style>\n",
              "    .colab-df-container {\n",
              "      display:flex;\n",
              "      gap: 12px;\n",
              "    }\n",
              "\n",
              "    .colab-df-convert {\n",
              "      background-color: #E8F0FE;\n",
              "      border: none;\n",
              "      border-radius: 50%;\n",
              "      cursor: pointer;\n",
              "      display: none;\n",
              "      fill: #1967D2;\n",
              "      height: 32px;\n",
              "      padding: 0 0 0 0;\n",
              "      width: 32px;\n",
              "    }\n",
              "\n",
              "    .colab-df-convert:hover {\n",
              "      background-color: #E2EBFA;\n",
              "      box-shadow: 0px 1px 2px rgba(60, 64, 67, 0.3), 0px 1px 3px 1px rgba(60, 64, 67, 0.15);\n",
              "      fill: #174EA6;\n",
              "    }\n",
              "\n",
              "    .colab-df-buttons div {\n",
              "      margin-bottom: 4px;\n",
              "    }\n",
              "\n",
              "    [theme=dark] .colab-df-convert {\n",
              "      background-color: #3B4455;\n",
              "      fill: #D2E3FC;\n",
              "    }\n",
              "\n",
              "    [theme=dark] .colab-df-convert:hover {\n",
              "      background-color: #434B5C;\n",
              "      box-shadow: 0px 1px 3px 1px rgba(0, 0, 0, 0.15);\n",
              "      filter: drop-shadow(0px 1px 2px rgba(0, 0, 0, 0.3));\n",
              "      fill: #FFFFFF;\n",
              "    }\n",
              "  </style>\n",
              "\n",
              "    <script>\n",
              "      const buttonEl =\n",
              "        document.querySelector('#df-239582b8-c3ac-42d8-9be1-ffb945e04219 button.colab-df-convert');\n",
              "      buttonEl.style.display =\n",
              "        google.colab.kernel.accessAllowed ? 'block' : 'none';\n",
              "\n",
              "      async function convertToInteractive(key) {\n",
              "        const element = document.querySelector('#df-239582b8-c3ac-42d8-9be1-ffb945e04219');\n",
              "        const dataTable =\n",
              "          await google.colab.kernel.invokeFunction('convertToInteractive',\n",
              "                                                    [key], {});\n",
              "        if (!dataTable) return;\n",
              "\n",
              "        const docLinkHtml = 'Like what you see? Visit the ' +\n",
              "          '<a target=\"_blank\" href=https://colab.research.google.com/notebooks/data_table.ipynb>data table notebook</a>'\n",
              "          + ' to learn more about interactive tables.';\n",
              "        element.innerHTML = '';\n",
              "        dataTable['output_type'] = 'display_data';\n",
              "        await google.colab.output.renderOutput(dataTable, element);\n",
              "        const docLink = document.createElement('div');\n",
              "        docLink.innerHTML = docLinkHtml;\n",
              "        element.appendChild(docLink);\n",
              "      }\n",
              "    </script>\n",
              "  </div>\n",
              "\n",
              "\n",
              "<div id=\"df-94f7afaa-9e83-4dad-9c31-00ba0808c4bd\">\n",
              "  <button class=\"colab-df-quickchart\" onclick=\"quickchart('df-94f7afaa-9e83-4dad-9c31-00ba0808c4bd')\"\n",
              "            title=\"Suggest charts\"\n",
              "            style=\"display:none;\">\n",
              "\n",
              "<svg xmlns=\"http://www.w3.org/2000/svg\" height=\"24px\"viewBox=\"0 0 24 24\"\n",
              "     width=\"24px\">\n",
              "    <g>\n",
              "        <path d=\"M19 3H5c-1.1 0-2 .9-2 2v14c0 1.1.9 2 2 2h14c1.1 0 2-.9 2-2V5c0-1.1-.9-2-2-2zM9 17H7v-7h2v7zm4 0h-2V7h2v10zm4 0h-2v-4h2v4z\"/>\n",
              "    </g>\n",
              "</svg>\n",
              "  </button>\n",
              "\n",
              "<style>\n",
              "  .colab-df-quickchart {\n",
              "      --bg-color: #E8F0FE;\n",
              "      --fill-color: #1967D2;\n",
              "      --hover-bg-color: #E2EBFA;\n",
              "      --hover-fill-color: #174EA6;\n",
              "      --disabled-fill-color: #AAA;\n",
              "      --disabled-bg-color: #DDD;\n",
              "  }\n",
              "\n",
              "  [theme=dark] .colab-df-quickchart {\n",
              "      --bg-color: #3B4455;\n",
              "      --fill-color: #D2E3FC;\n",
              "      --hover-bg-color: #434B5C;\n",
              "      --hover-fill-color: #FFFFFF;\n",
              "      --disabled-bg-color: #3B4455;\n",
              "      --disabled-fill-color: #666;\n",
              "  }\n",
              "\n",
              "  .colab-df-quickchart {\n",
              "    background-color: var(--bg-color);\n",
              "    border: none;\n",
              "    border-radius: 50%;\n",
              "    cursor: pointer;\n",
              "    display: none;\n",
              "    fill: var(--fill-color);\n",
              "    height: 32px;\n",
              "    padding: 0;\n",
              "    width: 32px;\n",
              "  }\n",
              "\n",
              "  .colab-df-quickchart:hover {\n",
              "    background-color: var(--hover-bg-color);\n",
              "    box-shadow: 0 1px 2px rgba(60, 64, 67, 0.3), 0 1px 3px 1px rgba(60, 64, 67, 0.15);\n",
              "    fill: var(--button-hover-fill-color);\n",
              "  }\n",
              "\n",
              "  .colab-df-quickchart-complete:disabled,\n",
              "  .colab-df-quickchart-complete:disabled:hover {\n",
              "    background-color: var(--disabled-bg-color);\n",
              "    fill: var(--disabled-fill-color);\n",
              "    box-shadow: none;\n",
              "  }\n",
              "\n",
              "  .colab-df-spinner {\n",
              "    border: 2px solid var(--fill-color);\n",
              "    border-color: transparent;\n",
              "    border-bottom-color: var(--fill-color);\n",
              "    animation:\n",
              "      spin 1s steps(1) infinite;\n",
              "  }\n",
              "\n",
              "  @keyframes spin {\n",
              "    0% {\n",
              "      border-color: transparent;\n",
              "      border-bottom-color: var(--fill-color);\n",
              "      border-left-color: var(--fill-color);\n",
              "    }\n",
              "    20% {\n",
              "      border-color: transparent;\n",
              "      border-left-color: var(--fill-color);\n",
              "      border-top-color: var(--fill-color);\n",
              "    }\n",
              "    30% {\n",
              "      border-color: transparent;\n",
              "      border-left-color: var(--fill-color);\n",
              "      border-top-color: var(--fill-color);\n",
              "      border-right-color: var(--fill-color);\n",
              "    }\n",
              "    40% {\n",
              "      border-color: transparent;\n",
              "      border-right-color: var(--fill-color);\n",
              "      border-top-color: var(--fill-color);\n",
              "    }\n",
              "    60% {\n",
              "      border-color: transparent;\n",
              "      border-right-color: var(--fill-color);\n",
              "    }\n",
              "    80% {\n",
              "      border-color: transparent;\n",
              "      border-right-color: var(--fill-color);\n",
              "      border-bottom-color: var(--fill-color);\n",
              "    }\n",
              "    90% {\n",
              "      border-color: transparent;\n",
              "      border-bottom-color: var(--fill-color);\n",
              "    }\n",
              "  }\n",
              "</style>\n",
              "\n",
              "  <script>\n",
              "    async function quickchart(key) {\n",
              "      const quickchartButtonEl =\n",
              "        document.querySelector('#' + key + ' button');\n",
              "      quickchartButtonEl.disabled = true;  // To prevent multiple clicks.\n",
              "      quickchartButtonEl.classList.add('colab-df-spinner');\n",
              "      try {\n",
              "        const charts = await google.colab.kernel.invokeFunction(\n",
              "            'suggestCharts', [key], {});\n",
              "      } catch (error) {\n",
              "        console.error('Error during call to suggestCharts:', error);\n",
              "      }\n",
              "      quickchartButtonEl.classList.remove('colab-df-spinner');\n",
              "      quickchartButtonEl.classList.add('colab-df-quickchart-complete');\n",
              "    }\n",
              "    (() => {\n",
              "      let quickchartButtonEl =\n",
              "        document.querySelector('#df-94f7afaa-9e83-4dad-9c31-00ba0808c4bd button');\n",
              "      quickchartButtonEl.style.display =\n",
              "        google.colab.kernel.accessAllowed ? 'block' : 'none';\n",
              "    })();\n",
              "  </script>\n",
              "</div>\n",
              "\n",
              "    </div>\n",
              "  </div>\n"
            ],
            "application/vnd.google.colaboratory.intrinsic+json": {
              "type": "dataframe",
              "variable_name": "df"
            }
          },
          "metadata": {},
          "execution_count": 5
        }
      ],
      "source": [
        "#3 primeiras entradas\n",
        "df.head(4)"
      ]
    },
    {
      "cell_type": "markdown",
      "metadata": {
        "id": "Tjlxy0AgRU2N"
      },
      "source": [
        "## Análise Exploratória dos Dados\n",
        "\n",
        "Como disse ali em cima, existem algumas variáveis que estão com as informações anonimizados, por serem dados de clientes reais do banco.\n",
        "\n",
        "Nosso próximo passo é ver mais algumas informações como: tipos de nossas 43 variáveis, e se existem valores nulos."
      ]
    },
    {
      "cell_type": "code",
      "execution_count": 6,
      "metadata": {
        "colab": {
          "base_uri": "https://localhost:8080/",
          "height": 0
        },
        "id": "3y_cInpXBgqd",
        "outputId": "3c35dbcd-15ff-4ad5-fd6b-0e19a96e891f"
      },
      "outputs": [
        {
          "output_type": "stream",
          "name": "stdout",
          "text": [
            "<class 'pandas.core.frame.DataFrame'>\n",
            "RangeIndex: 45000 entries, 0 to 44999\n",
            "Data columns (total 43 columns):\n",
            " #   Column                                            Non-Null Count  Dtype  \n",
            "---  ------                                            --------------  -----  \n",
            " 0   ids                                               45000 non-null  object \n",
            " 1   target_default                                    41741 non-null  object \n",
            " 2   score_1                                           44438 non-null  object \n",
            " 3   score_2                                           44438 non-null  object \n",
            " 4   score_3                                           44438 non-null  float64\n",
            " 5   score_4                                           45000 non-null  float64\n",
            " 6   score_5                                           45000 non-null  float64\n",
            " 7   score_6                                           45000 non-null  float64\n",
            " 8   risk_rate                                         44438 non-null  float64\n",
            " 9   last_amount_borrowed                              15044 non-null  float64\n",
            " 10  last_borrowed_in_months                           15044 non-null  float64\n",
            " 11  credit_limit                                      31200 non-null  float64\n",
            " 12  reason                                            44434 non-null  object \n",
            " 13  income                                            44438 non-null  float64\n",
            " 14  facebook_profile                                  40542 non-null  object \n",
            " 15  state                                             44438 non-null  object \n",
            " 16  zip                                               44438 non-null  object \n",
            " 17  channel                                           44438 non-null  object \n",
            " 18  job_name                                          41664 non-null  object \n",
            " 19  real_state                                        44438 non-null  object \n",
            " 20  ok_since                                          18455 non-null  float64\n",
            " 21  n_bankruptcies                                    44303 non-null  float64\n",
            " 22  n_defaulted_loans                                 44426 non-null  float64\n",
            " 23  n_accounts                                        44438 non-null  float64\n",
            " 24  n_issues                                          33456 non-null  float64\n",
            " 25  application_time_applied                          45000 non-null  object \n",
            " 26  application_time_in_funnel                        45000 non-null  int64  \n",
            " 27  email                                             45000 non-null  object \n",
            " 28  external_data_provider_credit_checks_last_2_year  22372 non-null  float64\n",
            " 29  external_data_provider_credit_checks_last_month   45000 non-null  int64  \n",
            " 30  external_data_provider_credit_checks_last_year    29876 non-null  float64\n",
            " 31  external_data_provider_email_seen_before          42767 non-null  float64\n",
            " 32  external_data_provider_first_name                 45000 non-null  object \n",
            " 33  external_data_provider_fraud_score                45000 non-null  int64  \n",
            " 34  lat_lon                                           43637 non-null  object \n",
            " 35  marketing_channel                                 41422 non-null  object \n",
            " 36  profile_phone_number                              45000 non-null  object \n",
            " 37  reported_income                                   45000 non-null  float64\n",
            " 38  shipping_state                                    45000 non-null  object \n",
            " 39  shipping_zip_code                                 45000 non-null  int64  \n",
            " 40  profile_tags                                      45000 non-null  object \n",
            " 41  user_agent                                        44278 non-null  object \n",
            " 42  target_fraud                                      1522 non-null   object \n",
            "dtypes: float64(18), int64(4), object(21)\n",
            "memory usage: 14.8+ MB\n"
          ]
        }
      ],
      "source": [
        "df.info()"
      ]
    },
    {
      "cell_type": "markdown",
      "metadata": {
        "id": "TW4Llmt0UvmF"
      },
      "source": [
        "Ao observarmos, conseguimos concluir que:\n",
        "\n",
        "* Existem muitas variáveis que possuem valores nulos.\n",
        "\n",
        "* `target_default` e `facebook_profile` são do tipo `object`, porém eles deveriam ser do tipo `bool`. Precisamos fazer um tratamento nos dados antes de transforma-los, pois existem valores nulos.\n",
        "\n",
        "* `application_time_applied` está no tipo `object` e deveria ser `datetime`(HH:mm:ss), porém o Scikit Learn não aceita esse formato, por conta disso iremos ignorar.\n",
        "\n",
        "Algumas possíveis *Features Engineers*:\n",
        "\n",
        "* `lat_lon` com essa variável conseguimos pegar tanto a Longitude quanto a Longitude e separa-las em variáveis diferentes.\n",
        "\n",
        "* `shipping_state` contém a sigla do país e do estado."
      ]
    },
    {
      "cell_type": "markdown",
      "metadata": {
        "id": "j5hCaT2O1F_j"
      },
      "source": [
        "Como sabemos que temos muitos valores faltantes, iremos ver qual é a porcentagem(%) de valores ausentes em em cada variável:"
      ]
    },
    {
      "cell_type": "code",
      "execution_count": 7,
      "metadata": {
        "colab": {
          "base_uri": "https://localhost:8080/",
          "height": 0
        },
        "id": "WuNxSaKhRv-A",
        "outputId": "da96c395-6d6d-40fa-8b2e-530f6feaea25"
      },
      "outputs": [
        {
          "output_type": "execute_result",
          "data": {
            "text/plain": [
              "target_fraud                                        96.62\n",
              "last_amount_borrowed                                66.57\n",
              "last_borrowed_in_months                             66.57\n",
              "ok_since                                            58.99\n",
              "external_data_provider_credit_checks_last_2_year    50.28\n",
              "external_data_provider_credit_checks_last_year      33.61\n",
              "credit_limit                                        30.67\n",
              "n_issues                                            25.65\n",
              "facebook_profile                                     9.91\n",
              "marketing_channel                                    7.95\n",
              "job_name                                             7.41\n",
              "target_default                                       7.24\n",
              "external_data_provider_email_seen_before             4.96\n",
              "lat_lon                                              3.03\n",
              "user_agent                                           1.60\n",
              "n_bankruptcies                                       1.55\n",
              "n_defaulted_loans                                    1.28\n",
              "reason                                               1.26\n",
              "zip                                                  1.25\n",
              "n_accounts                                           1.25\n",
              "channel                                              1.25\n",
              "score_1                                              1.25\n",
              "score_3                                              1.25\n",
              "risk_rate                                            1.25\n",
              "income                                               1.25\n",
              "real_state                                           1.25\n",
              "state                                                1.25\n",
              "score_2                                              1.25\n",
              "profile_tags                                         0.00\n",
              "shipping_zip_code                                    0.00\n",
              "shipping_state                                       0.00\n",
              "reported_income                                      0.00\n",
              "profile_phone_number                                 0.00\n",
              "external_data_provider_credit_checks_last_month      0.00\n",
              "external_data_provider_fraud_score                   0.00\n",
              "external_data_provider_first_name                    0.00\n",
              "score_4                                              0.00\n",
              "score_5                                              0.00\n",
              "score_6                                              0.00\n",
              "email                                                0.00\n",
              "application_time_in_funnel                           0.00\n",
              "application_time_applied                             0.00\n",
              "ids                                                  0.00\n",
              "dtype: float64"
            ]
          },
          "metadata": {},
          "execution_count": 7
        }
      ],
      "source": [
        "#Verificando a porcentagem de valores ausêntes em cada variável\n",
        "val_null = ((df.isnull().sum() / df.shape[0])*100).sort_values(ascending=False).round(2)\n",
        "val_null"
      ]
    },
    {
      "cell_type": "markdown",
      "metadata": {
        "id": "EtzwBPkY3ugs"
      },
      "source": [
        "Como podemos observar os resultados apresentados acima, temos nas variáveis: `target_fraud`, `last_amount_borrowed`, `last_borrowed_in_months`, `ok_since` e `external_data_provider_credit_checks_last_2_year` possuem mais de 50% de seus valores nulos, o que são valores significativos. E para criarmos nosso modelo de Machine Learning, não é possível que exista valores ausêntes.\n",
        "\n",
        "Então para isso, irei realizar um tratamento de valores nulos, não será possível realizar isso em todas as variáveis, pois pelo o que é possível observar, existem valores que são do tipo `object`.\n",
        "\n",
        "Acredito também que mais à frente irei excluir a coluna `target_fraud`, isso por que não é uma variável relevante para nós. A coluna que iremos utilizar como target em nosso modelo, será a `target_default`."
      ]
    },
    {
      "cell_type": "code",
      "execution_count": 8,
      "metadata": {
        "colab": {
          "base_uri": "https://localhost:8080/",
          "height": 591
        },
        "id": "9qY3n3P16Oqf",
        "outputId": "9a30d642-acdb-4ff1-facd-461848221aec"
      },
      "outputs": [
        {
          "output_type": "execute_result",
          "data": {
            "text/plain": [
              "<Axes: >"
            ]
          },
          "metadata": {},
          "execution_count": 8
        },
        {
          "output_type": "display_data",
          "data": {
            "text/plain": [
              "<Figure size 1200x400 with 3 Axes>"
            ],
            "image/png": "[encoded data removed]"
          },
          "metadata": {}
        }
      ],
      "source": [
        "msno.bar(df, figsize=(12,4), fontsize=7, sort=\"ascending\", color='#054F77')"
      ]
    },
    {
      "cell_type": "markdown",
      "metadata": {
        "id": "kjlaXsRW7mnL"
      },
      "source": [
        "Com a imagem fica mais fácil de vizualizarmos, a discrepância da quantidade de valores ausêntes entre os 5 primeiros, com relação às demais variáveis."
      ]
    },
    {
      "cell_type": "markdown",
      "metadata": {
        "id": "ACpPps0_5tw_"
      },
      "source": [
        "Próximo passo, irei verificar quantos valores únicos temos em cada variável"
      ]
    },
    {
      "cell_type": "code",
      "execution_count": 9,
      "metadata": {
        "colab": {
          "base_uri": "https://localhost:8080/",
          "height": 0
        },
        "id": "O6S-snfD16l-",
        "outputId": "c402aaf9-c925-4044-ca47-d45114fce9d9"
      },
      "outputs": [
        {
          "output_type": "execute_result",
          "data": {
            "text/plain": [
              "external_data_provider_credit_checks_last_2_year        1\n",
              "channel                                                 1\n",
              "target_fraud                                            2\n",
              "target_default                                          2\n",
              "external_data_provider_credit_checks_last_year          2\n",
              "facebook_profile                                        2\n",
              "last_borrowed_in_months                                 2\n",
              "external_data_provider_credit_checks_last_month         4\n",
              "n_defaulted_loans                                       5\n",
              "real_state                                              5\n",
              "email                                                   6\n",
              "n_bankruptcies                                          6\n",
              "score_1                                                 7\n",
              "marketing_channel                                       9\n",
              "shipping_state                                         25\n",
              "score_2                                                35\n",
              "n_issues                                               44\n",
              "n_accounts                                             44\n",
              "state                                                  50\n",
              "external_data_provider_email_seen_before               62\n",
              "risk_rate                                              82\n",
              "score_3                                                88\n",
              "ok_since                                              100\n",
              "user_agent                                            297\n",
              "application_time_in_funnel                            501\n",
              "zip                                                   823\n",
              "external_data_provider_fraud_score                   1001\n",
              "last_amount_borrowed                                14325\n",
              "reason                                              14874\n",
              "credit_limit                                        20928\n",
              "lat_lon                                             22412\n",
              "profile_tags                                        26131\n",
              "shipping_zip_code                                   28263\n",
              "job_name                                            32265\n",
              "external_data_provider_first_name                   32886\n",
              "application_time_applied                            35543\n",
              "reported_income                                     40025\n",
              "income                                              41211\n",
              "score_4                                             45000\n",
              "score_5                                             45000\n",
              "score_6                                             45000\n",
              "profile_phone_number                                45000\n",
              "ids                                                 45000\n",
              "dtype: int64"
            ]
          },
          "metadata": {},
          "execution_count": 9
        }
      ],
      "source": [
        "#Quantidade de valores únicos\n",
        "df.nunique().sort_values()"
      ]
    },
    {
      "cell_type": "markdown",
      "metadata": {
        "id": "XUyLTvR6_Ica"
      },
      "source": [
        "* Observando os valores acima conseguimos perceber que as variáveis `ids` e `profile_phone_number` possuem 45000 entradas distintas, isso significa que cada linha de nosso dataframe representa um cliente diferente.\n",
        "\n",
        "* Conseguimos deduzir também que as variáveis que possuem apenas 2 valores diferentes, provavelmente elas devem conter valores como `True` e `False`, o que nos resultaria em valores booleanos. **Vale lembrar também que os valores \"Nan\" não são contabilizados como valores** então eles não aparecem na contagem.\n",
        "\n",
        "* As variáveis `score_4`, `score_5` e `score_6` possuem os 45000 valores distintos também, o que podemos concluir é que eram valores únicos por cliente, porém aqui como são informações anonimizadas, iremos exclui-las mais a frente.\n",
        "\n",
        "<br/>\n",
        "\n",
        "Irei vizualizar quais são os valores das variáveis que possuem até 8 valores únicos, para tentar identificar alguma inconsistência nos dados."
      ]
    },
    {
      "cell_type": "code",
      "execution_count": 10,
      "metadata": {
        "colab": {
          "base_uri": "https://localhost:8080/",
          "height": 0
        },
        "id": "saOqBV0O_Hzr",
        "outputId": "3d0113ce-f3e3-4eac-ac95-a19308b4ac2f"
      },
      "outputs": [
        {
          "output_type": "stream",
          "name": "stdout",
          "text": [
            "target_default: [False True nan]\n",
            "\n",
            "score_1: ['1Rk8w4Ucd5yR3KcqZzLdow==' 'DGCQep2AE5QRkNCshIAlFQ=='\n",
            " '8k8UDR4Yx0qasAjkGrUZLw==' '4DLlLW62jReXaqbPaHp1vQ=='\n",
            " 'e4NYDor1NOw6XKGE60AWFw==' 'smzX0nxh5QlePvtVf6EAeg=='\n",
            " 'fyrlulOiZ+5hoFqLa6UbDQ==' nan]\n",
            "\n",
            "last_borrowed_in_months: [36. nan 60.]\n",
            "\n",
            "facebook_profile: [True False nan]\n",
            "\n",
            "channel: ['NCqL3QBx0pscDnx3ixKwXg==' nan]\n",
            "\n",
            "real_state: ['N5/CE7lSkAfB04hVFFwllw==' 'n+xK9CfX0bCn77lClTWviw=='\n",
            " 'nSpvDsIsslUaX6GE6m6eQA==' nan 'UX7AdFYgQh+VrVC5eIaU9w=='\n",
            " '+qWF9pJpVGtTFn4vFjb/cg==']\n",
            "\n",
            "n_bankruptcies: [ 0.  1. nan  2.  3.  4.  5.]\n",
            "\n",
            "n_defaulted_loans: [ 0.  1. nan  2.  3.  5.]\n",
            "\n",
            "email: ['outlook.com' 'gmail.com' 'spgov.com' 'hotmail.com' 'hotmaill.com'\n",
            " 'gmaill.com']\n",
            "\n",
            "external_data_provider_credit_checks_last_2_year: [nan  0.]\n",
            "\n",
            "external_data_provider_credit_checks_last_month: [2 1 3 0]\n",
            "\n",
            "external_data_provider_credit_checks_last_year: [ 0. nan  1.]\n",
            "\n",
            "target_fraud: [nan 'fraud_friends_family' 'fraud_id']\n",
            "\n"
          ]
        }
      ],
      "source": [
        "#Extraindo os valores únicos\n",
        "for c in df.columns:\n",
        "  if df[c].nunique() < 8:\n",
        "    print(f\"{c}: {df[c].unique()}\\n\")"
      ]
    },
    {
      "cell_type": "markdown",
      "metadata": {
        "id": "WH98_vjwcO4P"
      },
      "source": [
        "Após obtermos esse resultado acima conseguimos ver que tudo parece estar normal, até destacarmos uma variável...a de `email`. Irei construir um gráfico para ficar visualmente mais fácil de compreender.\n"
      ]
    },
    {
      "cell_type": "code",
      "execution_count": 11,
      "metadata": {
        "colab": {
          "base_uri": "https://localhost:8080/",
          "height": 626
        },
        "id": "6mcTjB9ed85_",
        "outputId": "ff79a321-571a-40a3-d360-a525fb59a20e"
      },
      "outputs": [
        {
          "output_type": "display_data",
          "data": {
            "text/plain": [
              "<Figure size 1200x500 with 1 Axes>"
            ],
            "image/png": "[encoded data removed]"
          },
          "metadata": {}
        },
        {
          "output_type": "execute_result",
          "data": {
            "text/plain": [
              "email\n",
              "gmail.com       22720\n",
              "hotmail.com     11333\n",
              "outlook.com      5797\n",
              "spgov.com        5146\n",
              "hotmaill.com        3\n",
              "gmaill.com          1\n",
              "Name: count, dtype: int64"
            ]
          },
          "metadata": {},
          "execution_count": 11
        }
      ],
      "source": [
        "#Plotando gráfico de distribuição de \"email\"\n",
        "fig, ax = plt.subplots(figsize=(12, 5))\n",
        "sns.countplot(x=df['email'], palette='colorblind')\n",
        "ax.set_title('Tipos de Emails')\n",
        "plt.show()\n",
        "\n",
        "#Mostrando a quantidade de cada um:\n",
        "df['email'].value_counts()"
      ]
    },
    {
      "cell_type": "markdown",
      "metadata": {
        "id": "WjcyZEJtivgk"
      },
      "source": [
        "Vemos que temos 2 *hotmail.com* e 2 *gmail.com*, sendo eles com dois \"l\", porém são muito poucos. Isso deve ter ocorrido quando o cliente foi fazer seu cadastro no Nubank, e sem querer acabaram digitando um \"l\" a mais. Não podemos deixar ele dessa forma, pois mais adiante irei fazer uma codificação de variáveis, e quanto mais valores tivermos maior ficará nosso conjunto de dados.\n",
        "\n",
        "Então para evitarmos isso, mais adiante irei substituir pelos valores originais e ai sim ficará correto. Continuemos nossas análises...\n",
        "\n",
        "<br/>\n",
        "\n",
        "A próxima coisa que iremos fazer, será uma `análise descritiva` de todos os nossos dados numéricos, afim de descobrirmos mais informações que possam nos agregar valor e enriquecer ainda mais a análise."
      ]
    },
    {
      "cell_type": "code",
      "execution_count": 12,
      "metadata": {
        "colab": {
          "base_uri": "https://localhost:8080/",
          "height": 320
        },
        "id": "TVxkU_5MfqlI",
        "outputId": "30f4d3f9-8264-4c9e-e145-ef19f1d1e4e3"
      },
      "outputs": [
        {
          "output_type": "execute_result",
          "data": {
            "text/plain": [
              "            score_3       score_4       score_5       score_6     risk_rate  \\\n",
              "count  44438.000000  45000.000000  45000.000000  45000.000000  44438.000000   \n",
              "mean     347.983258    100.006797      0.500037     99.925228      0.296717   \n",
              "std      110.429165      3.178080      0.288326     10.016549      0.101933   \n",
              "min        0.000000     86.191572      0.000035     60.663039      0.000000   \n",
              "25%      270.000000     97.867036      0.252150     93.198353      0.220000   \n",
              "50%      340.000000    100.018900      0.500753     99.974796      0.290000   \n",
              "75%      420.000000    102.141797      0.748816    106.640275      0.360000   \n",
              "max      990.000000    113.978234      0.999973    142.192400      0.900000   \n",
              "\n",
              "       last_amount_borrowed  last_borrowed_in_months   credit_limit  \\\n",
              "count          15044.000000             15044.000000   31200.000000   \n",
              "mean           13782.341991                41.763893   34381.951154   \n",
              "std             8077.571933                10.252705   36586.982218   \n",
              "min             1005.180000                36.000000       0.000000   \n",
              "25%             7519.502500                36.000000   10000.000000   \n",
              "50%            12023.465000                36.000000   25647.000000   \n",
              "75%            19220.270000                36.000000   47086.750000   \n",
              "max            35059.600000                60.000000  448269.000000   \n",
              "\n",
              "             income      ok_since  n_bankruptcies  n_defaulted_loans  \\\n",
              "count  4.443800e+04  18455.000000    44303.000000       44426.000000   \n",
              "mean   7.160739e+04     35.069737        0.076270           0.004569   \n",
              "std    5.185897e+04     21.663194        0.274052           0.079400   \n",
              "min    4.821180e+03      0.000000        0.000000           0.000000   \n",
              "25%    4.501078e+04     17.000000        0.000000           0.000000   \n",
              "50%    6.126676e+04     32.000000        0.000000           0.000000   \n",
              "75%    8.601923e+04     50.000000        0.000000           0.000000   \n",
              "max    5.000028e+06    141.000000        5.000000           5.000000   \n",
              "\n",
              "         n_accounts      n_issues  application_time_in_funnel  \\\n",
              "count  44438.000000  33456.000000                45000.000000   \n",
              "mean      10.696701     11.068119                  247.537000   \n",
              "std        4.592463      4.595501                  146.118398   \n",
              "min        0.000000      0.000000                    0.000000   \n",
              "25%        7.000000      8.000000                  120.000000   \n",
              "50%       10.000000     10.000000                  248.000000   \n",
              "75%       13.000000     14.000000                  375.000000   \n",
              "max       49.000000     49.000000                  500.000000   \n",
              "\n",
              "       external_data_provider_credit_checks_last_2_year  \\\n",
              "count                                           22372.0   \n",
              "mean                                                0.0   \n",
              "std                                                 0.0   \n",
              "min                                                 0.0   \n",
              "25%                                                 0.0   \n",
              "50%                                                 0.0   \n",
              "75%                                                 0.0   \n",
              "max                                                 0.0   \n",
              "\n",
              "       external_data_provider_credit_checks_last_month  \\\n",
              "count                                     45000.000000   \n",
              "mean                                          1.501067   \n",
              "std                                           1.114941   \n",
              "min                                           0.000000   \n",
              "25%                                           1.000000   \n",
              "50%                                           2.000000   \n",
              "75%                                           2.000000   \n",
              "max                                           3.000000   \n",
              "\n",
              "       external_data_provider_credit_checks_last_year  \\\n",
              "count                                    29876.000000   \n",
              "mean                                         0.503381   \n",
              "std                                          0.499997   \n",
              "min                                          0.000000   \n",
              "25%                                          0.000000   \n",
              "50%                                          1.000000   \n",
              "75%                                          1.000000   \n",
              "max                                          1.000000   \n",
              "\n",
              "       external_data_provider_email_seen_before  \\\n",
              "count                              42767.000000   \n",
              "mean                                  12.534781   \n",
              "std                                  126.530487   \n",
              "min                                 -999.000000   \n",
              "25%                                   11.000000   \n",
              "50%                                   27.000000   \n",
              "75%                                   43.000000   \n",
              "max                                   59.000000   \n",
              "\n",
              "       external_data_provider_fraud_score  reported_income  shipping_zip_code  \n",
              "count                        45000.000000         45000.00       45000.000000  \n",
              "mean                           500.399800              inf       33923.514844  \n",
              "std                            287.968873              NaN       12692.406382  \n",
              "min                              0.000000           403.00       12001.000000  \n",
              "25%                            252.000000         50948.25       22937.000000  \n",
              "50%                            503.000000        101779.00       33896.000000  \n",
              "75%                            747.000000        151337.25       44910.000000  \n",
              "max                           1000.000000              inf       56000.000000  "
            ],
            "text/html": [
              "\n",
              "  <div id=\"df-080c1bd7-0aa7-4b3b-a208-49d93d19a691\" class=\"colab-df-container\">\n",
              "    <div>\n",
              "<style scoped>\n",
              "    .dataframe tbody tr th:only-of-type {\n",
              "        vertical-align: middle;\n",
              "    }\n",
              "\n",
              "    .dataframe tbody tr th {\n",
              "        vertical-align: top;\n",
              "    }\n",
              "\n",
              "    .dataframe thead th {\n",
              "        text-align: right;\n",
              "    }\n",
              "</style>\n",
              "<table border=\"1\" class=\"dataframe\">\n",
              "  <thead>\n",
              "    <tr style=\"text-align: right;\">\n",
              "      <th></th>\n",
              "      <th>score_3</th>\n",
              "      <th>score_4</th>\n",
              "      <th>score_5</th>\n",
              "      <th>score_6</th>\n",
              "      <th>risk_rate</th>\n",
              "      <th>last_amount_borrowed</th>\n",
              "      <th>last_borrowed_in_months</th>\n",
              "      <th>credit_limit</th>\n",
              "      <th>income</th>\n",
              "      <th>ok_since</th>\n",
              "      <th>n_bankruptcies</th>\n",
              "      <th>n_defaulted_loans</th>\n",
              "      <th>n_accounts</th>\n",
              "      <th>n_issues</th>\n",
              "      <th>application_time_in_funnel</th>\n",
              "      <th>external_data_provider_credit_checks_last_2_year</th>\n",
              "      <th>external_data_provider_credit_checks_last_month</th>\n",
              "      <th>external_data_provider_credit_checks_last_year</th>\n",
              "      <th>external_data_provider_email_seen_before</th>\n",
              "      <th>external_data_provider_fraud_score</th>\n",
              "      <th>reported_income</th>\n",
              "      <th>shipping_zip_code</th>\n",
              "    </tr>\n",
              "  </thead>\n",
              "  <tbody>\n",
              "    <tr>\n",
              "      <th>count</th>\n",
              "      <td>44438.000000</td>\n",
              "      <td>45000.000000</td>\n",
              "      <td>45000.000000</td>\n",
              "      <td>45000.000000</td>\n",
              "      <td>44438.000000</td>\n",
              "      <td>15044.000000</td>\n",
              "      <td>15044.000000</td>\n",
              "      <td>31200.000000</td>\n",
              "      <td>4.443800e+04</td>\n",
              "      <td>18455.000000</td>\n",
              "      <td>44303.000000</td>\n",
              "      <td>44426.000000</td>\n",
              "      <td>44438.000000</td>\n",
              "      <td>33456.000000</td>\n",
              "      <td>45000.000000</td>\n",
              "      <td>22372.0</td>\n",
              "      <td>45000.000000</td>\n",
              "      <td>29876.000000</td>\n",
              "      <td>42767.000000</td>\n",
              "      <td>45000.000000</td>\n",
              "      <td>45000.00</td>\n",
              "      <td>45000.000000</td>\n",
              "    </tr>\n",
              "    <tr>\n",
              "      <th>mean</th>\n",
              "      <td>347.983258</td>\n",
              "      <td>100.006797</td>\n",
              "      <td>0.500037</td>\n",
              "      <td>99.925228</td>\n",
              "      <td>0.296717</td>\n",
              "      <td>13782.341991</td>\n",
              "      <td>41.763893</td>\n",
              "      <td>34381.951154</td>\n",
              "      <td>7.160739e+04</td>\n",
              "      <td>35.069737</td>\n",
              "      <td>0.076270</td>\n",
              "      <td>0.004569</td>\n",
              "      <td>10.696701</td>\n",
              "      <td>11.068119</td>\n",
              "      <td>247.537000</td>\n",
              "      <td>0.0</td>\n",
              "      <td>1.501067</td>\n",
              "      <td>0.503381</td>\n",
              "      <td>12.534781</td>\n",
              "      <td>500.399800</td>\n",
              "      <td>inf</td>\n",
              "      <td>33923.514844</td>\n",
              "    </tr>\n",
              "    <tr>\n",
              "      <th>std</th>\n",
              "      <td>110.429165</td>\n",
              "      <td>3.178080</td>\n",
              "      <td>0.288326</td>\n",
              "      <td>10.016549</td>\n",
              "      <td>0.101933</td>\n",
              "      <td>8077.571933</td>\n",
              "      <td>10.252705</td>\n",
              "      <td>36586.982218</td>\n",
              "      <td>5.185897e+04</td>\n",
              "      <td>21.663194</td>\n",
              "      <td>0.274052</td>\n",
              "      <td>0.079400</td>\n",
              "      <td>4.592463</td>\n",
              "      <td>4.595501</td>\n",
              "      <td>146.118398</td>\n",
              "      <td>0.0</td>\n",
              "      <td>1.114941</td>\n",
              "      <td>0.499997</td>\n",
              "      <td>126.530487</td>\n",
              "      <td>287.968873</td>\n",
              "      <td>NaN</td>\n",
              "      <td>12692.406382</td>\n",
              "    </tr>\n",
              "    <tr>\n",
              "      <th>min</th>\n",
              "      <td>0.000000</td>\n",
              "      <td>86.191572</td>\n",
              "      <td>0.000035</td>\n",
              "      <td>60.663039</td>\n",
              "      <td>0.000000</td>\n",
              "      <td>1005.180000</td>\n",
              "      <td>36.000000</td>\n",
              "      <td>0.000000</td>\n",
              "      <td>4.821180e+03</td>\n",
              "      <td>0.000000</td>\n",
              "      <td>0.000000</td>\n",
              "      <td>0.000000</td>\n",
              "      <td>0.000000</td>\n",
              "      <td>0.000000</td>\n",
              "      <td>0.000000</td>\n",
              "      <td>0.0</td>\n",
              "      <td>0.000000</td>\n",
              "      <td>0.000000</td>\n",
              "      <td>-999.000000</td>\n",
              "      <td>0.000000</td>\n",
              "      <td>403.00</td>\n",
              "      <td>12001.000000</td>\n",
              "    </tr>\n",
              "    <tr>\n",
              "      <th>25%</th>\n",
              "      <td>270.000000</td>\n",
              "      <td>97.867036</td>\n",
              "      <td>0.252150</td>\n",
              "      <td>93.198353</td>\n",
              "      <td>0.220000</td>\n",
              "      <td>7519.502500</td>\n",
              "      <td>36.000000</td>\n",
              "      <td>10000.000000</td>\n",
              "      <td>4.501078e+04</td>\n",
              "      <td>17.000000</td>\n",
              "      <td>0.000000</td>\n",
              "      <td>0.000000</td>\n",
              "      <td>7.000000</td>\n",
              "      <td>8.000000</td>\n",
              "      <td>120.000000</td>\n",
              "      <td>0.0</td>\n",
              "      <td>1.000000</td>\n",
              "      <td>0.000000</td>\n",
              "      <td>11.000000</td>\n",
              "      <td>252.000000</td>\n",
              "      <td>50948.25</td>\n",
              "      <td>22937.000000</td>\n",
              "    </tr>\n",
              "    <tr>\n",
              "      <th>50%</th>\n",
              "      <td>340.000000</td>\n",
              "      <td>100.018900</td>\n",
              "      <td>0.500753</td>\n",
              "      <td>99.974796</td>\n",
              "      <td>0.290000</td>\n",
              "      <td>12023.465000</td>\n",
              "      <td>36.000000</td>\n",
              "      <td>25647.000000</td>\n",
              "      <td>6.126676e+04</td>\n",
              "      <td>32.000000</td>\n",
              "      <td>0.000000</td>\n",
              "      <td>0.000000</td>\n",
              "      <td>10.000000</td>\n",
              "      <td>10.000000</td>\n",
              "      <td>248.000000</td>\n",
              "      <td>0.0</td>\n",
              "      <td>2.000000</td>\n",
              "      <td>1.000000</td>\n",
              "      <td>27.000000</td>\n",
              "      <td>503.000000</td>\n",
              "      <td>101779.00</td>\n",
              "      <td>33896.000000</td>\n",
              "    </tr>\n",
              "    <tr>\n",
              "      <th>75%</th>\n",
              "      <td>420.000000</td>\n",
              "      <td>102.141797</td>\n",
              "      <td>0.748816</td>\n",
              "      <td>106.640275</td>\n",
              "      <td>0.360000</td>\n",
              "      <td>19220.270000</td>\n",
              "      <td>36.000000</td>\n",
              "      <td>47086.750000</td>\n",
              "      <td>8.601923e+04</td>\n",
              "      <td>50.000000</td>\n",
              "      <td>0.000000</td>\n",
              "      <td>0.000000</td>\n",
              "      <td>13.000000</td>\n",
              "      <td>14.000000</td>\n",
              "      <td>375.000000</td>\n",
              "      <td>0.0</td>\n",
              "      <td>2.000000</td>\n",
              "      <td>1.000000</td>\n",
              "      <td>43.000000</td>\n",
              "      <td>747.000000</td>\n",
              "      <td>151337.25</td>\n",
              "      <td>44910.000000</td>\n",
              "    </tr>\n",
              "    <tr>\n",
              "      <th>max</th>\n",
              "      <td>990.000000</td>\n",
              "      <td>113.978234</td>\n",
              "      <td>0.999973</td>\n",
              "      <td>142.192400</td>\n",
              "      <td>0.900000</td>\n",
              "      <td>35059.600000</td>\n",
              "      <td>60.000000</td>\n",
              "      <td>448269.000000</td>\n",
              "      <td>5.000028e+06</td>\n",
              "      <td>141.000000</td>\n",
              "      <td>5.000000</td>\n",
              "      <td>5.000000</td>\n",
              "      <td>49.000000</td>\n",
              "      <td>49.000000</td>\n",
              "      <td>500.000000</td>\n",
              "      <td>0.0</td>\n",
              "      <td>3.000000</td>\n",
              "      <td>1.000000</td>\n",
              "      <td>59.000000</td>\n",
              "      <td>1000.000000</td>\n",
              "      <td>inf</td>\n",
              "      <td>56000.000000</td>\n",
              "    </tr>\n",
              "  </tbody>\n",
              "</table>\n",
              "</div>\n",
              "    <div class=\"colab-df-buttons\">\n",
              "\n",
              "  <div class=\"colab-df-container\">\n",
              "    <button class=\"colab-df-convert\" onclick=\"convertToInteractive('df-080c1bd7-0aa7-4b3b-a208-49d93d19a691')\"\n",
              "            title=\"Convert this dataframe to an interactive table.\"\n",
              "            style=\"display:none;\">\n",
              "\n",
              "  <svg xmlns=\"http://www.w3.org/2000/svg\" height=\"24px\" viewBox=\"0 -960 960 960\">\n",
              "    <path d=\"M120-120v-720h720v720H120Zm60-500h600v-160H180v160Zm220 220h160v-160H400v160Zm0 220h160v-160H400v160ZM180-400h160v-160H180v160Zm440 0h160v-160H620v160ZM180-180h160v-160H180v160Zm440 0h160v-160H620v160Z\"/>\n",
              "  </svg>\n",
              "    </button>\n",
              "\n",
              "  <style>\n",
              "    .colab-df-container {\n",
              "      display:flex;\n",
              "      gap: 12px;\n",
              "    }\n",
              "\n",
              "    .colab-df-convert {\n",
              "      background-color: #E8F0FE;\n",
              "      border: none;\n",
              "      border-radius: 50%;\n",
              "      cursor: pointer;\n",
              "      display: none;\n",
              "      fill: #1967D2;\n",
              "      height: 32px;\n",
              "      padding: 0 0 0 0;\n",
              "      width: 32px;\n",
              "    }\n",
              "\n",
              "    .colab-df-convert:hover {\n",
              "      background-color: #E2EBFA;\n",
              "      box-shadow: 0px 1px 2px rgba(60, 64, 67, 0.3), 0px 1px 3px 1px rgba(60, 64, 67, 0.15);\n",
              "      fill: #174EA6;\n",
              "    }\n",
              "\n",
              "    .colab-df-buttons div {\n",
              "      margin-bottom: 4px;\n",
              "    }\n",
              "\n",
              "    [theme=dark] .colab-df-convert {\n",
              "      background-color: #3B4455;\n",
              "      fill: #D2E3FC;\n",
              "    }\n",
              "\n",
              "    [theme=dark] .colab-df-convert:hover {\n",
              "      background-color: #434B5C;\n",
              "      box-shadow: 0px 1px 3px 1px rgba(0, 0, 0, 0.15);\n",
              "      filter: drop-shadow(0px 1px 2px rgba(0, 0, 0, 0.3));\n",
              "      fill: #FFFFFF;\n",
              "    }\n",
              "  </style>\n",
              "\n",
              "    <script>\n",
              "      const buttonEl =\n",
              "        document.querySelector('#df-080c1bd7-0aa7-4b3b-a208-49d93d19a691 button.colab-df-convert');\n",
              "      buttonEl.style.display =\n",
              "        google.colab.kernel.accessAllowed ? 'block' : 'none';\n",
              "\n",
              "      async function convertToInteractive(key) {\n",
              "        const element = document.querySelector('#df-080c1bd7-0aa7-4b3b-a208-49d93d19a691');\n",
              "        const dataTable =\n",
              "          await google.colab.kernel.invokeFunction('convertToInteractive',\n",
              "                                                    [key], {});\n",
              "        if (!dataTable) return;\n",
              "\n",
              "        const docLinkHtml = 'Like what you see? Visit the ' +\n",
              "          '<a target=\"_blank\" href=https://colab.research.google.com/notebooks/data_table.ipynb>data table notebook</a>'\n",
              "          + ' to learn more about interactive tables.';\n",
              "        element.innerHTML = '';\n",
              "        dataTable['output_type'] = 'display_data';\n",
              "        await google.colab.output.renderOutput(dataTable, element);\n",
              "        const docLink = document.createElement('div');\n",
              "        docLink.innerHTML = docLinkHtml;\n",
              "        element.appendChild(docLink);\n",
              "      }\n",
              "    </script>\n",
              "  </div>\n",
              "\n",
              "\n",
              "<div id=\"df-6ed56af7-120f-4e4f-8367-18b5d36c5c36\">\n",
              "  <button class=\"colab-df-quickchart\" onclick=\"quickchart('df-6ed56af7-120f-4e4f-8367-18b5d36c5c36')\"\n",
              "            title=\"Suggest charts\"\n",
              "            style=\"display:none;\">\n",
              "\n",
              "<svg xmlns=\"http://www.w3.org/2000/svg\" height=\"24px\"viewBox=\"0 0 24 24\"\n",
              "     width=\"24px\">\n",
              "    <g>\n",
              "        <path d=\"M19 3H5c-1.1 0-2 .9-2 2v14c0 1.1.9 2 2 2h14c1.1 0 2-.9 2-2V5c0-1.1-.9-2-2-2zM9 17H7v-7h2v7zm4 0h-2V7h2v10zm4 0h-2v-4h2v4z\"/>\n",
              "    </g>\n",
              "</svg>\n",
              "  </button>\n",
              "\n",
              "<style>\n",
              "  .colab-df-quickchart {\n",
              "      --bg-color: #E8F0FE;\n",
              "      --fill-color: #1967D2;\n",
              "      --hover-bg-color: #E2EBFA;\n",
              "      --hover-fill-color: #174EA6;\n",
              "      --disabled-fill-color: #AAA;\n",
              "      --disabled-bg-color: #DDD;\n",
              "  }\n",
              "\n",
              "  [theme=dark] .colab-df-quickchart {\n",
              "      --bg-color: #3B4455;\n",
              "      --fill-color: #D2E3FC;\n",
              "      --hover-bg-color: #434B5C;\n",
              "      --hover-fill-color: #FFFFFF;\n",
              "      --disabled-bg-color: #3B4455;\n",
              "      --disabled-fill-color: #666;\n",
              "  }\n",
              "\n",
              "  .colab-df-quickchart {\n",
              "    background-color: var(--bg-color);\n",
              "    border: none;\n",
              "    border-radius: 50%;\n",
              "    cursor: pointer;\n",
              "    display: none;\n",
              "    fill: var(--fill-color);\n",
              "    height: 32px;\n",
              "    padding: 0;\n",
              "    width: 32px;\n",
              "  }\n",
              "\n",
              "  .colab-df-quickchart:hover {\n",
              "    background-color: var(--hover-bg-color);\n",
              "    box-shadow: 0 1px 2px rgba(60, 64, 67, 0.3), 0 1px 3px 1px rgba(60, 64, 67, 0.15);\n",
              "    fill: var(--button-hover-fill-color);\n",
              "  }\n",
              "\n",
              "  .colab-df-quickchart-complete:disabled,\n",
              "  .colab-df-quickchart-complete:disabled:hover {\n",
              "    background-color: var(--disabled-bg-color);\n",
              "    fill: var(--disabled-fill-color);\n",
              "    box-shadow: none;\n",
              "  }\n",
              "\n",
              "  .colab-df-spinner {\n",
              "    border: 2px solid var(--fill-color);\n",
              "    border-color: transparent;\n",
              "    border-bottom-color: var(--fill-color);\n",
              "    animation:\n",
              "      spin 1s steps(1) infinite;\n",
              "  }\n",
              "\n",
              "  @keyframes spin {\n",
              "    0% {\n",
              "      border-color: transparent;\n",
              "      border-bottom-color: var(--fill-color);\n",
              "      border-left-color: var(--fill-color);\n",
              "    }\n",
              "    20% {\n",
              "      border-color: transparent;\n",
              "      border-left-color: var(--fill-color);\n",
              "      border-top-color: var(--fill-color);\n",
              "    }\n",
              "    30% {\n",
              "      border-color: transparent;\n",
              "      border-left-color: var(--fill-color);\n",
              "      border-top-color: var(--fill-color);\n",
              "      border-right-color: var(--fill-color);\n",
              "    }\n",
              "    40% {\n",
              "      border-color: transparent;\n",
              "      border-right-color: var(--fill-color);\n",
              "      border-top-color: var(--fill-color);\n",
              "    }\n",
              "    60% {\n",
              "      border-color: transparent;\n",
              "      border-right-color: var(--fill-color);\n",
              "    }\n",
              "    80% {\n",
              "      border-color: transparent;\n",
              "      border-right-color: var(--fill-color);\n",
              "      border-bottom-color: var(--fill-color);\n",
              "    }\n",
              "    90% {\n",
              "      border-color: transparent;\n",
              "      border-bottom-color: var(--fill-color);\n",
              "    }\n",
              "  }\n",
              "</style>\n",
              "\n",
              "  <script>\n",
              "    async function quickchart(key) {\n",
              "      const quickchartButtonEl =\n",
              "        document.querySelector('#' + key + ' button');\n",
              "      quickchartButtonEl.disabled = true;  // To prevent multiple clicks.\n",
              "      quickchartButtonEl.classList.add('colab-df-spinner');\n",
              "      try {\n",
              "        const charts = await google.colab.kernel.invokeFunction(\n",
              "            'suggestCharts', [key], {});\n",
              "      } catch (error) {\n",
              "        console.error('Error during call to suggestCharts:', error);\n",
              "      }\n",
              "      quickchartButtonEl.classList.remove('colab-df-spinner');\n",
              "      quickchartButtonEl.classList.add('colab-df-quickchart-complete');\n",
              "    }\n",
              "    (() => {\n",
              "      let quickchartButtonEl =\n",
              "        document.querySelector('#df-6ed56af7-120f-4e4f-8367-18b5d36c5c36 button');\n",
              "      quickchartButtonEl.style.display =\n",
              "        google.colab.kernel.accessAllowed ? 'block' : 'none';\n",
              "    })();\n",
              "  </script>\n",
              "</div>\n",
              "\n",
              "    </div>\n",
              "  </div>\n"
            ],
            "application/vnd.google.colaboratory.intrinsic+json": {
              "type": "dataframe"
            }
          },
          "metadata": {},
          "execution_count": 12
        }
      ],
      "source": [
        "df.describe()"
      ]
    },
    {
      "cell_type": "markdown",
      "metadata": {
        "id": "7ENk9IHmQlT-"
      },
      "source": [
        "Com a tabela gerada acima conseguimos extrair muitas informações, vale lembrar que são apenas nossas variáveis numéricas, vamos falar de cada uma de forma separada:\n",
        "\n",
        "* `risk_rate` - Temos uma média de 29% de risco, onde o cliente com menor risco fica em 0% e já o maior com 90% e 50% dos clientes estão na média da pontuação de risco.\n",
        "\n",
        "* `last_amount_borrowed` - Com relação aos últimos emprestimos temos uma média de RS 13.782,00. E uma valor mínimo de RS 1005,00 porém este valor está errado, pois se olharmos a contagem temos apenas 15044 e isso significa que os outros valores são nulos, e isso significa que as pessoas não pegaram empréstimo e em vez de os valores serem 0 são NaN, então o valor mínimo é 0. Já o valor máximo é RS 35.059,00.\n",
        "\n",
        "* `last_borrowed_in_months` - O mesmo problema que apresentei na observação acima, temos para este. A menor quantidade de meses em que o cliente fez o último emprestimo não é 36 meses como consta acima e sim 0, pois se o cliente não pegou nenhum emprestimo, consequentemente não existe tempo. Já para o maior tempo temos 60 meses.\n",
        "\n",
        "* `credit_limit` - Aqui temos uma variáveis interessante, onde o valor médio do limite de cartão de credito dos clientes gira em torno dos RS 34.381,00 enquanto o valor máximo chega aos RS 448.269,00. Já o seu valor mínimo é igual a 0, e com isso podemos concluir que se trata de um cartão de débido.\n",
        "\n",
        "* `income` - Temos como valor mínimo RS 4.821,00 e valor máximo RS 5.000.028.000,00 (cinco bilhões), consguimos ver que são valores extremamente distantes e com isso nossa média vai lá pra cima, ficando em RS 716.000,000 o que não corresponde a um valor de média real, e por esse motivo iremos utilizar a mediana para termos uma noção, e ela é RS 61.266,00. Um valor bem menor quando se comparado com a média.\n",
        "\n",
        "* `reported_income` - Aqui se observarmos a média e o valor máximo, temos \"inf\" que significa infinito. Isso ocorre devido aos valores serem extremamente altos, então teremos que tratar essa variável.\n",
        "\n",
        "As demais variáveis não temos muitas informações sobre elas, então não iremos dar muitas explicações sobre as mesmas. E continuaremos com nossas análises.\n",
        "\n",
        "A seguir irei plotar alguns boxplots para darmos uma olhada nos outliers:"
      ]
    },
    {
      "cell_type": "code",
      "execution_count": 13,
      "metadata": {
        "colab": {
          "base_uri": "https://localhost:8080/",
          "height": 506
        },
        "id": "1-0-_QmFErkB",
        "outputId": "9b647ca8-e068-444e-ba8a-a2e0d7186f6c"
      },
      "outputs": [
        {
          "output_type": "display_data",
          "data": {
            "text/plain": [
              "<Figure size 1200x500 with 2 Axes>"
            ],
            "image/png": "[encoded data removed]"
          },
          "metadata": {}
        }
      ],
      "source": [
        "#Plotando BoxPlot de \"income\" e \"credit_limit\"\n",
        "fig, (ax1, ax2) = plt.subplots(2, 1, figsize=(12, 5))\n",
        "\n",
        "# 'credit_limit'\n",
        "sns.boxplot(df['income'], orient='h', showmeans=True,\n",
        "            palette=['#004a8f'], ax=ax1)\n",
        "ax1.set_title('Income', loc='left', fontsize=16,\n",
        "              color='#6d6e70', fontweight='bold', pad=20)\n",
        "ax1.set_yticks([])\n",
        "\n",
        "# 'income'\n",
        "sns.boxplot(df['credit_limit'], orient='h', showmeans=True,\n",
        "            palette=['#004a8f'], ax=ax2)\n",
        "ax2.set_title('Credit Limit', loc='left', fontsize=16,\n",
        "              color='#6d6e70', fontweight='bold', pad=20)\n",
        "ax2.set_yticks([])\n",
        "\n",
        "plt.tight_layout();"
      ]
    },
    {
      "cell_type": "markdown",
      "metadata": {
        "id": "xExXokEh4wWI"
      },
      "source": [
        "Como podemos ver, o `Income` possuí alguns valores extremamente altos e por isso até o nosso boxplot fica com uma distorção enorme, e com isso temos a certeza de que será necessário aplicar algumas transformações para os outliers.\n",
        "\n",
        "Já para `Credit Limit` temos valores muito altos também porém acredito que não seja nescessário remove-los, pois geralmente o limite de crédito costuma ser bem acima da renda do cliente, isso se ele possuir um bom histórico de pagador.\n",
        "\n",
        "Para tirarmos essa dúvida, a seguir irei pegar os 5 maiores valores de limite de crédito, e iremos verificar algumas variáveis...sendo a principal delas, com relação se o cliente foi inadimplente ou não, e com isso já podemos ter uma noção se os valores *outliers* são realmente dados por engano, ou se fazem parte de uma minoria de clientes que possuem uma renda alta."
      ]
    },
    {
      "cell_type": "code",
      "execution_count": 14,
      "metadata": {
        "colab": {
          "base_uri": "https://localhost:8080/",
          "height": 206
        },
        "id": "mX52XrDX5oR3",
        "outputId": "1e9d603f-55ae-4758-8d0c-ee90978b5e2d"
      },
      "outputs": [
        {
          "output_type": "execute_result",
          "data": {
            "text/plain": [
              "      target_default  risk_rate  last_amount_borrowed     income  credit_limit\n",
              "7744           False       0.42                   NaN   98035.41      430063.0\n",
              "10588          False       0.31                   NaN   75015.21      420613.0\n",
              "11152          False       0.07                   NaN  415018.68      429349.0\n",
              "12910          False       0.24              20810.52  131912.21      434506.0\n",
              "16250          False       0.17              16026.91  140012.96      448269.0"
            ],
            "text/html": [
              "\n",
              "  <div id=\"df-a5158d4b-b5d4-4ab6-aa17-f7cfc9e9657d\" class=\"colab-df-container\">\n",
              "    <div>\n",
              "<style scoped>\n",
              "    .dataframe tbody tr th:only-of-type {\n",
              "        vertical-align: middle;\n",
              "    }\n",
              "\n",
              "    .dataframe tbody tr th {\n",
              "        vertical-align: top;\n",
              "    }\n",
              "\n",
              "    .dataframe thead th {\n",
              "        text-align: right;\n",
              "    }\n",
              "</style>\n",
              "<table border=\"1\" class=\"dataframe\">\n",
              "  <thead>\n",
              "    <tr style=\"text-align: right;\">\n",
              "      <th></th>\n",
              "      <th>target_default</th>\n",
              "      <th>risk_rate</th>\n",
              "      <th>last_amount_borrowed</th>\n",
              "      <th>income</th>\n",
              "      <th>credit_limit</th>\n",
              "    </tr>\n",
              "  </thead>\n",
              "  <tbody>\n",
              "    <tr>\n",
              "      <th>7744</th>\n",
              "      <td>False</td>\n",
              "      <td>0.42</td>\n",
              "      <td>NaN</td>\n",
              "      <td>98035.41</td>\n",
              "      <td>430063.0</td>\n",
              "    </tr>\n",
              "    <tr>\n",
              "      <th>10588</th>\n",
              "      <td>False</td>\n",
              "      <td>0.31</td>\n",
              "      <td>NaN</td>\n",
              "      <td>75015.21</td>\n",
              "      <td>420613.0</td>\n",
              "    </tr>\n",
              "    <tr>\n",
              "      <th>11152</th>\n",
              "      <td>False</td>\n",
              "      <td>0.07</td>\n",
              "      <td>NaN</td>\n",
              "      <td>415018.68</td>\n",
              "      <td>429349.0</td>\n",
              "    </tr>\n",
              "    <tr>\n",
              "      <th>12910</th>\n",
              "      <td>False</td>\n",
              "      <td>0.24</td>\n",
              "      <td>20810.52</td>\n",
              "      <td>131912.21</td>\n",
              "      <td>434506.0</td>\n",
              "    </tr>\n",
              "    <tr>\n",
              "      <th>16250</th>\n",
              "      <td>False</td>\n",
              "      <td>0.17</td>\n",
              "      <td>16026.91</td>\n",
              "      <td>140012.96</td>\n",
              "      <td>448269.0</td>\n",
              "    </tr>\n",
              "  </tbody>\n",
              "</table>\n",
              "</div>\n",
              "    <div class=\"colab-df-buttons\">\n",
              "\n",
              "  <div class=\"colab-df-container\">\n",
              "    <button class=\"colab-df-convert\" onclick=\"convertToInteractive('df-a5158d4b-b5d4-4ab6-aa17-f7cfc9e9657d')\"\n",
              "            title=\"Convert this dataframe to an interactive table.\"\n",
              "            style=\"display:none;\">\n",
              "\n",
              "  <svg xmlns=\"http://www.w3.org/2000/svg\" height=\"24px\" viewBox=\"0 -960 960 960\">\n",
              "    <path d=\"M120-120v-720h720v720H120Zm60-500h600v-160H180v160Zm220 220h160v-160H400v160Zm0 220h160v-160H400v160ZM180-400h160v-160H180v160Zm440 0h160v-160H620v160ZM180-180h160v-160H180v160Zm440 0h160v-160H620v160Z\"/>\n",
              "  </svg>\n",
              "    </button>\n",
              "\n",
              "  <style>\n",
              "    .colab-df-container {\n",
              "      display:flex;\n",
              "      gap: 12px;\n",
              "    }\n",
              "\n",
              "    .colab-df-convert {\n",
              "      background-color: #E8F0FE;\n",
              "      border: none;\n",
              "      border-radius: 50%;\n",
              "      cursor: pointer;\n",
              "      display: none;\n",
              "      fill: #1967D2;\n",
              "      height: 32px;\n",
              "      padding: 0 0 0 0;\n",
              "      width: 32px;\n",
              "    }\n",
              "\n",
              "    .colab-df-convert:hover {\n",
              "      background-color: #E2EBFA;\n",
              "      box-shadow: 0px 1px 2px rgba(60, 64, 67, 0.3), 0px 1px 3px 1px rgba(60, 64, 67, 0.15);\n",
              "      fill: #174EA6;\n",
              "    }\n",
              "\n",
              "    .colab-df-buttons div {\n",
              "      margin-bottom: 4px;\n",
              "    }\n",
              "\n",
              "    [theme=dark] .colab-df-convert {\n",
              "      background-color: #3B4455;\n",
              "      fill: #D2E3FC;\n",
              "    }\n",
              "\n",
              "    [theme=dark] .colab-df-convert:hover {\n",
              "      background-color: #434B5C;\n",
              "      box-shadow: 0px 1px 3px 1px rgba(0, 0, 0, 0.15);\n",
              "      filter: drop-shadow(0px 1px 2px rgba(0, 0, 0, 0.3));\n",
              "      fill: #FFFFFF;\n",
              "    }\n",
              "  </style>\n",
              "\n",
              "    <script>\n",
              "      const buttonEl =\n",
              "        document.querySelector('#df-a5158d4b-b5d4-4ab6-aa17-f7cfc9e9657d button.colab-df-convert');\n",
              "      buttonEl.style.display =\n",
              "        google.colab.kernel.accessAllowed ? 'block' : 'none';\n",
              "\n",
              "      async function convertToInteractive(key) {\n",
              "        const element = document.querySelector('#df-a5158d4b-b5d4-4ab6-aa17-f7cfc9e9657d');\n",
              "        const dataTable =\n",
              "          await google.colab.kernel.invokeFunction('convertToInteractive',\n",
              "                                                    [key], {});\n",
              "        if (!dataTable) return;\n",
              "\n",
              "        const docLinkHtml = 'Like what you see? Visit the ' +\n",
              "          '<a target=\"_blank\" href=https://colab.research.google.com/notebooks/data_table.ipynb>data table notebook</a>'\n",
              "          + ' to learn more about interactive tables.';\n",
              "        element.innerHTML = '';\n",
              "        dataTable['output_type'] = 'display_data';\n",
              "        await google.colab.output.renderOutput(dataTable, element);\n",
              "        const docLink = document.createElement('div');\n",
              "        docLink.innerHTML = docLinkHtml;\n",
              "        element.appendChild(docLink);\n",
              "      }\n",
              "    </script>\n",
              "  </div>\n",
              "\n",
              "\n",
              "<div id=\"df-aedd2667-55ca-4a33-a3e4-6ee25bba4f3e\">\n",
              "  <button class=\"colab-df-quickchart\" onclick=\"quickchart('df-aedd2667-55ca-4a33-a3e4-6ee25bba4f3e')\"\n",
              "            title=\"Suggest charts\"\n",
              "            style=\"display:none;\">\n",
              "\n",
              "<svg xmlns=\"http://www.w3.org/2000/svg\" height=\"24px\"viewBox=\"0 0 24 24\"\n",
              "     width=\"24px\">\n",
              "    <g>\n",
              "        <path d=\"M19 3H5c-1.1 0-2 .9-2 2v14c0 1.1.9 2 2 2h14c1.1 0 2-.9 2-2V5c0-1.1-.9-2-2-2zM9 17H7v-7h2v7zm4 0h-2V7h2v10zm4 0h-2v-4h2v4z\"/>\n",
              "    </g>\n",
              "</svg>\n",
              "  </button>\n",
              "\n",
              "<style>\n",
              "  .colab-df-quickchart {\n",
              "      --bg-color: #E8F0FE;\n",
              "      --fill-color: #1967D2;\n",
              "      --hover-bg-color: #E2EBFA;\n",
              "      --hover-fill-color: #174EA6;\n",
              "      --disabled-fill-color: #AAA;\n",
              "      --disabled-bg-color: #DDD;\n",
              "  }\n",
              "\n",
              "  [theme=dark] .colab-df-quickchart {\n",
              "      --bg-color: #3B4455;\n",
              "      --fill-color: #D2E3FC;\n",
              "      --hover-bg-color: #434B5C;\n",
              "      --hover-fill-color: #FFFFFF;\n",
              "      --disabled-bg-color: #3B4455;\n",
              "      --disabled-fill-color: #666;\n",
              "  }\n",
              "\n",
              "  .colab-df-quickchart {\n",
              "    background-color: var(--bg-color);\n",
              "    border: none;\n",
              "    border-radius: 50%;\n",
              "    cursor: pointer;\n",
              "    display: none;\n",
              "    fill: var(--fill-color);\n",
              "    height: 32px;\n",
              "    padding: 0;\n",
              "    width: 32px;\n",
              "  }\n",
              "\n",
              "  .colab-df-quickchart:hover {\n",
              "    background-color: var(--hover-bg-color);\n",
              "    box-shadow: 0 1px 2px rgba(60, 64, 67, 0.3), 0 1px 3px 1px rgba(60, 64, 67, 0.15);\n",
              "    fill: var(--button-hover-fill-color);\n",
              "  }\n",
              "\n",
              "  .colab-df-quickchart-complete:disabled,\n",
              "  .colab-df-quickchart-complete:disabled:hover {\n",
              "    background-color: var(--disabled-bg-color);\n",
              "    fill: var(--disabled-fill-color);\n",
              "    box-shadow: none;\n",
              "  }\n",
              "\n",
              "  .colab-df-spinner {\n",
              "    border: 2px solid var(--fill-color);\n",
              "    border-color: transparent;\n",
              "    border-bottom-color: var(--fill-color);\n",
              "    animation:\n",
              "      spin 1s steps(1) infinite;\n",
              "  }\n",
              "\n",
              "  @keyframes spin {\n",
              "    0% {\n",
              "      border-color: transparent;\n",
              "      border-bottom-color: var(--fill-color);\n",
              "      border-left-color: var(--fill-color);\n",
              "    }\n",
              "    20% {\n",
              "      border-color: transparent;\n",
              "      border-left-color: var(--fill-color);\n",
              "      border-top-color: var(--fill-color);\n",
              "    }\n",
              "    30% {\n",
              "      border-color: transparent;\n",
              "      border-left-color: var(--fill-color);\n",
              "      border-top-color: var(--fill-color);\n",
              "      border-right-color: var(--fill-color);\n",
              "    }\n",
              "    40% {\n",
              "      border-color: transparent;\n",
              "      border-right-color: var(--fill-color);\n",
              "      border-top-color: var(--fill-color);\n",
              "    }\n",
              "    60% {\n",
              "      border-color: transparent;\n",
              "      border-right-color: var(--fill-color);\n",
              "    }\n",
              "    80% {\n",
              "      border-color: transparent;\n",
              "      border-right-color: var(--fill-color);\n",
              "      border-bottom-color: var(--fill-color);\n",
              "    }\n",
              "    90% {\n",
              "      border-color: transparent;\n",
              "      border-bottom-color: var(--fill-color);\n",
              "    }\n",
              "  }\n",
              "</style>\n",
              "\n",
              "  <script>\n",
              "    async function quickchart(key) {\n",
              "      const quickchartButtonEl =\n",
              "        document.querySelector('#' + key + ' button');\n",
              "      quickchartButtonEl.disabled = true;  // To prevent multiple clicks.\n",
              "      quickchartButtonEl.classList.add('colab-df-spinner');\n",
              "      try {\n",
              "        const charts = await google.colab.kernel.invokeFunction(\n",
              "            'suggestCharts', [key], {});\n",
              "      } catch (error) {\n",
              "        console.error('Error during call to suggestCharts:', error);\n",
              "      }\n",
              "      quickchartButtonEl.classList.remove('colab-df-spinner');\n",
              "      quickchartButtonEl.classList.add('colab-df-quickchart-complete');\n",
              "    }\n",
              "    (() => {\n",
              "      let quickchartButtonEl =\n",
              "        document.querySelector('#df-aedd2667-55ca-4a33-a3e4-6ee25bba4f3e button');\n",
              "      quickchartButtonEl.style.display =\n",
              "        google.colab.kernel.accessAllowed ? 'block' : 'none';\n",
              "    })();\n",
              "  </script>\n",
              "</div>\n",
              "\n",
              "    </div>\n",
              "  </div>\n"
            ],
            "application/vnd.google.colaboratory.intrinsic+json": {
              "type": "dataframe",
              "summary": "{\n  \"name\": \"df[colunas][df['credit_limit']\",\n  \"rows\": 5,\n  \"fields\": [\n    {\n      \"column\": \"target_default\",\n      \"properties\": {\n        \"dtype\": \"category\",\n        \"num_unique_values\": 1,\n        \"samples\": [\n          false\n        ],\n        \"semantic_type\": \"\",\n        \"description\": \"\"\n      }\n    },\n    {\n      \"column\": \"risk_rate\",\n      \"properties\": {\n        \"dtype\": \"number\",\n        \"std\": 0.13330416347586446,\n        \"min\": 0.07,\n        \"max\": 0.42,\n        \"num_unique_values\": 5,\n        \"samples\": [\n          0.31\n        ],\n        \"semantic_type\": \"\",\n        \"description\": \"\"\n      }\n    },\n    {\n      \"column\": \"last_amount_borrowed\",\n      \"properties\": {\n        \"dtype\": \"number\",\n        \"std\": 3382.5230695517807,\n        \"min\": 16026.91,\n        \"max\": 20810.52,\n        \"num_unique_values\": 2,\n        \"samples\": [\n          16026.91\n        ],\n        \"semantic_type\": \"\",\n        \"description\": \"\"\n      }\n    },\n    {\n      \"column\": \"income\",\n      \"properties\": {\n        \"dtype\": \"number\",\n        \"std\": 138351.98817064767,\n        \"min\": 75015.21,\n        \"max\": 415018.68,\n        \"num_unique_values\": 5,\n        \"samples\": [\n          75015.21\n        ],\n        \"semantic_type\": \"\",\n        \"description\": \"\"\n      }\n    },\n    {\n      \"column\": \"credit_limit\",\n      \"properties\": {\n        \"dtype\": \"number\",\n        \"std\": 10122.202527118296,\n        \"min\": 420613.0,\n        \"max\": 448269.0,\n        \"num_unique_values\": 5,\n        \"samples\": [\n          420613.0\n        ],\n        \"semantic_type\": \"\",\n        \"description\": \"\"\n      }\n    }\n  ]\n}"
            }
          },
          "metadata": {},
          "execution_count": 14
        }
      ],
      "source": [
        "#Pegandos os 5 maiores limites de crédito\n",
        "colunas = ['target_default', 'risk_rate', 'last_amount_borrowed','income','credit_limit']\n",
        "df[colunas][df['credit_limit'].isin([448269.0, 434506.0,  430063.0,  429349.0, 420613.0])]"
      ]
    },
    {
      "cell_type": "markdown",
      "metadata": {
        "id": "s6y6Zm8wAot8"
      },
      "source": [
        "Com essa tabela, conseguimos perceber que os 5 clientes que possuem os maiores limites de crédito não foram inadimplentes. E podemos também observar que, os clientes que fizeram emprestimo e não foram *default* o banco classifica com um risco menor do que os clientes que nunca fizeram um emprestimo.\n",
        "\n",
        "Após esta análise, podemos concluir que não será necessário fazer um tratamento de outliers em `credit_limit`.\n",
        "\n",
        "<br>\n",
        "\n",
        "Mais uma coisa que gostaria de dar uma olhada, seria em um boxplot de `income` removendo os 10 maiores valores, só para vermos o quão distorcido está nosso boxplot acima. E essa será uma tranformação que irei fazer de forma definitiva mais a frente, por enquanto será apenas para darmos uma olhada e comparar."
      ]
    },
    {
      "cell_type": "code",
      "execution_count": 15,
      "metadata": {
        "colab": {
          "base_uri": "https://localhost:8080/",
          "height": 449
        },
        "id": "tEfTxlLuBfCn",
        "outputId": "d75c6bab-7250-455c-d588-24214ceabe7b"
      },
      "outputs": [
        {
          "output_type": "execute_result",
          "data": {
            "text/plain": [
              "[]"
            ]
          },
          "metadata": {},
          "execution_count": 15
        },
        {
          "output_type": "display_data",
          "data": {
            "text/plain": [
              "<Figure size 1400x400 with 1 Axes>"
            ],
            "image/png": "[encoded data removed]"
          },
          "metadata": {}
        }
      ],
      "source": [
        "#Excluindo os 10 maiores valores\n",
        "income_10 = df.nlargest(n=10, columns='income')\n",
        "df_teste = df.copy()\n",
        "df_teste = df_teste.drop(income_10.index)\n",
        "\n",
        "#Vizualizando a distribuição dos valores\n",
        "mean = df_teste['income'].mean()\n",
        "median = df_teste['income'].median()\n",
        "\n",
        "#Plotando novamente o BoxPlot de \"income\"\n",
        "fig, ax = plt.subplots(figsize=(14, 4))\n",
        "\n",
        "sns.boxplot(df_teste['income'], orient='h', showmeans=True,\n",
        "            palette=['#004a8f'], ax=ax)\n",
        "plt.axvline(mean, color='red', linestyle='dashed', linewidth=2, label=f'Média: R$ {mean:.2f}')\n",
        "plt.axvline(median, color='green', linestyle='dashed', linewidth=2, label=f'Média: R$ {median:.2f}')\n",
        "plt.legend()\n",
        "ax.set_title('Income', loc='left', fontsize=16,\n",
        "              color='#6d6e70', fontweight='bold', pad=20)\n",
        "ax.set_yticks([])"
      ]
    },
    {
      "cell_type": "markdown",
      "metadata": {
        "id": "atm7mnjXFmaq"
      },
      "source": [
        "Agora sim! Conseguimos dar uma olhada melhor, e podemos ver que ainda existem cliente com renda na faixa dos RS 600.000,00. Lembrando que não alteramos de fato em nosso dataframe original, irei fazer isso quando for fazer todas as transformações necessárias.\n",
        "\n",
        "<br>\n",
        "\n",
        "Próximo passo é ver como está distribuída nossa classe alvo(target) que será utilizada em nosso modelo de machine learning, que será a `target_default`. Precisamos checar pois se caso uma das classes estiver superior a outra, será necessário balancea-las para que fiquem igualmente distribuídas.\n",
        "\n",
        "Isso por que se não balancearmos, ela irá influenciar e muito nos resultados de nossos modelos, e assim não será um modelo nada eficaz."
      ]
    },
    {
      "cell_type": "code",
      "execution_count": 16,
      "metadata": {
        "colab": {
          "base_uri": "https://localhost:8080/",
          "height": 468
        },
        "id": "2FMDcylRpdLF",
        "outputId": "9622b82f-6141-4bc2-84b7-ec8c3bb1a4e9"
      },
      "outputs": [
        {
          "output_type": "display_data",
          "data": {
            "text/plain": [
              "<Figure size 600x500 with 1 Axes>"
            ],
            "image/png": "[encoded data removed]"
          },
          "metadata": {}
        }
      ],
      "source": [
        "#Verificando a distribuição de classes\n",
        "fig, ax = plt.subplots(figsize=(6, 5))\n",
        "\n",
        "#Setando os dados\n",
        "labels = ['Não-Default', 'Default']\n",
        "y = df['target_default'].value_counts()\n",
        "colors = ['#1f77b4', '#e1812c']\n",
        "\n",
        "ax.bar(labels, y, color=colors)\n",
        "ax.text(-0.10, 35300, '85.2%', fontsize=12, color='black')\n",
        "ax.text(0.9, 7000, '14.8%', fontsize=12, color=\"black\")\n",
        "ax.set_title('Proporção de Clientes')\n",
        "\n",
        "plt.show()"
      ]
    },
    {
      "cell_type": "markdown",
      "metadata": {
        "id": "JaCmxSA9wJF5"
      },
      "source": [
        "Temos uma diferença, e muito grande! Podemos observar que cerca de 85% de nossos clientes são `Não-Default` ou seja, não foram inadimplentes. Já para os `Default` temos por volta de 15%, indicando que foram inadimplentes. Com essas informações sabemos que iremos precisar fazer um balanceamento de classes, para que nosso modelo seja o mais confiável possível.\n",
        "\n",
        "Próximo passo é começar a fazermos as transformações necessárias."
      ]
    },
    {
      "cell_type": "markdown",
      "metadata": {
        "id": "Ll2I1ubdxbza"
      },
      "source": [
        "## Transformações dos Dados\n",
        "\n",
        "Nesta etapa, será feito todas as transformações e limpeza nos dados que apontei na etapa anterior, com o objetivo de melhorar a qualidade de nossos dados e obter melhores resultados ao final do projeto. E essas transformações serão:\n",
        "\n",
        "* Excluir variáveis que não agregam valor\n",
        "* Remover os valores nulos e alterar os dados de: `target_default` e `facebook_profile`\n",
        "* Tratamento de valores ausentes\n",
        "* Tratar a variável `email`\n",
        "* Remover outliers de `income`\n",
        "\n",
        "Acima listei todas as transformações que iremos fazer, além disso também se perceberem...não coloquei que irei balancear nossa classe de clientes inadimplentes, isso por que se trata de uma etapa relacioanda ao \"Pré-Processamento dos Dados\", onde é uma parte com o foco em adaptar melhor os dados para aplicarmos em nossos algoritmos.\n",
        "\n",
        "Então vamos começar as limpezas e transformações:"
      ]
    },
    {
      "cell_type": "markdown",
      "metadata": {
        "id": "hJduqEqf7eyc"
      },
      "source": [
        "Antes irei criar uma cópia de nosso dataframe original, caso queiramos voltar aos dados originais, conseguimos fazer sem dificuldades."
      ]
    },
    {
      "cell_type": "code",
      "execution_count": 17,
      "metadata": {
        "id": "R3oM1nxW7s_P"
      },
      "outputs": [],
      "source": [
        "#Fazendo uma cópia do Dataframe original\n",
        "df_clean = df.copy()"
      ]
    },
    {
      "cell_type": "markdown",
      "metadata": {
        "id": "NCJHOmJm6TYB"
      },
      "source": [
        "### 1. Excluir variáveis que não agregam valor\n",
        "\n",
        "Aqui irei excluir algumas variáveis que não idicam nada e que serão informações desnessárias para nosso modelo. Essas variáveis são: *ids*, *profile_phone_number*, *target_fraud*, *external_data_provider_credit_checks_last_2_year*,\n",
        "*channel*, *application_time_applied*."
      ]
    },
    {
      "cell_type": "code",
      "execution_count": 18,
      "metadata": {
        "colab": {
          "base_uri": "https://localhost:8080/",
          "height": 306
        },
        "id": "fowgbaXzsnMk",
        "outputId": "2eedad09-e8be-45d9-962b-883d9b78cb0b"
      },
      "outputs": [
        {
          "output_type": "execute_result",
          "data": {
            "text/plain": [
              "  target_default                   score_1                   score_2  score_3  \\\n",
              "0          False  1Rk8w4Ucd5yR3KcqZzLdow==  IOVu8au3ISbo6+zmfnYwMg==    350.0   \n",
              "1          False  DGCQep2AE5QRkNCshIAlFQ==  SaamrHMo23l/3TwXOWgVzw==    370.0   \n",
              "\n",
              "      score_4   score_5     score_6  risk_rate  last_amount_borrowed  \\\n",
              "0  101.800832  0.259555  108.427273       0.40              25033.92   \n",
              "1   97.062615  0.942655   92.002546       0.24                   NaN   \n",
              "\n",
              "   last_borrowed_in_months  credit_limit  \\\n",
              "0                     36.0           0.0   \n",
              "1                      NaN       39726.0   \n",
              "\n",
              "                                              reason     income  \\\n",
              "0  mLVIVxoGY7TUDJ1FyFoSIZi1SFcaBmO01AydRchaEiGYtU...   65014.12   \n",
              "1  mLVIVxoGY7TUDJ1FyFoSIZi1SFcaBmO01AydRchaEiGYtU...  100018.91   \n",
              "\n",
              "  facebook_profile                     state                       zip  \\\n",
              "0             True  sjJbkqJS7cXalHLBFA+EOQ==  Ernn+uVXCMq/6ARrBCcd+A==   \n",
              "1            False  xsd3ZdsI3356I3xMxZeiqQ==  rlWIXTBO+VOa34+SpGyhlQ==   \n",
              "\n",
              "                                            job_name  \\\n",
              "0  mLVIVxoGY7TUDJ1FyFoSIZi1SFcaBmO01AydRchaEiGYtU...   \n",
              "1  mLVIVxoGY7TUDJ1FyFoSIZi1SFcaBmO01AydRchaEiGYtU...   \n",
              "\n",
              "                 real_state  ok_since  n_bankruptcies  n_defaulted_loans  \\\n",
              "0  N5/CE7lSkAfB04hVFFwllw==       NaN             0.0                0.0   \n",
              "1  N5/CE7lSkAfB04hVFFwllw==      50.0             0.0                0.0   \n",
              "\n",
              "   n_accounts  n_issues  application_time_in_funnel        email  \\\n",
              "0        18.0      18.0                         444  outlook.com   \n",
              "1        14.0      14.0                         346    gmail.com   \n",
              "\n",
              "   external_data_provider_credit_checks_last_month  \\\n",
              "0                                                2   \n",
              "1                                                1   \n",
              "\n",
              "   external_data_provider_credit_checks_last_year  \\\n",
              "0                                             0.0   \n",
              "1                                             0.0   \n",
              "\n",
              "   external_data_provider_email_seen_before external_data_provider_first_name  \\\n",
              "0                                      51.0                        leidelaura   \n",
              "1                                      17.0                          diocezio   \n",
              "\n",
              "   external_data_provider_fraud_score  \\\n",
              "0                                 645   \n",
              "1                                 243   \n",
              "\n",
              "                                     lat_lon marketing_channel  \\\n",
              "0   (-29.151545708122246, -51.1386461804385)      Invite-email   \n",
              "1  (-19.687710705798963, -47.94151536525154)  Radio-commercial   \n",
              "\n",
              "   reported_income shipping_state  shipping_zip_code  \\\n",
              "0          57849.0          BR-MT              17528   \n",
              "1           4902.0          BR-RS              40933   \n",
              "\n",
              "                    profile_tags  \\\n",
              "0        {'tags': ['n19', 'n8']}   \n",
              "1  {'tags': ['n6', 'n7', 'nim']}   \n",
              "\n",
              "                                          user_agent  \n",
              "0  Mozilla/5.0 (Linux; Android 6.0.1; SGP771 Buil...  \n",
              "1  Mozilla/5.0 (Linux; Android 5.0.2; SAMSUNG SM-...  "
            ],
            "text/html": [
              "\n",
              "  <div id=\"df-e142486d-54df-494b-8cea-5cc8ddc57f22\" class=\"colab-df-container\">\n",
              "    <div>\n",
              "<style scoped>\n",
              "    .dataframe tbody tr th:only-of-type {\n",
              "        vertical-align: middle;\n",
              "    }\n",
              "\n",
              "    .dataframe tbody tr th {\n",
              "        vertical-align: top;\n",
              "    }\n",
              "\n",
              "    .dataframe thead th {\n",
              "        text-align: right;\n",
              "    }\n",
              "</style>\n",
              "<table border=\"1\" class=\"dataframe\">\n",
              "  <thead>\n",
              "    <tr style=\"text-align: right;\">\n",
              "      <th></th>\n",
              "      <th>target_default</th>\n",
              "      <th>score_1</th>\n",
              "      <th>score_2</th>\n",
              "      <th>score_3</th>\n",
              "      <th>score_4</th>\n",
              "      <th>score_5</th>\n",
              "      <th>score_6</th>\n",
              "      <th>risk_rate</th>\n",
              "      <th>last_amount_borrowed</th>\n",
              "      <th>last_borrowed_in_months</th>\n",
              "      <th>credit_limit</th>\n",
              "      <th>reason</th>\n",
              "      <th>income</th>\n",
              "      <th>facebook_profile</th>\n",
              "      <th>state</th>\n",
              "      <th>zip</th>\n",
              "      <th>job_name</th>\n",
              "      <th>real_state</th>\n",
              "      <th>ok_since</th>\n",
              "      <th>n_bankruptcies</th>\n",
              "      <th>n_defaulted_loans</th>\n",
              "      <th>n_accounts</th>\n",
              "      <th>n_issues</th>\n",
              "      <th>application_time_in_funnel</th>\n",
              "      <th>email</th>\n",
              "      <th>external_data_provider_credit_checks_last_month</th>\n",
              "      <th>external_data_provider_credit_checks_last_year</th>\n",
              "      <th>external_data_provider_email_seen_before</th>\n",
              "      <th>external_data_provider_first_name</th>\n",
              "      <th>external_data_provider_fraud_score</th>\n",
              "      <th>lat_lon</th>\n",
              "      <th>marketing_channel</th>\n",
              "      <th>reported_income</th>\n",
              "      <th>shipping_state</th>\n",
              "      <th>shipping_zip_code</th>\n",
              "      <th>profile_tags</th>\n",
              "      <th>user_agent</th>\n",
              "    </tr>\n",
              "  </thead>\n",
              "  <tbody>\n",
              "    <tr>\n",
              "      <th>0</th>\n",
              "      <td>False</td>\n",
              "      <td>1Rk8w4Ucd5yR3KcqZzLdow==</td>\n",
              "      <td>IOVu8au3ISbo6+zmfnYwMg==</td>\n",
              "      <td>350.0</td>\n",
              "      <td>101.800832</td>\n",
              "      <td>0.259555</td>\n",
              "      <td>108.427273</td>\n",
              "      <td>0.40</td>\n",
              "      <td>25033.92</td>\n",
              "      <td>36.0</td>\n",
              "      <td>0.0</td>\n",
              "      <td>mLVIVxoGY7TUDJ1FyFoSIZi1SFcaBmO01AydRchaEiGYtU...</td>\n",
              "      <td>65014.12</td>\n",
              "      <td>True</td>\n",
              "      <td>sjJbkqJS7cXalHLBFA+EOQ==</td>\n",
              "      <td>Ernn+uVXCMq/6ARrBCcd+A==</td>\n",
              "      <td>mLVIVxoGY7TUDJ1FyFoSIZi1SFcaBmO01AydRchaEiGYtU...</td>\n",
              "      <td>N5/CE7lSkAfB04hVFFwllw==</td>\n",
              "      <td>NaN</td>\n",
              "      <td>0.0</td>\n",
              "      <td>0.0</td>\n",
              "      <td>18.0</td>\n",
              "      <td>18.0</td>\n",
              "      <td>444</td>\n",
              "      <td>outlook.com</td>\n",
              "      <td>2</td>\n",
              "      <td>0.0</td>\n",
              "      <td>51.0</td>\n",
              "      <td>leidelaura</td>\n",
              "      <td>645</td>\n",
              "      <td>(-29.151545708122246, -51.1386461804385)</td>\n",
              "      <td>Invite-email</td>\n",
              "      <td>57849.0</td>\n",
              "      <td>BR-MT</td>\n",
              "      <td>17528</td>\n",
              "      <td>{'tags': ['n19', 'n8']}</td>\n",
              "      <td>Mozilla/5.0 (Linux; Android 6.0.1; SGP771 Buil...</td>\n",
              "    </tr>\n",
              "    <tr>\n",
              "      <th>1</th>\n",
              "      <td>False</td>\n",
              "      <td>DGCQep2AE5QRkNCshIAlFQ==</td>\n",
              "      <td>SaamrHMo23l/3TwXOWgVzw==</td>\n",
              "      <td>370.0</td>\n",
              "      <td>97.062615</td>\n",
              "      <td>0.942655</td>\n",
              "      <td>92.002546</td>\n",
              "      <td>0.24</td>\n",
              "      <td>NaN</td>\n",
              "      <td>NaN</td>\n",
              "      <td>39726.0</td>\n",
              "      <td>mLVIVxoGY7TUDJ1FyFoSIZi1SFcaBmO01AydRchaEiGYtU...</td>\n",
              "      <td>100018.91</td>\n",
              "      <td>False</td>\n",
              "      <td>xsd3ZdsI3356I3xMxZeiqQ==</td>\n",
              "      <td>rlWIXTBO+VOa34+SpGyhlQ==</td>\n",
              "      <td>mLVIVxoGY7TUDJ1FyFoSIZi1SFcaBmO01AydRchaEiGYtU...</td>\n",
              "      <td>N5/CE7lSkAfB04hVFFwllw==</td>\n",
              "      <td>50.0</td>\n",
              "      <td>0.0</td>\n",
              "      <td>0.0</td>\n",
              "      <td>14.0</td>\n",
              "      <td>14.0</td>\n",
              "      <td>346</td>\n",
              "      <td>gmail.com</td>\n",
              "      <td>1</td>\n",
              "      <td>0.0</td>\n",
              "      <td>17.0</td>\n",
              "      <td>diocezio</td>\n",
              "      <td>243</td>\n",
              "      <td>(-19.687710705798963, -47.94151536525154)</td>\n",
              "      <td>Radio-commercial</td>\n",
              "      <td>4902.0</td>\n",
              "      <td>BR-RS</td>\n",
              "      <td>40933</td>\n",
              "      <td>{'tags': ['n6', 'n7', 'nim']}</td>\n",
              "      <td>Mozilla/5.0 (Linux; Android 5.0.2; SAMSUNG SM-...</td>\n",
              "    </tr>\n",
              "  </tbody>\n",
              "</table>\n",
              "</div>\n",
              "    <div class=\"colab-df-buttons\">\n",
              "\n",
              "  <div class=\"colab-df-container\">\n",
              "    <button class=\"colab-df-convert\" onclick=\"convertToInteractive('df-e142486d-54df-494b-8cea-5cc8ddc57f22')\"\n",
              "            title=\"Convert this dataframe to an interactive table.\"\n",
              "            style=\"display:none;\">\n",
              "\n",
              "  <svg xmlns=\"http://www.w3.org/2000/svg\" height=\"24px\" viewBox=\"0 -960 960 960\">\n",
              "    <path d=\"M120-120v-720h720v720H120Zm60-500h600v-160H180v160Zm220 220h160v-160H400v160Zm0 220h160v-160H400v160ZM180-400h160v-160H180v160Zm440 0h160v-160H620v160ZM180-180h160v-160H180v160Zm440 0h160v-160H620v160Z\"/>\n",
              "  </svg>\n",
              "    </button>\n",
              "\n",
              "  <style>\n",
              "    .colab-df-container {\n",
              "      display:flex;\n",
              "      gap: 12px;\n",
              "    }\n",
              "\n",
              "    .colab-df-convert {\n",
              "      background-color: #E8F0FE;\n",
              "      border: none;\n",
              "      border-radius: 50%;\n",
              "      cursor: pointer;\n",
              "      display: none;\n",
              "      fill: #1967D2;\n",
              "      height: 32px;\n",
              "      padding: 0 0 0 0;\n",
              "      width: 32px;\n",
              "    }\n",
              "\n",
              "    .colab-df-convert:hover {\n",
              "      background-color: #E2EBFA;\n",
              "      box-shadow: 0px 1px 2px rgba(60, 64, 67, 0.3), 0px 1px 3px 1px rgba(60, 64, 67, 0.15);\n",
              "      fill: #174EA6;\n",
              "    }\n",
              "\n",
              "    .colab-df-buttons div {\n",
              "      margin-bottom: 4px;\n",
              "    }\n",
              "\n",
              "    [theme=dark] .colab-df-convert {\n",
              "      background-color: #3B4455;\n",
              "      fill: #D2E3FC;\n",
              "    }\n",
              "\n",
              "    [theme=dark] .colab-df-convert:hover {\n",
              "      background-color: #434B5C;\n",
              "      box-shadow: 0px 1px 3px 1px rgba(0, 0, 0, 0.15);\n",
              "      filter: drop-shadow(0px 1px 2px rgba(0, 0, 0, 0.3));\n",
              "      fill: #FFFFFF;\n",
              "    }\n",
              "  </style>\n",
              "\n",
              "    <script>\n",
              "      const buttonEl =\n",
              "        document.querySelector('#df-e142486d-54df-494b-8cea-5cc8ddc57f22 button.colab-df-convert');\n",
              "      buttonEl.style.display =\n",
              "        google.colab.kernel.accessAllowed ? 'block' : 'none';\n",
              "\n",
              "      async function convertToInteractive(key) {\n",
              "        const element = document.querySelector('#df-e142486d-54df-494b-8cea-5cc8ddc57f22');\n",
              "        const dataTable =\n",
              "          await google.colab.kernel.invokeFunction('convertToInteractive',\n",
              "                                                    [key], {});\n",
              "        if (!dataTable) return;\n",
              "\n",
              "        const docLinkHtml = 'Like what you see? Visit the ' +\n",
              "          '<a target=\"_blank\" href=https://colab.research.google.com/notebooks/data_table.ipynb>data table notebook</a>'\n",
              "          + ' to learn more about interactive tables.';\n",
              "        element.innerHTML = '';\n",
              "        dataTable['output_type'] = 'display_data';\n",
              "        await google.colab.output.renderOutput(dataTable, element);\n",
              "        const docLink = document.createElement('div');\n",
              "        docLink.innerHTML = docLinkHtml;\n",
              "        element.appendChild(docLink);\n",
              "      }\n",
              "    </script>\n",
              "  </div>\n",
              "\n",
              "\n",
              "<div id=\"df-2f1b8ad6-be2f-44db-93bc-824e3d4aad9c\">\n",
              "  <button class=\"colab-df-quickchart\" onclick=\"quickchart('df-2f1b8ad6-be2f-44db-93bc-824e3d4aad9c')\"\n",
              "            title=\"Suggest charts\"\n",
              "            style=\"display:none;\">\n",
              "\n",
              "<svg xmlns=\"http://www.w3.org/2000/svg\" height=\"24px\"viewBox=\"0 0 24 24\"\n",
              "     width=\"24px\">\n",
              "    <g>\n",
              "        <path d=\"M19 3H5c-1.1 0-2 .9-2 2v14c0 1.1.9 2 2 2h14c1.1 0 2-.9 2-2V5c0-1.1-.9-2-2-2zM9 17H7v-7h2v7zm4 0h-2V7h2v10zm4 0h-2v-4h2v4z\"/>\n",
              "    </g>\n",
              "</svg>\n",
              "  </button>\n",
              "\n",
              "<style>\n",
              "  .colab-df-quickchart {\n",
              "      --bg-color: #E8F0FE;\n",
              "      --fill-color: #1967D2;\n",
              "      --hover-bg-color: #E2EBFA;\n",
              "      --hover-fill-color: #174EA6;\n",
              "      --disabled-fill-color: #AAA;\n",
              "      --disabled-bg-color: #DDD;\n",
              "  }\n",
              "\n",
              "  [theme=dark] .colab-df-quickchart {\n",
              "      --bg-color: #3B4455;\n",
              "      --fill-color: #D2E3FC;\n",
              "      --hover-bg-color: #434B5C;\n",
              "      --hover-fill-color: #FFFFFF;\n",
              "      --disabled-bg-color: #3B4455;\n",
              "      --disabled-fill-color: #666;\n",
              "  }\n",
              "\n",
              "  .colab-df-quickchart {\n",
              "    background-color: var(--bg-color);\n",
              "    border: none;\n",
              "    border-radius: 50%;\n",
              "    cursor: pointer;\n",
              "    display: none;\n",
              "    fill: var(--fill-color);\n",
              "    height: 32px;\n",
              "    padding: 0;\n",
              "    width: 32px;\n",
              "  }\n",
              "\n",
              "  .colab-df-quickchart:hover {\n",
              "    background-color: var(--hover-bg-color);\n",
              "    box-shadow: 0 1px 2px rgba(60, 64, 67, 0.3), 0 1px 3px 1px rgba(60, 64, 67, 0.15);\n",
              "    fill: var(--button-hover-fill-color);\n",
              "  }\n",
              "\n",
              "  .colab-df-quickchart-complete:disabled,\n",
              "  .colab-df-quickchart-complete:disabled:hover {\n",
              "    background-color: var(--disabled-bg-color);\n",
              "    fill: var(--disabled-fill-color);\n",
              "    box-shadow: none;\n",
              "  }\n",
              "\n",
              "  .colab-df-spinner {\n",
              "    border: 2px solid var(--fill-color);\n",
              "    border-color: transparent;\n",
              "    border-bottom-color: var(--fill-color);\n",
              "    animation:\n",
              "      spin 1s steps(1) infinite;\n",
              "  }\n",
              "\n",
              "  @keyframes spin {\n",
              "    0% {\n",
              "      border-color: transparent;\n",
              "      border-bottom-color: var(--fill-color);\n",
              "      border-left-color: var(--fill-color);\n",
              "    }\n",
              "    20% {\n",
              "      border-color: transparent;\n",
              "      border-left-color: var(--fill-color);\n",
              "      border-top-color: var(--fill-color);\n",
              "    }\n",
              "    30% {\n",
              "      border-color: transparent;\n",
              "      border-left-color: var(--fill-color);\n",
              "      border-top-color: var(--fill-color);\n",
              "      border-right-color: var(--fill-color);\n",
              "    }\n",
              "    40% {\n",
              "      border-color: transparent;\n",
              "      border-right-color: var(--fill-color);\n",
              "      border-top-color: var(--fill-color);\n",
              "    }\n",
              "    60% {\n",
              "      border-color: transparent;\n",
              "      border-right-color: var(--fill-color);\n",
              "    }\n",
              "    80% {\n",
              "      border-color: transparent;\n",
              "      border-right-color: var(--fill-color);\n",
              "      border-bottom-color: var(--fill-color);\n",
              "    }\n",
              "    90% {\n",
              "      border-color: transparent;\n",
              "      border-bottom-color: var(--fill-color);\n",
              "    }\n",
              "  }\n",
              "</style>\n",
              "\n",
              "  <script>\n",
              "    async function quickchart(key) {\n",
              "      const quickchartButtonEl =\n",
              "        document.querySelector('#' + key + ' button');\n",
              "      quickchartButtonEl.disabled = true;  // To prevent multiple clicks.\n",
              "      quickchartButtonEl.classList.add('colab-df-spinner');\n",
              "      try {\n",
              "        const charts = await google.colab.kernel.invokeFunction(\n",
              "            'suggestCharts', [key], {});\n",
              "      } catch (error) {\n",
              "        console.error('Error during call to suggestCharts:', error);\n",
              "      }\n",
              "      quickchartButtonEl.classList.remove('colab-df-spinner');\n",
              "      quickchartButtonEl.classList.add('colab-df-quickchart-complete');\n",
              "    }\n",
              "    (() => {\n",
              "      let quickchartButtonEl =\n",
              "        document.querySelector('#df-2f1b8ad6-be2f-44db-93bc-824e3d4aad9c button');\n",
              "      quickchartButtonEl.style.display =\n",
              "        google.colab.kernel.accessAllowed ? 'block' : 'none';\n",
              "    })();\n",
              "  </script>\n",
              "</div>\n",
              "\n",
              "    </div>\n",
              "  </div>\n"
            ],
            "application/vnd.google.colaboratory.intrinsic+json": {
              "type": "dataframe",
              "variable_name": "df_clean"
            }
          },
          "metadata": {},
          "execution_count": 18
        }
      ],
      "source": [
        "#Excluindo variáveis\n",
        "df_clean.drop(columns=['ids', 'profile_phone_number', 'target_fraud', 'external_data_provider_credit_checks_last_2_year',\n",
        "              'channel', 'application_time_applied'], axis=1, inplace=True)\n",
        "\n",
        "#Verificando\n",
        "df_clean.head(2)"
      ]
    },
    {
      "cell_type": "markdown",
      "metadata": {
        "id": "ySAiSLEQ8nji"
      },
      "source": [
        "### 2. Remover os valores nulos e alterar os dados de: `target_default` e `facebook_profile`\n",
        "\n",
        "Agora irei remover os valores nulos das 2 variáveis acima, porém para cada um terei que fazer um tratamento específico para a remoção dos valores nulos.\n",
        "\n",
        "- `target_default`: Irei remover todas as linhas onde os valores são nulos, pois esta é a variável mais importante para nosso modelo, então não posso assumir qualquer valor apenas substituir o nulo, então por isso irei remover as linhas.\n",
        "\n",
        "- `facebook_profile`: Onde os valores forem nulos irei substituir por **False**, assumindo que onde os clientes não preencheram seja por que eles não possuem perfil no facebook.\n",
        "\n",
        "Após essas mudanças, irei substituir os valores: **False** por **0** e **True** por **1**, e após isso irei alterar o tipo para Bool. Assim finalizando nossas alterações nessas variáveis."
      ]
    },
    {
      "cell_type": "code",
      "execution_count": 19,
      "metadata": {
        "id": "8rRzJZFe-7DL"
      },
      "outputs": [],
      "source": [
        "#Removendo os valores nulos\n",
        "df_clean = df_clean.dropna(subset=['target_default'], axis=0)\n",
        "df_clean['facebook_profile'].fillna(False, inplace=True)"
      ]
    },
    {
      "cell_type": "markdown",
      "metadata": {
        "id": "Y3FZVz8QD0vV"
      },
      "source": [
        "### 3. Tratamento de valores ausentes\n",
        "\n",
        "Aqui também teremos que dar uma atenção a mais para nossas variáveis e não apenas sair substituindo os valores:\n",
        "\n",
        "* Para os atributos: `last_amount_borrowed`, `last_borrowed_in_months` e `n_issues` temos o seguinte raciocinio, se uma pessoa nunca pegou emprestimo podemos assumir que esse valor é nulo, logo o tempo em meses também pé nulo e o mesmo se aplicará para \"n_issues\". Por isso irei substituir esses valores por 0.\n",
        "\n",
        "* Se nos lembrarmos bem, quando fizemos aquela tabela de estatística descritiva vimos que `reported_income` possuí valores como \"inf\", e `external_data_provider_email_seen_before` com valor mínimo -999, irei alterar esses 2 valores dessas 2 variáveis para nulos.\n",
        "\n",
        "* Para as demais variáveis, irei fazer o tratamento de acordo com o seu tipo(objeto ou número) e para isso irei utilizar uma biblioteca do sckit-learn para nos auxiliar.\n"
      ]
    },
    {
      "cell_type": "code",
      "execution_count": 20,
      "metadata": {
        "id": "UOVCAXdwHxSQ"
      },
      "outputs": [],
      "source": [
        "#Substituindo os valores por \"0\"\n",
        "df_clean['last_amount_borrowed'].fillna(0, inplace=True)\n",
        "df_clean['last_borrowed_in_months'].fillna(0, inplace=True)\n",
        "df_clean['n_issues'].fillna(0, inplace=True)"
      ]
    },
    {
      "cell_type": "code",
      "execution_count": 21,
      "metadata": {
        "id": "rnUtccl3KbvI"
      },
      "outputs": [],
      "source": [
        "#Substituindo os valores por Nan\n",
        "df_clean['reported_income'].replace(np.inf, np.nan, inplace=True)\n",
        "df_clean['external_data_provider_email_seen_before'].replace(-999, np.nan, inplace=True)"
      ]
    },
    {
      "cell_type": "code",
      "execution_count": 22,
      "metadata": {
        "colab": {
          "base_uri": "https://localhost:8080/",
          "height": 0
        },
        "id": "wP4P5wY3LYeI",
        "outputId": "911347ec-8fa4-497f-c10d-2d8bc56cb8a9"
      },
      "outputs": [
        {
          "output_type": "execute_result",
          "data": {
            "text/plain": [
              "target_default                                     0\n",
              "score_1                                            0\n",
              "score_2                                            0\n",
              "score_3                                            0\n",
              "score_4                                            0\n",
              "score_5                                            0\n",
              "score_6                                            0\n",
              "risk_rate                                          0\n",
              "last_amount_borrowed                               0\n",
              "last_borrowed_in_months                            0\n",
              "credit_limit                                       0\n",
              "reason                                             0\n",
              "income                                             0\n",
              "facebook_profile                                   0\n",
              "state                                              0\n",
              "zip                                                0\n",
              "job_name                                           0\n",
              "real_state                                         0\n",
              "ok_since                                           0\n",
              "n_bankruptcies                                     0\n",
              "n_defaulted_loans                                  0\n",
              "n_accounts                                         0\n",
              "n_issues                                           0\n",
              "application_time_in_funnel                         0\n",
              "email                                              0\n",
              "external_data_provider_credit_checks_last_month    0\n",
              "external_data_provider_credit_checks_last_year     0\n",
              "external_data_provider_email_seen_before           0\n",
              "external_data_provider_first_name                  0\n",
              "external_data_provider_fraud_score                 0\n",
              "lat_lon                                            0\n",
              "marketing_channel                                  0\n",
              "reported_income                                    0\n",
              "shipping_state                                     0\n",
              "shipping_zip_code                                  0\n",
              "profile_tags                                       0\n",
              "user_agent                                         0\n",
              "dtype: int64"
            ]
          },
          "metadata": {},
          "execution_count": 22
        }
      ],
      "source": [
        "#Separando os tipos de dados\n",
        "var_obj = df_clean.select_dtypes(include='object').columns\n",
        "var_num = df_clean.select_dtypes(exclude='object').columns\n",
        "\n",
        "#Removendo os valores nulos das variáveis categóricas\n",
        "simple_imputer = SimpleImputer(missing_values=np.nan, strategy='most_frequent')\n",
        "df_clean.loc[:, var_obj] = simple_imputer.fit_transform(df_clean.loc[:, var_obj])\n",
        "\n",
        "#Removendo os valores nulos das variáveis numéricas\n",
        "simple_imputer = SimpleImputer(missing_values=np.nan, strategy='median')\n",
        "df_clean.loc[:, var_num] = simple_imputer.fit_transform(df_clean.loc[:, var_num])\n",
        "\n",
        "#Verificando\n",
        "df_clean.isnull().sum()"
      ]
    },
    {
      "cell_type": "markdown",
      "metadata": {
        "id": "uMDoMTfwPVrk"
      },
      "source": [
        "Para nossas variáveis categóricas coloquei como parâmetro para substituir os  nulos com os valores que mais aparecem nos dados, já para as variáveis numéricas coloquei para substituir utilizando a mediana, não utilizei a média pois ela é muito afetada por outliers e com certeza influenciaria nosso modelo de forma negativa."
      ]
    },
    {
      "cell_type": "markdown",
      "metadata": {
        "id": "brHO84prP_z8"
      },
      "source": [
        "### 4. Tratar a variável `email`\n",
        "\n",
        "Como vimos mais acima, essa variáveil está com dados escritos errados e que significam a mesma coisa, como \"gmaill.com\" e \"hotmaill.com\" e a única coisa que está errada com essas palavras é que elas estão com um \"l\" a mais no final. Então iremos corrigir isso, para que nossos dados fique padrão."
      ]
    },
    {
      "cell_type": "code",
      "execution_count": 23,
      "metadata": {
        "colab": {
          "base_uri": "https://localhost:8080/",
          "height": 0
        },
        "id": "x7ecZM2VP2aT",
        "outputId": "f12bdea7-ff75-4382-d2d0-41fdb7e1b389"
      },
      "outputs": [
        {
          "output_type": "execute_result",
          "data": {
            "text/plain": [
              "array(['outlook.com', 'gmail.com', 'spgov.com', 'hotmail.com'],\n",
              "      dtype=object)"
            ]
          },
          "metadata": {},
          "execution_count": 23
        }
      ],
      "source": [
        "#Alterando os valores de \"email\"\n",
        "df_clean['email'].replace('gmaill.com', 'gmail.com', inplace=True)\n",
        "df_clean['email'].replace('hotmaill.com', 'hotmail.com', inplace=True)\n",
        "\n",
        "#Verificando\n",
        "df_clean['email'].unique()"
      ]
    },
    {
      "cell_type": "markdown",
      "metadata": {
        "id": "VJCQVoOVRwFi"
      },
      "source": [
        "### 5. Remover outliers de `income`\n",
        "\n",
        "Nessa etapa irei remover os valores extremos que estão influenciando nossa variável, e irei fazer isso exatamente como fiz lá em cima para plotarmos o boxplot, excluirei os 10 maiores valores porém agora será de uma forma fixa."
      ]
    },
    {
      "cell_type": "code",
      "execution_count": 24,
      "metadata": {
        "id": "Oa3-Pt9LRhJk"
      },
      "outputs": [],
      "source": [
        "#Removendo os outliers\n",
        "income_large_10 = df_clean.nlargest(n=10, columns='income')\n",
        "df_clean.drop(income_large_10.index, inplace=True)"
      ]
    },
    {
      "cell_type": "markdown",
      "metadata": {
        "id": "0489kQbx-ILw"
      },
      "source": [
        "Perfeito! A parte de transformação dos dados está pronta, e podemos partir para o início da preparação para nossos modelos de Machine Learning, o que chamamos de Pré-Processamento, que consiste em fazermos mudanças que irão alterar a forma visual de nossos dados, mas mantendo seu valor intacto."
      ]
    },
    {
      "cell_type": "markdown",
      "metadata": {
        "id": "sqmUDSjX-1jj"
      },
      "source": [
        "## Modelo de Machine Learning - Baseline\n",
        "\n",
        "Aqui irei construir nosso primeiro algoritmo, que será o nosso baseline inicial. E o que isso significa? Basicamente que irei pegar um modelo sem nenhuma alteração e passar os nossos dados sem nenhum pré-processamento para ele. Isso para termos uma dimensão do resultado, e trabalharmos sempre em cima de buscar um resultado superior ao de um modelo básico.\n",
        "\n",
        "Muita das vezes, nós cientistas de dados nos preocupamos muito com quais transformações serão essenciais para tornar o nosso modelo mais eficiente, e acabamos nos esquecendo de testar o mais simples de tudo.\n",
        "\n",
        "<p align=center>\n",
        "  <img src=\"https://raw.githubusercontent.com/ferreiramar96/Analise_Risco_de_Credito_Nubank/main/Imagens/baseline.png\" width=\"60%\">\n",
        "</p>\n",
        "\n",
        "<br>\n",
        "\n",
        "Para esse nosso modelo de baseline irei utilizar o algoritmo de Árvore de Decisão, é um modelo básico e que costuma ser muito eficiente. Os dados que irei utilizar serão apenas os dados numéricos, para não ocorrer nenhum erro ao passarmos os mesmos para o modelo.\n",
        "\n",
        "Logo mais irei transformar todos os dados que não são numéricos em numéricos, utilizando transformações de categorização, eai sim poderemos passar todas as variáveis.\n",
        "\n",
        "A seguir irei fazer mais uma pequena mudança na variáveil `facebook_profile` para ficar no formato correto e nos ajudar na etapa seguinte."
      ]
    },
    {
      "cell_type": "code",
      "execution_count": 25,
      "metadata": {
        "id": "3pgPDYfHkSAI"
      },
      "outputs": [],
      "source": [
        "df_clean['facebook_profile'].replace({1.0: True,  0.0: False}, inplace=True)\n",
        "df_clean['facebook_profile'] = df_clean['facebook_profile'].astype('bool')"
      ]
    },
    {
      "cell_type": "code",
      "execution_count": 26,
      "metadata": {
        "colab": {
          "base_uri": "https://localhost:8080/",
          "height": 35
        },
        "id": "S1TSbKbe4_-T",
        "outputId": "cac64c70-51d2-4a34-fafa-df4daed9b60b"
      },
      "outputs": [
        {
          "output_type": "execute_result",
          "data": {
            "text/plain": [
              "'x_train = x_train.astype(float)\\ny_train = y_train.astype(bool)\\nx_test = x_test.astype(float)\\ny_test = y_test.astype(bool)'"
            ],
            "application/vnd.google.colaboratory.intrinsic+json": {
              "type": "string"
            }
          },
          "metadata": {},
          "execution_count": 26
        }
      ],
      "source": [
        "#Transformando em Bool\n",
        "df_clean['target_default'] = df_clean['target_default'].astype(bool)\n",
        "\n",
        "#Separando os dados\n",
        "X = df_clean.select_dtypes(include='number')\n",
        "y = df_clean['target_default']\n",
        "\n",
        "#Separando os dados em treino e teste\n",
        "x_train, x_test, y_train, y_test = train_test_split(X, y, test_size=0.25, random_state=42)\n",
        "'''x_train = x_train.astype(float)\n",
        "y_train = y_train.astype(bool)\n",
        "x_test = x_test.astype(float)\n",
        "y_test = y_test.astype(bool)'''"
      ]
    },
    {
      "cell_type": "code",
      "execution_count": 27,
      "metadata": {
        "id": "ou91E3iv55Nk"
      },
      "outputs": [],
      "source": [
        "#Treinando e fazendo a previsão com o modelo\n",
        "decision_tree = DecisionTreeClassifier()\n",
        "decision_tree = decision_tree.fit(x_train, y_train)\n",
        "y_pred = decision_tree.predict(x_test)"
      ]
    },
    {
      "cell_type": "markdown",
      "metadata": {
        "id": "OYFPWv0kGVHU"
      },
      "source": [
        "Para este problema irei considerar a métrica **Recall** que mede a porcentagem que o seu modelo acertou em relação ao total de vezes que ele deveria ter acertado, ou seja True Positive com relação a soma dos TP + FN."
      ]
    },
    {
      "cell_type": "code",
      "execution_count": 28,
      "metadata": {
        "colab": {
          "base_uri": "https://localhost:8080/",
          "height": 0
        },
        "id": "Boz9QdF56uzc",
        "outputId": "74f042f1-a309-4588-eb49-e206f0b67bc8"
      },
      "outputs": [
        {
          "output_type": "stream",
          "name": "stdout",
          "text": [
            "              precision    recall  f1-score   support\n",
            "\n",
            "       False       0.84      0.82      0.83      8777\n",
            "        True       0.17      0.20      0.18      1656\n",
            "\n",
            "    accuracy                           0.72     10433\n",
            "   macro avg       0.51      0.51      0.51     10433\n",
            "weighted avg       0.74      0.72      0.73     10433\n",
            "\n"
          ]
        }
      ],
      "source": [
        "#Mostrando o resultado\n",
        "print(classification_report(y_test, y_pred))"
      ]
    },
    {
      "cell_type": "markdown",
      "metadata": {
        "id": "enz-jXFPNYkC"
      },
      "source": [
        "Ótimo! Conseguimos um resultado de 20% com nosso modelo base, agora iremos trabalhar em cima desse valor, testar diversos algoritmos, fazer um pré-processamento completo, feature engineering, tunning de hiperparâmetros e por aí vai..."
      ]
    },
    {
      "cell_type": "markdown",
      "metadata": {
        "id": "Xw8odjnTN4-R"
      },
      "source": [
        "## Pré-Processamento dos Dados\n",
        "\n",
        "<p align=center>\n",
        "  <img src=\"https://raw.githubusercontent.com/ferreiramar96/Analise_Risco_de_Credito_Nubank/main/Imagens/pre_process.jpg\" width=\"40%\">\n",
        "</p>\n",
        "\n",
        "\n",
        "Anteriormente criamos nosso modelo base no qual conseguimos um *Recall* de 19%, então a partir de agora o nosso objetivo é trabalhar em cima de nossos dados afim de conseguirmos resultados melhores que esse. E como podemos fazer isso? através de um pré-processamento, e ele irá ter as seguintes fases nas seguinte ordem:\n",
        "\n",
        "\n",
        "* Feature engineering\n",
        "* Codificação das variáveis categóricas\n",
        "* Separar em treino e teste\n",
        "* Feature scaling\n",
        "* Balanceamento de classes\n",
        "* Redução de dimensionalidade (PCA)\n",
        "\n",
        "\n",
        "\n",
        "Após realizar todas essas transformações nos dados, iremos testar diversos algoritmos e ver qual conseguimos um melhor resultado, e então fazer o tunning dos hiperparâmetros com o objetivo de melhorar ainda mais o nosso modelo e fazer com que ele seja capaz de fazer previsões mais precisas.\n",
        "\n",
        "<br>\n",
        "\n",
        "Antes, irei criar uma cópia dos dados:"
      ]
    },
    {
      "cell_type": "code",
      "execution_count": 29,
      "metadata": {
        "id": "Fb5lYlnUy0x3"
      },
      "outputs": [],
      "source": [
        "#Fazendo uma cópia dos dados\n",
        "df_pre = df_clean.copy()"
      ]
    },
    {
      "cell_type": "markdown",
      "metadata": {
        "id": "DEU2Sjd7l8c8"
      },
      "source": [
        "### 1. Feature Engineering\n",
        "\n",
        "Esta etapa consiste em utilizarmos nossa inteligência e conhecimentos sobre o negócio, cujo objetivo é criar novas variáveis que sejam capazes de agregar mais valor para o nosso algoritmo.\n",
        "\n",
        "Irei fazer o feature enginner utilizando 2 variáveis de nosso conjunto de dados: `lat_lon` e `shipping_state`.\n",
        "\n",
        "`lat_lon` - Irei separar em uma variáveis apenas para latitude e outra apenas para longitude.\n",
        "\n",
        "`shipping_state` - Irei separar o código do país e os códigos dos estados, e como nosso código é de apenas 1 país...não vejo a nescessidade de termos essa variável, então irei excluir essa informação."
      ]
    },
    {
      "cell_type": "code",
      "execution_count": 30,
      "metadata": {
        "colab": {
          "base_uri": "https://localhost:8080/",
          "height": 0
        },
        "id": "FoqiZJ-anvG0",
        "outputId": "acc1a33d-5d17-460b-f191-1cde5a5dd88c"
      },
      "outputs": [
        {
          "output_type": "execute_result",
          "data": {
            "text/plain": [
              "latitude     object\n",
              "longitude    object\n",
              "dtype: object"
            ]
          },
          "metadata": {},
          "execution_count": 30
        }
      ],
      "source": [
        "#Separando os dados de Latitude e Longitude\n",
        "df_pre[['latitude', 'longitude']] = df_pre['lat_lon'].str.extract(r'\\((.*), (.*)\\)')\n",
        "df_pre.drop(columns='lat_lon', inplace=True, axis=1)\n",
        "df_pre[['latitude', 'longitude']].dtypes"
      ]
    },
    {
      "cell_type": "markdown",
      "metadata": {
        "id": "4fSY_nVJs8yE"
      },
      "source": [
        "Variáveis criadas, porém elas estão como \"object\" e precisamos converte-las para \"float\"."
      ]
    },
    {
      "cell_type": "code",
      "execution_count": 31,
      "metadata": {
        "id": "dUyMjI7ytFcF"
      },
      "outputs": [],
      "source": [
        "#Alterando o tipo\n",
        "df_pre[['latitude', 'longitude']] = df_pre[['latitude', 'longitude']].astype(float).round(2)"
      ]
    },
    {
      "cell_type": "markdown",
      "metadata": {
        "id": "blCixN3vu0d3"
      },
      "source": [
        "Agora iremos separar os códigos dos estados, e como iremos excluir o sufixo \"BR\" pois só existe ele, irei fazer as modificações na mesma coluna e irei alterar o nome da coluna."
      ]
    },
    {
      "cell_type": "code",
      "execution_count": 32,
      "metadata": {
        "id": "LNo9rv5Dmb91"
      },
      "outputs": [],
      "source": [
        "#Exluindo o sufixo \"BR\"\n",
        "df_pre['shipping_state'] = df_pre['shipping_state'].str.replace('BR-', '')\n",
        "\n",
        "#Renomeando a coluna\n",
        "df_pre.rename(columns={'shipping_state': 'states'}, inplace=True)"
      ]
    },
    {
      "cell_type": "markdown",
      "metadata": {
        "id": "hPobnPdmwG7U"
      },
      "source": [
        "E além de criar essas, irei excluir algumas variáveis que não como não sabemos o seu significado, não conseguimos deduzir algo sobre elas:\n",
        "\n",
        "* `reason`\n",
        "* `state`\n",
        "* `zip`\n",
        "* `job_name`\n",
        "* `real_state`\n",
        "* `external_data_provider_first_name`\n",
        "* `profile_tags`\n",
        "* `user_agent`"
      ]
    },
    {
      "cell_type": "code",
      "execution_count": 33,
      "metadata": {
        "id": "j7K5weAdwZvf"
      },
      "outputs": [],
      "source": [
        "#Excluindo variáveis\n",
        "df_pre.drop(['reason', 'state', 'zip', 'job_name', 'real_state',\n",
        "               'external_data_provider_first_name', 'profile_tags', 'user_agent'],\n",
        "              inplace=True, axis=1)"
      ]
    },
    {
      "cell_type": "markdown",
      "metadata": {
        "id": "vYNoKK2czwq5"
      },
      "source": [
        "Agora sim! Nossa parte de feature engineering está pronta. Alterações fora feitas, novas features criadas e apagadas.\n",
        "\n",
        "Irei criar mais uma cópia de nosso dataframe até aqui, pois mais a frente irei criar algumas hipóteses, e preciso que os dados estejam no formato original para isso."
      ]
    },
    {
      "cell_type": "code",
      "execution_count": 34,
      "metadata": {
        "id": "aZ46PC8O7Oqx"
      },
      "outputs": [],
      "source": [
        "#Fazendo a cópia do df\n",
        "df_pre1 = df_pre.copy()"
      ]
    },
    {
      "cell_type": "code",
      "execution_count": 35,
      "metadata": {
        "colab": {
          "base_uri": "https://localhost:8080/",
          "height": 424
        },
        "id": "smDoug_sprn3",
        "outputId": "edd45d6f-5beb-4000-ada0-e9e9ae8e7e62"
      },
      "outputs": [
        {
          "output_type": "execute_result",
          "data": {
            "text/plain": [
              "       target_default  facebook_profile\n",
              "0               False              True\n",
              "1               False             False\n",
              "2                True             False\n",
              "3               False             False\n",
              "4               False              True\n",
              "...               ...               ...\n",
              "44995           False             False\n",
              "44996           False             False\n",
              "44997           False             False\n",
              "44998            True              True\n",
              "44999           False             False\n",
              "\n",
              "[41731 rows x 2 columns]"
            ],
            "text/html": [
              "\n",
              "  <div id=\"df-1c50ef58-44fb-405b-8d63-8b2bf832e520\" class=\"colab-df-container\">\n",
              "    <div>\n",
              "<style scoped>\n",
              "    .dataframe tbody tr th:only-of-type {\n",
              "        vertical-align: middle;\n",
              "    }\n",
              "\n",
              "    .dataframe tbody tr th {\n",
              "        vertical-align: top;\n",
              "    }\n",
              "\n",
              "    .dataframe thead th {\n",
              "        text-align: right;\n",
              "    }\n",
              "</style>\n",
              "<table border=\"1\" class=\"dataframe\">\n",
              "  <thead>\n",
              "    <tr style=\"text-align: right;\">\n",
              "      <th></th>\n",
              "      <th>target_default</th>\n",
              "      <th>facebook_profile</th>\n",
              "    </tr>\n",
              "  </thead>\n",
              "  <tbody>\n",
              "    <tr>\n",
              "      <th>0</th>\n",
              "      <td>False</td>\n",
              "      <td>True</td>\n",
              "    </tr>\n",
              "    <tr>\n",
              "      <th>1</th>\n",
              "      <td>False</td>\n",
              "      <td>False</td>\n",
              "    </tr>\n",
              "    <tr>\n",
              "      <th>2</th>\n",
              "      <td>True</td>\n",
              "      <td>False</td>\n",
              "    </tr>\n",
              "    <tr>\n",
              "      <th>3</th>\n",
              "      <td>False</td>\n",
              "      <td>False</td>\n",
              "    </tr>\n",
              "    <tr>\n",
              "      <th>4</th>\n",
              "      <td>False</td>\n",
              "      <td>True</td>\n",
              "    </tr>\n",
              "    <tr>\n",
              "      <th>...</th>\n",
              "      <td>...</td>\n",
              "      <td>...</td>\n",
              "    </tr>\n",
              "    <tr>\n",
              "      <th>44995</th>\n",
              "      <td>False</td>\n",
              "      <td>False</td>\n",
              "    </tr>\n",
              "    <tr>\n",
              "      <th>44996</th>\n",
              "      <td>False</td>\n",
              "      <td>False</td>\n",
              "    </tr>\n",
              "    <tr>\n",
              "      <th>44997</th>\n",
              "      <td>False</td>\n",
              "      <td>False</td>\n",
              "    </tr>\n",
              "    <tr>\n",
              "      <th>44998</th>\n",
              "      <td>True</td>\n",
              "      <td>True</td>\n",
              "    </tr>\n",
              "    <tr>\n",
              "      <th>44999</th>\n",
              "      <td>False</td>\n",
              "      <td>False</td>\n",
              "    </tr>\n",
              "  </tbody>\n",
              "</table>\n",
              "<p>41731 rows × 2 columns</p>\n",
              "</div>\n",
              "    <div class=\"colab-df-buttons\">\n",
              "\n",
              "  <div class=\"colab-df-container\">\n",
              "    <button class=\"colab-df-convert\" onclick=\"convertToInteractive('df-1c50ef58-44fb-405b-8d63-8b2bf832e520')\"\n",
              "            title=\"Convert this dataframe to an interactive table.\"\n",
              "            style=\"display:none;\">\n",
              "\n",
              "  <svg xmlns=\"http://www.w3.org/2000/svg\" height=\"24px\" viewBox=\"0 -960 960 960\">\n",
              "    <path d=\"M120-120v-720h720v720H120Zm60-500h600v-160H180v160Zm220 220h160v-160H400v160Zm0 220h160v-160H400v160ZM180-400h160v-160H180v160Zm440 0h160v-160H620v160ZM180-180h160v-160H180v160Zm440 0h160v-160H620v160Z\"/>\n",
              "  </svg>\n",
              "    </button>\n",
              "\n",
              "  <style>\n",
              "    .colab-df-container {\n",
              "      display:flex;\n",
              "      gap: 12px;\n",
              "    }\n",
              "\n",
              "    .colab-df-convert {\n",
              "      background-color: #E8F0FE;\n",
              "      border: none;\n",
              "      border-radius: 50%;\n",
              "      cursor: pointer;\n",
              "      display: none;\n",
              "      fill: #1967D2;\n",
              "      height: 32px;\n",
              "      padding: 0 0 0 0;\n",
              "      width: 32px;\n",
              "    }\n",
              "\n",
              "    .colab-df-convert:hover {\n",
              "      background-color: #E2EBFA;\n",
              "      box-shadow: 0px 1px 2px rgba(60, 64, 67, 0.3), 0px 1px 3px 1px rgba(60, 64, 67, 0.15);\n",
              "      fill: #174EA6;\n",
              "    }\n",
              "\n",
              "    .colab-df-buttons div {\n",
              "      margin-bottom: 4px;\n",
              "    }\n",
              "\n",
              "    [theme=dark] .colab-df-convert {\n",
              "      background-color: #3B4455;\n",
              "      fill: #D2E3FC;\n",
              "    }\n",
              "\n",
              "    [theme=dark] .colab-df-convert:hover {\n",
              "      background-color: #434B5C;\n",
              "      box-shadow: 0px 1px 3px 1px rgba(0, 0, 0, 0.15);\n",
              "      filter: drop-shadow(0px 1px 2px rgba(0, 0, 0, 0.3));\n",
              "      fill: #FFFFFF;\n",
              "    }\n",
              "  </style>\n",
              "\n",
              "    <script>\n",
              "      const buttonEl =\n",
              "        document.querySelector('#df-1c50ef58-44fb-405b-8d63-8b2bf832e520 button.colab-df-convert');\n",
              "      buttonEl.style.display =\n",
              "        google.colab.kernel.accessAllowed ? 'block' : 'none';\n",
              "\n",
              "      async function convertToInteractive(key) {\n",
              "        const element = document.querySelector('#df-1c50ef58-44fb-405b-8d63-8b2bf832e520');\n",
              "        const dataTable =\n",
              "          await google.colab.kernel.invokeFunction('convertToInteractive',\n",
              "                                                    [key], {});\n",
              "        if (!dataTable) return;\n",
              "\n",
              "        const docLinkHtml = 'Like what you see? Visit the ' +\n",
              "          '<a target=\"_blank\" href=https://colab.research.google.com/notebooks/data_table.ipynb>data table notebook</a>'\n",
              "          + ' to learn more about interactive tables.';\n",
              "        element.innerHTML = '';\n",
              "        dataTable['output_type'] = 'display_data';\n",
              "        await google.colab.output.renderOutput(dataTable, element);\n",
              "        const docLink = document.createElement('div');\n",
              "        docLink.innerHTML = docLinkHtml;\n",
              "        element.appendChild(docLink);\n",
              "      }\n",
              "    </script>\n",
              "  </div>\n",
              "\n",
              "\n",
              "<div id=\"df-356c3b44-8776-46c5-a721-b62d2299d0c5\">\n",
              "  <button class=\"colab-df-quickchart\" onclick=\"quickchart('df-356c3b44-8776-46c5-a721-b62d2299d0c5')\"\n",
              "            title=\"Suggest charts\"\n",
              "            style=\"display:none;\">\n",
              "\n",
              "<svg xmlns=\"http://www.w3.org/2000/svg\" height=\"24px\"viewBox=\"0 0 24 24\"\n",
              "     width=\"24px\">\n",
              "    <g>\n",
              "        <path d=\"M19 3H5c-1.1 0-2 .9-2 2v14c0 1.1.9 2 2 2h14c1.1 0 2-.9 2-2V5c0-1.1-.9-2-2-2zM9 17H7v-7h2v7zm4 0h-2V7h2v10zm4 0h-2v-4h2v4z\"/>\n",
              "    </g>\n",
              "</svg>\n",
              "  </button>\n",
              "\n",
              "<style>\n",
              "  .colab-df-quickchart {\n",
              "      --bg-color: #E8F0FE;\n",
              "      --fill-color: #1967D2;\n",
              "      --hover-bg-color: #E2EBFA;\n",
              "      --hover-fill-color: #174EA6;\n",
              "      --disabled-fill-color: #AAA;\n",
              "      --disabled-bg-color: #DDD;\n",
              "  }\n",
              "\n",
              "  [theme=dark] .colab-df-quickchart {\n",
              "      --bg-color: #3B4455;\n",
              "      --fill-color: #D2E3FC;\n",
              "      --hover-bg-color: #434B5C;\n",
              "      --hover-fill-color: #FFFFFF;\n",
              "      --disabled-bg-color: #3B4455;\n",
              "      --disabled-fill-color: #666;\n",
              "  }\n",
              "\n",
              "  .colab-df-quickchart {\n",
              "    background-color: var(--bg-color);\n",
              "    border: none;\n",
              "    border-radius: 50%;\n",
              "    cursor: pointer;\n",
              "    display: none;\n",
              "    fill: var(--fill-color);\n",
              "    height: 32px;\n",
              "    padding: 0;\n",
              "    width: 32px;\n",
              "  }\n",
              "\n",
              "  .colab-df-quickchart:hover {\n",
              "    background-color: var(--hover-bg-color);\n",
              "    box-shadow: 0 1px 2px rgba(60, 64, 67, 0.3), 0 1px 3px 1px rgba(60, 64, 67, 0.15);\n",
              "    fill: var(--button-hover-fill-color);\n",
              "  }\n",
              "\n",
              "  .colab-df-quickchart-complete:disabled,\n",
              "  .colab-df-quickchart-complete:disabled:hover {\n",
              "    background-color: var(--disabled-bg-color);\n",
              "    fill: var(--disabled-fill-color);\n",
              "    box-shadow: none;\n",
              "  }\n",
              "\n",
              "  .colab-df-spinner {\n",
              "    border: 2px solid var(--fill-color);\n",
              "    border-color: transparent;\n",
              "    border-bottom-color: var(--fill-color);\n",
              "    animation:\n",
              "      spin 1s steps(1) infinite;\n",
              "  }\n",
              "\n",
              "  @keyframes spin {\n",
              "    0% {\n",
              "      border-color: transparent;\n",
              "      border-bottom-color: var(--fill-color);\n",
              "      border-left-color: var(--fill-color);\n",
              "    }\n",
              "    20% {\n",
              "      border-color: transparent;\n",
              "      border-left-color: var(--fill-color);\n",
              "      border-top-color: var(--fill-color);\n",
              "    }\n",
              "    30% {\n",
              "      border-color: transparent;\n",
              "      border-left-color: var(--fill-color);\n",
              "      border-top-color: var(--fill-color);\n",
              "      border-right-color: var(--fill-color);\n",
              "    }\n",
              "    40% {\n",
              "      border-color: transparent;\n",
              "      border-right-color: var(--fill-color);\n",
              "      border-top-color: var(--fill-color);\n",
              "    }\n",
              "    60% {\n",
              "      border-color: transparent;\n",
              "      border-right-color: var(--fill-color);\n",
              "    }\n",
              "    80% {\n",
              "      border-color: transparent;\n",
              "      border-right-color: var(--fill-color);\n",
              "      border-bottom-color: var(--fill-color);\n",
              "    }\n",
              "    90% {\n",
              "      border-color: transparent;\n",
              "      border-bottom-color: var(--fill-color);\n",
              "    }\n",
              "  }\n",
              "</style>\n",
              "\n",
              "  <script>\n",
              "    async function quickchart(key) {\n",
              "      const quickchartButtonEl =\n",
              "        document.querySelector('#' + key + ' button');\n",
              "      quickchartButtonEl.disabled = true;  // To prevent multiple clicks.\n",
              "      quickchartButtonEl.classList.add('colab-df-spinner');\n",
              "      try {\n",
              "        const charts = await google.colab.kernel.invokeFunction(\n",
              "            'suggestCharts', [key], {});\n",
              "      } catch (error) {\n",
              "        console.error('Error during call to suggestCharts:', error);\n",
              "      }\n",
              "      quickchartButtonEl.classList.remove('colab-df-spinner');\n",
              "      quickchartButtonEl.classList.add('colab-df-quickchart-complete');\n",
              "    }\n",
              "    (() => {\n",
              "      let quickchartButtonEl =\n",
              "        document.querySelector('#df-356c3b44-8776-46c5-a721-b62d2299d0c5 button');\n",
              "      quickchartButtonEl.style.display =\n",
              "        google.colab.kernel.accessAllowed ? 'block' : 'none';\n",
              "    })();\n",
              "  </script>\n",
              "</div>\n",
              "\n",
              "  <div id=\"id_7a130a4f-d4cc-4b87-ac72-62abf58faeee\">\n",
              "    <style>\n",
              "      .colab-df-generate {\n",
              "        background-color: #E8F0FE;\n",
              "        border: none;\n",
              "        border-radius: 50%;\n",
              "        cursor: pointer;\n",
              "        display: none;\n",
              "        fill: #1967D2;\n",
              "        height: 32px;\n",
              "        padding: 0 0 0 0;\n",
              "        width: 32px;\n",
              "      }\n",
              "\n",
              "      .colab-df-generate:hover {\n",
              "        background-color: #E2EBFA;\n",
              "        box-shadow: 0px 1px 2px rgba(60, 64, 67, 0.3), 0px 1px 3px 1px rgba(60, 64, 67, 0.15);\n",
              "        fill: #174EA6;\n",
              "      }\n",
              "\n",
              "      [theme=dark] .colab-df-generate {\n",
              "        background-color: #3B4455;\n",
              "        fill: #D2E3FC;\n",
              "      }\n",
              "\n",
              "      [theme=dark] .colab-df-generate:hover {\n",
              "        background-color: #434B5C;\n",
              "        box-shadow: 0px 1px 3px 1px rgba(0, 0, 0, 0.15);\n",
              "        filter: drop-shadow(0px 1px 2px rgba(0, 0, 0, 0.3));\n",
              "        fill: #FFFFFF;\n",
              "      }\n",
              "    </style>\n",
              "    <button class=\"colab-df-generate\" onclick=\"generateWithVariable('col_bool')\"\n",
              "            title=\"Generate code using this dataframe.\"\n",
              "            style=\"display:none;\">\n",
              "\n",
              "  <svg xmlns=\"http://www.w3.org/2000/svg\" height=\"24px\"viewBox=\"0 0 24 24\"\n",
              "       width=\"24px\">\n",
              "    <path d=\"M7,19H8.4L18.45,9,17,7.55,7,17.6ZM5,21V16.75L18.45,3.32a2,2,0,0,1,2.83,0l1.4,1.43a1.91,1.91,0,0,1,.58,1.4,1.91,1.91,0,0,1-.58,1.4L9.25,21ZM18.45,9,17,7.55Zm-12,3A5.31,5.31,0,0,0,4.9,8.1,5.31,5.31,0,0,0,1,6.5,5.31,5.31,0,0,0,4.9,4.9,5.31,5.31,0,0,0,6.5,1,5.31,5.31,0,0,0,8.1,4.9,5.31,5.31,0,0,0,12,6.5,5.46,5.46,0,0,0,6.5,12Z\"/>\n",
              "  </svg>\n",
              "    </button>\n",
              "    <script>\n",
              "      (() => {\n",
              "      const buttonEl =\n",
              "        document.querySelector('#id_7a130a4f-d4cc-4b87-ac72-62abf58faeee button.colab-df-generate');\n",
              "      buttonEl.style.display =\n",
              "        google.colab.kernel.accessAllowed ? 'block' : 'none';\n",
              "\n",
              "      buttonEl.onclick = () => {\n",
              "        google.colab.notebook.generateWithVariable('col_bool');\n",
              "      }\n",
              "      })();\n",
              "    </script>\n",
              "  </div>\n",
              "\n",
              "    </div>\n",
              "  </div>\n"
            ],
            "application/vnd.google.colaboratory.intrinsic+json": {
              "type": "dataframe",
              "variable_name": "col_bool",
              "summary": "{\n  \"name\": \"col_bool\",\n  \"rows\": 41731,\n  \"fields\": [\n    {\n      \"column\": \"target_default\",\n      \"properties\": {\n        \"dtype\": \"boolean\",\n        \"num_unique_values\": 2,\n        \"samples\": [\n          true,\n          false\n        ],\n        \"semantic_type\": \"\",\n        \"description\": \"\"\n      }\n    },\n    {\n      \"column\": \"facebook_profile\",\n      \"properties\": {\n        \"dtype\": \"boolean\",\n        \"num_unique_values\": 2,\n        \"samples\": [\n          false,\n          true\n        ],\n        \"semantic_type\": \"\",\n        \"description\": \"\"\n      }\n    }\n  ]\n}"
            }
          },
          "metadata": {},
          "execution_count": 35
        }
      ],
      "source": [
        "col_bool = df_pre.select_dtypes('bool')\n",
        "col_bool"
      ]
    },
    {
      "cell_type": "markdown",
      "metadata": {
        "id": "2pNR2HLL0Ewd"
      },
      "source": [
        "### 2. Codificação das variáveis categóricas\n",
        "\n",
        "Aqui iremos codificar nossa variáveis que são categóricas ou seja, as variáveis do tipo \"object\". E essa codificação consisite em transformar os dados em numéricos, isso por que os modelos de machine learning conseguem obter um resultado melhor com todas as entradas sendo numéricas.\n",
        "\n",
        "Existem modelos que conseguem se dar bem com os dados categóricos, como por exemplo: Árvore de Decisão, Suport Vector Machine e etc... Porém, elas se dão bem com os dados transformados, então iremos partir desse pressuposto."
      ]
    },
    {
      "cell_type": "code",
      "execution_count": 36,
      "metadata": {
        "id": "7_epY9l0z30_"
      },
      "outputs": [],
      "source": [
        "#Codificação das variáveis Booleanas\n",
        "\n",
        "#Selecionando as colunas\n",
        "col_bool = df_pre.select_dtypes('bool')\n",
        "\n",
        "#Aplicando a transformação\n",
        "for col in col_bool:\n",
        "  df_pre[col+'_encod'] = LabelEncoder().fit_transform(df_pre[col])\n",
        "  df_pre.drop(col, axis=1, inplace=True)"
      ]
    },
    {
      "cell_type": "markdown",
      "metadata": {
        "id": "KWbv5KEpDj_7"
      },
      "source": [
        "Já apliquei as transformações em nossas variáveis booleanas, agora irei aplicar para as variáveis do tipo object. Uitlizarei o OneHotEncoder do sckitlearn."
      ]
    },
    {
      "cell_type": "code",
      "execution_count": 37,
      "metadata": {
        "id": "gIy-V0A_DUNS"
      },
      "outputs": [],
      "source": [
        "#Codificação das variáveis Categóricas\n",
        "\n",
        "#Selecionando as colunas\n",
        "col_obj = df_pre.select_dtypes('object').columns\n",
        "\n",
        "#Aplicando a transformação\n",
        "dados_transform = df_pre[col_obj]\n",
        "ohe = OneHotEncoder()\n",
        "dados_transform = ohe.fit_transform(dados_transform).toarray()\n",
        "feature_names = (ohe.get_feature_names_out(col_obj))\n",
        "\n",
        "df_transform = pd.DataFrame(dados_transform, columns=feature_names)"
      ]
    },
    {
      "cell_type": "code",
      "execution_count": 38,
      "metadata": {
        "id": "NFvYXBbjP0kV"
      },
      "outputs": [],
      "source": [
        "#Concatenando os 2 dataframes\n",
        "df_pre.drop(columns=col_obj, axis=1, inplace=True)\n",
        "df_pre.reset_index(drop=True, inplace=True)\n",
        "df_transform.reset_index(drop=True, inplace=True)\n",
        "df_pre = pd.merge(df_pre, df_transform, left_index=True, right_index=True)"
      ]
    },
    {
      "cell_type": "markdown",
      "metadata": {
        "id": "sEZvO7XvoqMk"
      },
      "source": [
        "Finalmente com nossos dados codificados, se perceberem bem eu fiz 2 tratativas diferentes para os dados. Uma utilizando o *LabelEncoder* e a outra utilizando o *OneHotEncoder*, a seguir vou explicar a diferença de cada um deles:\n",
        "\n",
        "* **LabelEncoder**: Esta função faz a codificação criando uma certa \"ordem\" entre os items, e essas ordens podem levar o modelo a conclusões que não são verdadeiras. Então aqui, neste problema em específico utilizei apenas para as variáveis que tinham apenas 2 valores, ou seja, os booleanos.\n",
        "\n",
        "* **OneHotEncoder**: Para as demais variáveis utilizei esta função, porém existe o *get_dummies* do próprio pandas, mas quando vamos utilizar os dados para aplicar em uma modelo de machine learning, é recomendável utilizar o OneHotEncoder.\n",
        "\n",
        "Próximo passo, será dividir nossos dados em treino e teste."
      ]
    },
    {
      "cell_type": "markdown",
      "metadata": {
        "id": "JRdW9azGye1R"
      },
      "source": [
        "### 3. Separar os dados em Treino e Teste\n",
        "\n",
        "Para criarmos modelos de machine learning, precisamos separar nossos dados em treino e teste. Que nada mais é, os dados de treino é o que iremos utilizar para treinar nossos modelos e faze-los identificar padrões nos dados, e os dados de teste serão utilizados para validarmos nossos modelos, para ver o quão bom e o quão preciso eles ficaram, e fazemos isso utilizando métricas específicas para cada caso.\n",
        "\n",
        "A primeira parte consiste em separarmos quais serão as variáveis de X que chamamos de independentes e qual será nossa variável alvo(y) que chamamos de dependente.\n",
        "\n",
        "Após separarmos, irei utilizar a função do *sklearn* que dividirá nossos dados em treino e teste, e para isso usaremos os seguintes critérios:\n",
        "\n",
        "* 75% dos nossos dados serão para treino e 25% para teste\n",
        "* Irei embaralhar nossos dados antes de separar em X e Y, pois pode ser que haja algum padrão que não detectei e possa influenciar no modelo.\n",
        "* Irei utilizar nossa variável alvo como valor de *Stratify* que será para pegar a mesma porcentagem dos valores originais de nossos dados de nossa variável alvo.\n",
        "\n",
        "Dito tudo isso, mão na massa:"
      ]
    },
    {
      "cell_type": "code",
      "execution_count": 39,
      "metadata": {
        "id": "mqa7DxWuzZ_F"
      },
      "outputs": [],
      "source": [
        "#Embaralhando os dados\n",
        "dados_emb = df_pre.reindex(np.random.permutation(df_pre.index))\n",
        "\n",
        "#Separando em X e Y\n",
        "X = dados_emb.drop(columns='target_default_encod')\n",
        "y = dados_emb['target_default_encod']"
      ]
    },
    {
      "cell_type": "code",
      "execution_count": 40,
      "metadata": {
        "colab": {
          "base_uri": "https://localhost:8080/",
          "height": 0
        },
        "id": "Fe0FV3Pi7md6",
        "outputId": "88bf47a2-6b4b-4d3a-fa14-4fd99f5537e6"
      },
      "outputs": [
        {
          "output_type": "stream",
          "name": "stdout",
          "text": [
            "Quantidade de entradas para Treino: 31298\n",
            "------------------------------------------\n",
            "Quantidade de entradas para Teste: 10433\n"
          ]
        }
      ],
      "source": [
        "#Separando em Treino e Teste\n",
        "X_train, X_test, y_train, y_test = train_test_split(X, y,\n",
        "                                                    test_size=0.25,\n",
        "                                                    stratify=y, random_state=42)\n",
        "\n",
        "#Verificando a quantidade\n",
        "print(f'Quantidade de entradas para Treino: {X_train.shape[0]}')\n",
        "print('---'*14)\n",
        "print(f'Quantidade de entradas para Teste: {X_test.shape[0]}')"
      ]
    },
    {
      "cell_type": "markdown",
      "metadata": {
        "id": "yQxuN6mP9U2t"
      },
      "source": [
        "Com nossos dados já separados, irei utilizar os dados próximos passos serão, fazer o escalonamento de nossos dados e balanceamento de nossa variável alvo, porém essas 2 transformações irei fazer apenas em nossos dados de treino, para que quando formos avaliar os modelos, essas transformações não tenham causado um overfitting."
      ]
    },
    {
      "cell_type": "markdown",
      "metadata": {
        "id": "887DJeSVDUmF"
      },
      "source": [
        "### 4. Feature Scaling\n",
        "\n",
        "Essa é uma etapa que diria ser uma das principais, pois a partir do escalonamento das variáveis conseguimos melhorar e muito o desempenho e a convergência de nossos algoritmos, especialmente aqueles sensíveis à escala das variáveis.\n",
        "\n",
        "E para que serve o escalonamento? Ele serve para colocar os dados em uma escala comparável. Os mais comuns são a `Padronização` e a `Normalização`.\n",
        "\n",
        "* Normalização: Cada valor da variável é transformado de modo que o intervalo de valores esteja entre 0 e 1.\n",
        "\n",
        "* Padronização: Cada valor da variável é transformado de modo que a média da variável seja 0 e o desvio padrão seja 1.\n",
        "\n",
        "<br>\n",
        "\n",
        "Podemos notar que ao falarmos de cada um eles podem parecer quase iguais, mas na prática são totalmente diferentes. Utilizamos a normalização quando nossos dados possuem quase nenhum ou nenhum outlier, pois seu range é entre 0 e 1, então se tivermos outliers extremos a normalização pode resultar em uma redução significativa da faixa de valores para a maioria dos dados.\n",
        "\n",
        "Já na padronização é mais recomendado utilizar quando existem outliers, porém não extremos como vimos lá em cima em nosso dataset, porém já o tratamos. Porém ainda existem valores outliers, pois quando falamos de renda de clientes, concordam que teremos variádos tipos de clientes? Desde a classe mais baixa até a mais alta.\n",
        "\n",
        "Então é por conta disso que iremos utilizar o `StandardScaler()` para esse problema.\n",
        "\n",
        "Vale lembrar, que irei fazer o escalonamento apenas nos dados que foram separados em X (X_train e X_test)."
      ]
    },
    {
      "cell_type": "code",
      "execution_count": 41,
      "metadata": {
        "id": "pEm_vCQ88747"
      },
      "outputs": [],
      "source": [
        "#Aplicando o escalonamento\n",
        "std = StandardScaler()\n",
        "X_train = std.fit_transform(X_train)\n",
        "X_test = std.fit_transform(X_test)"
      ]
    },
    {
      "cell_type": "markdown",
      "metadata": {
        "id": "2GRK1IDfLUxJ"
      },
      "source": [
        "Sim! Apenas 3 linhas para aplicarmos a padronização, isso não é incrível?"
      ]
    },
    {
      "cell_type": "markdown",
      "metadata": {
        "id": "Ai3OELjPOb_j"
      },
      "source": [
        "### 5. Balanceamento de Classes\n",
        "\n",
        "O balanceamento de classes é necessário quando uma ou mais classes têm um número muito maior ou menor de exemplos em comparação com outras classes. E como vimos lá em cima em nossas análises, em nossa variável alvo(target) temos: `85% dos clientes Não Default` e `15% sendo Default`, ou seja, nossa classe está extremamente desbalanceada.\n",
        "\n",
        "E o que é esse balanceamento? Ele consiste em deixar a quantidade de cada classe iguais, ou bem próximas. Existem 2 técnicas para isso:\n",
        "\n",
        "* `Oversampling` : Aumenta a quantidade de dados da classe minoritária sem remover ou reduzir exemplos da classe majoritária. A principal vantagem da sobreamostragem é que ela não descarta dados potencialmente úteis, mantendo a quantidade original de exemplos da classe majoritária. Já para a desvantagem temos o risco de overfitting, pois o modelo pode se tornar muito sensível a exemplos sintéticos ou replicados.\n",
        "\n",
        "* `Undersampling`: Reduz a quantidade de dados da classe majoritária sem adicionar novos exemplos à classe minoritária. A principal vantagem da subamostragem é que ela reduz o risco de overfitting, pois o modelo é treinado em um conjunto de dados menor e menos desbalanceado. Já para a desvantagem temos que: informações potencialmente úteis são descartadas especialmente se houver classes minoritárias com exemplos importantes.\n",
        "\n",
        "Após as explicações, irei utilizar o `UnderSampling` pois não quero que nosso modelo corra o risco de dar overfitting."
      ]
    },
    {
      "cell_type": "code",
      "execution_count": 42,
      "metadata": {
        "colab": {
          "base_uri": "https://localhost:8080/",
          "height": 537
        },
        "id": "BM__1yDhJmaG",
        "outputId": "1091427c-3bd7-4ca5-d63d-7eda7e897b51"
      },
      "outputs": [
        {
          "output_type": "stream",
          "name": "stdout",
          "text": [
            "target_default_encod\n",
            "0    4996\n",
            "1    4996\n",
            "Name: count, dtype: int64\n",
            "----------------------------------------\n"
          ]
        },
        {
          "output_type": "display_data",
          "data": {
            "text/plain": [
              "<Figure size 640x480 with 1 Axes>"
            ],
            "image/png": "[encoded data removed]"
          },
          "metadata": {}
        }
      ],
      "source": [
        "#Aplicando o balanceamento de classes\n",
        "rus = RandomUnderSampler(random_state=42)\n",
        "X_train, y_train = rus.fit_resample(X_train, y_train)\n",
        "\n",
        "#Verificando o balanceamento\n",
        "print(y_train.value_counts())\n",
        "print(\"----\"*10)\n",
        "\n",
        "#Plotando o Countplot\n",
        "sns.countplot(x=y_train)\n",
        "plt.show()"
      ]
    },
    {
      "cell_type": "markdown",
      "metadata": {
        "id": "CpngjvoDMgiM"
      },
      "source": [
        "Com nossos dados devidamente balanceados podemos dar sequência e ir para a última etapa do pré processamento."
      ]
    },
    {
      "cell_type": "markdown",
      "metadata": {
        "id": "EgKxaOleNUT3"
      },
      "source": [
        "### 6. Redução de Dimensionalidade (PCA)\n",
        "\n",
        "Esta é uma etapa que é muito utilizada quando temos muitas variáveis, que é o nosso caso aqui, se tivessemos cerca de 25 a 30 variáveis poderiamos utilizar a técnica de *Feature Importance* que consiste em escolhermos as features que possuem uma maior relevância e então utiliza-las. Porém, como aqui temos 104 features fica um pouco mais complicado pois podemos perder informações. Dito isso, irei utilizar uma técnica chamada `PCA - Principal Component Analysis`.\n",
        "\n",
        "<p align=center>\n",
        "  <img src=\"https://raw.githubusercontent.com/ferreiramar96/Analise_Risco_de_Credito_Nubank/main/Imagens/Transformation-model-of-principal-component-analysis-PCA-7.png\" width=\"75%\">\n",
        "</p>\n",
        "\n",
        "E como funciona esse tal de PCA? Ele extrai um conjunto de recursos de baixa dimensão, fazendo uma projeção de dimensões irrelevantes de um conjunto de dados de alta dimensão com o objetivo de capturar o máximo de informações possível. Com menos variáveis obtidas, e ao mesmo tempo minimizando a perda de informações, a visualização também se torna muito mais significativa.\n",
        "\n",
        "E por que o utilizamos? Como disse, ele serve para reduzirmos a quantidade de features, fazendo com que o conjunto de dados fique mais leve e torne o treinamento do algoritmo mais rápido. Além disso, em um conjunto de dados com muitas variáveis, acaba que existem várias que são irrelevantes e podem acabar causando até mesmo um overfitting.\n",
        "\n",
        "Para aplicarmos precisamos estar com nossos dados padronizados, coisa que já fizemos em etapas anteriores a essa.\n",
        "\n",
        "<br>\n",
        "\n",
        "Mas devemos tomar cuidado, pois podemos perder muitas informações se utilizarmos de qualquer jeito. Vou fixar uma variância explicada de 95% que costuma ser o padrão, e o que isso significa? Que 95% de nossos dados são explicados pelas features selecionadas, um valor muito bom e pouca perda de informação.\n",
        "\n",
        "E para descobrir qual é o número correto de features, irei aplicar o PCA sem definir quantos *Componentes Principais* vou querer. Depois vou pegar a variância explicada de cada feature e plotar um gráfico com a soma cumulativa para ver com quantas features conseguimos explicar 95% dos dados,  e então novamente aplicar o PCA, porém agora especificando a quantidade de componentes."
      ]
    },
    {
      "cell_type": "code",
      "execution_count": 43,
      "metadata": {
        "colab": {
          "base_uri": "https://localhost:8080/",
          "height": 446
        },
        "id": "pfPj_ZIVNi-N",
        "outputId": "554b392b-c321-475c-a412-48451809f23f"
      },
      "outputs": [
        {
          "output_type": "stream",
          "name": "stdout",
          "text": [
            "Para uma variância explicada de 95%, teremos 84 componentes\n",
            "\n"
          ]
        },
        {
          "output_type": "display_data",
          "data": {
            "text/plain": [
              "<Figure size 600x400 with 1 Axes>"
            ],
            "image/png": "[encoded data removed]"
          },
          "metadata": {}
        }
      ],
      "source": [
        "#Ajuste do PCA\n",
        "pca = PCA()\n",
        "pca.fit(X_train)\n",
        "\n",
        "#Calcule a variância explicada por cada componente principal\n",
        "explained_variance = pca.explained_variance_ratio_\n",
        "\n",
        "#Calcule a variância explicada acumulada\n",
        "cumulative_explained_variance = np.cumsum(explained_variance)\n",
        "cpm = np.argmax(cumulative_explained_variance >= 0.95) + 1\n",
        "print(f'Para uma variância explicada de 95%, teremos {cpm} componentes\\n')\n",
        "\n",
        "# Plote a variância explicada acumulada versus o número de componentes principais\n",
        "fig, ax = plt.subplots(figsize=(6,4))\n",
        "ax.plot(cumulative_explained_variance, marker='o')\n",
        "ax.set_xlabel('Componentes Principais')\n",
        "ax.set_ylabel('Variância Explicada')\n",
        "ax.set_title('Variância Explicada Acumulada')\n",
        "ax.grid(True)\n",
        "\n",
        "# Adicione a linha pontilhada\n",
        "ax.axvline(x=cpm, color='red', linestyle='--', ymax=0.92)\n",
        "ax.axhline(y=0.95, color='red', linestyle='--', xmin=0, xmax=(cpm - 1) / len(cumulative_explained_variance))\n",
        "\n",
        "plt.show()"
      ]
    },
    {
      "cell_type": "markdown",
      "metadata": {
        "id": "uzVKLw70EdWz"
      },
      "source": [
        "Podemos ver que para uma variância explicada de 95%, teremos 84 componentes. E isso já está excelente pois saímos de 104 para 84, uma diminuição de cerca de 22%. Com certeza nosso modelo treinará mais rapidamente.\n",
        "\n",
        "Mas vale lembrar que, vou testar os modelos com os dados que foram aplicados o PCA e com os normais, e ver qual terá o melhor desempenho."
      ]
    },
    {
      "cell_type": "code",
      "execution_count": 44,
      "metadata": {
        "id": "dtdqplFbPm-7"
      },
      "outputs": [],
      "source": [
        "#Aplicando o PCA para redução de 84 componentes\n",
        "pca = PCA(n_components=84)\n",
        "X_train_pca = pca.fit_transform(X_train)\n",
        "X_test_pca = pca.transform(X_test)"
      ]
    },
    {
      "cell_type": "markdown",
      "metadata": {
        "id": "a16CsAdwH-Ph"
      },
      "source": [
        "Transformações feitas, aplicadas e salvas!\n",
        "\n",
        "Próxima etapa, gostaria de inferir algumas hipóteses"
      ]
    },
    {
      "cell_type": "markdown",
      "metadata": {
        "id": "RsyrbzP_Ioel"
      },
      "source": [
        "## Hipóteses\n",
        "\n",
        "Gostaria de criar algumas hipóteses para descobrirmos algumas informações a mais, antes de irmos de fato para a criação de nossos modelos. E as hipóteses são:\n",
        "\n",
        "* A maioria dos clientes tem facebook\n",
        "* Clientes com o email \"spgov.com\" tendem a ser menos inadimplentes que os outros\n",
        "* Os canais de marketing que os clientes mais fizeram aplicações foram as redes sociais(facebook, twitter, intagram e linkedin)\n",
        "* A região que mais possuí cliente é a Sudeste\n",
        "\n",
        "São hipóteses bem simples, mas que são interessantes."
      ]
    },
    {
      "cell_type": "markdown",
      "metadata": {
        "id": "e3CGWJ7rJfcI"
      },
      "source": [
        "#### 1. A maioria dos clientes tem facebook"
      ]
    },
    {
      "cell_type": "code",
      "source": [
        "#Configurando os dados\n",
        "fbook = pd.DataFrame(df_clean['facebook_profile'].value_counts())\n",
        "\n",
        "#Criando o Axis\n",
        "fig, ax = plt.subplots(figsize=(6,4))\n",
        "\n",
        "#Configurações do gráfico\n",
        "ax.bar(fbook.index, fbook['count'], color=['#4169E1', 'orange'])\n",
        "ax.set_xlabel('Possuem conta?')\n",
        "ax.set_ylabel('Valores')\n",
        "ax.set_title('Gráfico de Barras')\n",
        "ax.set_xticks(fbook.index)\n",
        "plt.show()"
      ],
      "metadata": {
        "colab": {
          "base_uri": "https://localhost:8080/",
          "height": 410
        },
        "id": "ucAlVU7sSwqY",
        "outputId": "4c1d3148-aaba-4645-d6bb-eec14dd9e578"
      },
      "execution_count": 45,
      "outputs": [
        {
          "output_type": "display_data",
          "data": {
            "text/plain": [
              "<Figure size 600x400 with 1 Axes>"
            ],
            "image/png": "[encoded data removed]"
          },
          "metadata": {}
        }
      ]
    },
    {
      "cell_type": "markdown",
      "source": [
        "Podemos ver que está hipótese é *FALSA*, a maioria de nossos clietes não possuem facebook."
      ],
      "metadata": {
        "id": "buUrbIZcWPri"
      }
    },
    {
      "cell_type": "markdown",
      "source": [
        "#### 2. Clientes com o email `spgov.com`  tendem a ser menos inadimplentes que os outros"
      ],
      "metadata": {
        "id": "M9hkcQ8tWgNH"
      }
    },
    {
      "cell_type": "code",
      "source": [
        "#Agrupando\n",
        "grouped = df_clean.groupby(['email', 'target_default']).size().unstack()\n",
        "grouped.plot(kind='bar', stacked=True, figsize=(6, 4))\n",
        "\n",
        "#Configurações do gráfico\n",
        "plt.legend(title='')\n",
        "plt.title('Proporção por Email')\n",
        "plt.xticks(rotation='horizontal')\n",
        "plt.xlabel('Email')\n",
        "plt.ylabel('Quantidade')\n",
        "\n",
        "plt.show()"
      ],
      "metadata": {
        "colab": {
          "base_uri": "https://localhost:8080/",
          "height": 410
        },
        "id": "fMcwVb5iXDuP",
        "outputId": "a31e4ee5-e75e-4c88-e2c9-74aa3edf45a8"
      },
      "execution_count": 46,
      "outputs": [
        {
          "output_type": "display_data",
          "data": {
            "text/plain": [
              "<Figure size 600x400 with 1 Axes>"
            ],
            "image/png": "[encoded data removed]"
          },
          "metadata": {}
        }
      ]
    },
    {
      "cell_type": "markdown",
      "source": [
        "Ao observarmos o gráfico, podemos perceber que está hipótese é verdadeira em partes. Pois o tipo \"spgov.com\" é o tipo de email menos utilizado, então pode ser que se ele fosse mais utilizado ele não seria verdadeira, então ficamos como *Neutro* com relação a esta hipótese."
      ],
      "metadata": {
        "id": "f0Dqq-Ishyte"
      }
    },
    {
      "cell_type": "markdown",
      "source": [
        "#### 3. Os canais de marketing que os clientes mais fizeram aplicações foram as redes sociais\n",
        "\n",
        "Para rede sociais aqui, irei considerar os seguintes tipos de de canais de marketing: Facebook, Twitter, Instagram, LinkedIn e Website."
      ],
      "metadata": {
        "id": "ddoQz8dfiWE-"
      }
    },
    {
      "cell_type": "code",
      "source": [
        "#Preparando os dados\n",
        "canais_marketing = df_clean['marketing_channel'].copy()\n",
        "canais_marketing.replace(['Facebook', 'Instagram', 'LinkedIn', 'Twitter', 'Website'], 'Redes Sociais', inplace=True)\n",
        "canais_marketing.replace(['Invite-email', 'Radio-commercial', 'Waiting-list', 'Invite-web'], 'Demais Canais', inplace=True)\n",
        "print(canais_marketing.value_counts())\n",
        "\n",
        "lista_por = (canais_marketing.value_counts()/len(canais_marketing)*100).tolist()\n",
        "lista_labels = (canais_marketing.unique()).tolist()\n",
        "lista_labels.sort(reverse=True)\n",
        "\n",
        "#Plotando o gráfico de rosca\n",
        "color=['#4169E1', 'orange']\n",
        "plt.figure(figsize=(6,4))\n",
        "plt.pie(lista_por, labels=lista_labels, colors=color,autopct='%1.1f%%', startangle=90, pctdistance=0.80)\n",
        "\n",
        "#Desenhando um círculo branco no centro para criar um buraco\n",
        "centro_do_circulo = plt.Circle((0, 0), 0.6, color='white', fc='white', linewidth=1.25)\n",
        "fig = plt.gcf()\n",
        "fig.gca().add_artist(centro_do_circulo)\n",
        "\n",
        "plt.title('Comparação dos Canais de Marketing')\n",
        "plt.axis('equal')\n",
        "plt.show()"
      ],
      "metadata": {
        "id": "9-IwnNmhfdE6",
        "colab": {
          "base_uri": "https://localhost:8080/",
          "height": 436
        },
        "outputId": "15aa703d-b9ff-49f4-f460-3494b96cc6e1"
      },
      "execution_count": 47,
      "outputs": [
        {
          "output_type": "stream",
          "name": "stdout",
          "text": [
            "marketing_channel\n",
            "Redes Sociais    25806\n",
            "Demais Canais    15925\n",
            "Name: count, dtype: int64\n"
          ]
        },
        {
          "output_type": "display_data",
          "data": {
            "text/plain": [
              "<Figure size 600x400 with 1 Axes>"
            ],
            "image/png": "[encoded data removed]"
          },
          "metadata": {}
        }
      ]
    },
    {
      "cell_type": "markdown",
      "source": [
        "E nossa hipótese é *VERDADEIRA*, os canais que são considerados redes sociais são os mais utilizados. E isso pode ser tranquilamente explicado, pelo fato de atualmente muita das coisas serem descobertas através das mídias."
      ],
      "metadata": {
        "id": "SgRBGk_r6xuY"
      }
    },
    {
      "cell_type": "markdown",
      "source": [
        "#### 4. A região que mais possuí cliente é a Sudeste"
      ],
      "metadata": {
        "id": "XEy_i_eCihMZ"
      }
    },
    {
      "cell_type": "code",
      "source": [
        "#Dicionário com a correspondência entre estados e regiões\n",
        "estados_regioes = {\n",
        "    'AC': 'Norte', 'AL': 'Nordeste', 'AP': 'Norte', 'AM': 'Norte',\n",
        "    'BA': 'Nordeste', 'CE': 'Nordeste', 'DF': 'Centro-Oeste', 'ES': 'Sudeste',\n",
        "    'GO': 'Centro-Oeste', 'MA': 'Nordeste', 'MT': 'Centro-Oeste', 'MS': 'Centro-Oeste',\n",
        "    'MG': 'Sudeste', 'PA': 'Norte', 'PB': 'Nordeste', 'PR': 'Sul', 'PE': 'Nordeste',\n",
        "    'PI': 'Nordeste', 'RJ': 'Sudeste', 'RN': 'Nordeste', 'RS': 'Sul','RO': 'Norte',\n",
        "    'RR': 'Norte', 'SC': 'Sul', 'SP': 'Sudeste', 'SE': 'Nordeste', 'TO': 'Norte'}\n",
        "\n",
        "#Configurando os dados\n",
        "df_regioes = df_pre1.copy()\n",
        "df_regioes.replace(estados_regioes, inplace=True)\n",
        "print(df_regioes['states'].value_counts())\n",
        "\n",
        "#Plotando o gráfico\n",
        "plt.figure(figsize=(6, 4))\n",
        "sns.countplot(df_regioes['states'], palette='tab10',\n",
        "              order = df_regioes['states'].value_counts().index)\n",
        "\n",
        "#Configurações do gráfico\n",
        "plt.title('Quantidade de Clientes x Regiões')\n",
        "plt.ylabel('Regiões')\n",
        "plt.xlabel('Quantidade de Clientes')\n",
        "plt.show()"
      ],
      "metadata": {
        "colab": {
          "base_uri": "https://localhost:8080/",
          "height": 532
        },
        "id": "ygb9bfZ5ddZw",
        "outputId": "cf41a0be-a61d-477f-e00e-90c7a316ba9d"
      },
      "execution_count": 48,
      "outputs": [
        {
          "output_type": "stream",
          "name": "stdout",
          "text": [
            "states\n",
            "Norte           11467\n",
            "Nordeste        11242\n",
            "Sudeste          9108\n",
            "Centro-Oeste     6188\n",
            "Sul              3726\n",
            "Name: count, dtype: int64\n"
          ]
        },
        {
          "output_type": "display_data",
          "data": {
            "text/plain": [
              "<Figure size 600x400 with 1 Axes>"
            ],
            "image/png": "[encoded data removed]"
          },
          "metadata": {}
        }
      ]
    },
    {
      "cell_type": "markdown",
      "source": [
        "Esta hipótese é FALSA, conseguimos observar que o Sudeste é a 3ª maior região com 9108 clientes, sendo em 1ª a região norte com 11467 clientes, ficando muito próximo da região Nordeste com 11242 clientes.  "
      ],
      "metadata": {
        "id": "f99ye4M_k6kK"
      }
    },
    {
      "cell_type": "markdown",
      "source": [
        "## Machine Learning\n",
        "\n",
        "Agora chegamos em uma parte muito interessante, afinal...todas essas transformações e pré-processamentos foram feitas para esta etapa. Aqui irei testar alguns algoritmos, e o que melhor se desempenhar irei fazer o tunning de seus hiperparâmetros. Que são basicamente parâmetros que conseguimos ajustar com a finalidade de obtermos melhores resultados e um modelo robusto.\n",
        "\n",
        "<p align=center>\n",
        "  <img src=\"https://raw.githubusercontent.com/ferreiramar96/Analise_Risco_de_Credito_Nubank/main/Imagens/machine_learning.png\" width=\"70%\">\n",
        "</p>\n",
        "\n",
        "Como já dito anteriormente, para este projeto de análise de risco de crédito temos um problema de classificação que consiste em criar um modelo que consiga prever se um cliente tende a ser *Default* ou não. Lembrando que lá em cima construí nosso *modelo base que conseguimos um recall de 20%*, então a partir desse valor qualquer modelo já será mais eficiente que nosso ponta pé inicial.\n",
        "\n",
        "Irei testar os seguintes algoritmos:\n",
        "\n",
        "* Regressão Logística\n",
        "* K-nearest neighbors(KNN)\n",
        "* Suport Vector Machine(SVC)\n",
        "* Random Forest\n",
        "* Gradient Descent\n",
        "* Decision Tree\n",
        "* Naive Bayes\n",
        "* XGBoost\n",
        "* LGBMboost\n",
        "\n",
        "E como farei pra testar todos esses algoritmos? Vou criar uma função que irá utilizar a validação cruzada e a média dos valores se baseando na métrica *Recall*, pois será ela que irei utilizar para saber o quão \"bom\" nosso modelo está."
      ],
      "metadata": {
        "id": "s5zWAJdgyuBi"
      }
    },
    {
      "cell_type": "markdown",
      "source": [
        "### Função - Validação dos Modelos"
      ],
      "metadata": {
        "id": "-ZIWNeZ8ANDh"
      }
    },
    {
      "cell_type": "code",
      "source": [
        "def validacao_modelos(modelo, X, y, validacao=False):\n",
        "\n",
        "  #Definir a semente para reprodutibilidade\n",
        "  random_state_seed = 42\n",
        "  np.random.seed(random_state_seed)\n",
        "\n",
        "  #Aplicando a validação cruzada\n",
        "  val_cruz = cross_val_score(modelo, X, y, scoring='recall', cv=5)\n",
        "\n",
        "  #Imprime a validação com sucesso\n",
        "  if validacao == True:\n",
        "    nome_modelo = model.__class__.__name__\n",
        "    print(f'{nome_modelo} - Validado com Sucesso')\n",
        "\n",
        "  #Valor a retornar\n",
        "  return round(val_cruz.mean(), 4)"
      ],
      "metadata": {
        "id": "MOYH23f99kWa"
      },
      "execution_count": 49,
      "outputs": []
    },
    {
      "cell_type": "markdown",
      "source": [
        "Acima criei a função que irá aplicar a validação cruzada em cada modelo. E o que cada parâmetro significa?\n",
        "\n",
        "* modelo --> O algoritmo de machine learning\n",
        "* X --> Os dados de treino de X\n",
        "* y --> Os dados de treino de y\n",
        "* validacao --> Se irá imprimir a validação com sucesso ou não\n",
        "\n",
        "A seguir vou instanciar nossos algoritmos e criar um loop for, para aplicar cada modelo à função de validação. E para isso, irei criar algumas listas com o objetivo de armazenar os recalls e os nomes dos modelos.\n",
        "\n",
        "Vale lembrar também, que irei fazer 2 treinamentos...uma para os dados com as transformações padrões e um com os dados que apliquei o PCA, para conseguirmos ter uma dimensão se a redução de dimensionalidade teve um impacto positivo ou não."
      ],
      "metadata": {
        "id": "cZWzsCvdYWSF"
      }
    },
    {
      "cell_type": "code",
      "source": [
        "#Instanciando os modelos\n",
        "lr = LogisticRegression()\n",
        "knn = KNeighborsClassifier()\n",
        "svc = SVC()\n",
        "rf = RandomForestClassifier()\n",
        "sgdc = SGDClassifier()\n",
        "dt = DecisionTreeClassifier()\n",
        "nb = GaussianNB()\n",
        "xgb = XGBClassifier()\n",
        "lgbm = LGBMClassifier(verbosity=0)\n",
        "\n",
        "#Criando as listas necessárias\n",
        "modelos = [lr, knn, svc, rf, sgdc, dt, nb, xgb, lgbm]\n",
        "nome_modelos = []\n",
        "recall_modelos = []\n",
        "recall_pca_modelos = []\n",
        "\n",
        "for model in modelos:\n",
        "\n",
        "  #Armazenando o nome dos modelos\n",
        "  nome_modelos.append(model.__class__.__name__)\n",
        "\n",
        "  #Armazenando o recall\n",
        "  recall_modelos.append(validacao_modelos(model, X_train, y_train))\n",
        "\n",
        "  #Armazenando o recall com os dados PCA\n",
        "  recall_pca_modelos.append(validacao_modelos(model, X_train_pca, y_train, True))"
      ],
      "metadata": {
        "colab": {
          "base_uri": "https://localhost:8080/",
          "height": 0
        },
        "id": "8jYgXG4eCXdR",
        "outputId": "4bf128a6-c855-4e7e-bd99-a452482694ab"
      },
      "execution_count": 50,
      "outputs": [
        {
          "output_type": "stream",
          "name": "stdout",
          "text": [
            "LogisticRegression - Validado com Sucesso\n",
            "KNeighborsClassifier - Validado com Sucesso\n",
            "SVC - Validado com Sucesso\n",
            "RandomForestClassifier - Validado com Sucesso\n",
            "SGDClassifier - Validado com Sucesso\n",
            "DecisionTreeClassifier - Validado com Sucesso\n",
            "GaussianNB - Validado com Sucesso\n",
            "XGBClassifier - Validado com Sucesso\n",
            "LGBMClassifier - Validado com Sucesso\n"
          ]
        }
      ]
    },
    {
      "cell_type": "markdown",
      "source": [
        "Com todos os modelos validados com sucesso, agora construirei um Dataframe para conseguirmos comparar quais são os melhores modelos e quais dados melhor se performaram."
      ],
      "metadata": {
        "id": "2pNLTeoDbHxa"
      }
    },
    {
      "cell_type": "code",
      "source": [
        "#Transformando os resultados em DataFrame\n",
        "dict_models = {'Modelos': nome_modelos, 'Recall': recall_modelos, 'Recall PCA': recall_pca_modelos}\n",
        "recall_models = pd.DataFrame(dict_models).set_index('Modelos').sort_values(by='Recall', ascending=False)\n",
        "\n",
        "#Mostrando os resultados\n",
        "recall_models"
      ],
      "metadata": {
        "id": "OW0VHNCuCkU7",
        "colab": {
          "base_uri": "https://localhost:8080/",
          "height": 363
        },
        "outputId": "055023d6-4d91-4cfe-ab91-adf8b38a74a6"
      },
      "execution_count": 51,
      "outputs": [
        {
          "output_type": "execute_result",
          "data": {
            "text/plain": [
              "                        Recall  Recall PCA\n",
              "Modelos                                   \n",
              "LogisticRegression      0.6567      0.6507\n",
              "LGBMClassifier          0.6541      0.6347\n",
              "RandomForestClassifier  0.6465      0.6247\n",
              "SVC                     0.6403      0.6341\n",
              "XGBClassifier           0.6367      0.6091\n",
              "DecisionTreeClassifier  0.5825      0.5550\n",
              "SGDClassifier           0.5778      0.6019\n",
              "KNeighborsClassifier    0.5773      0.5689\n",
              "GaussianNB              0.3467      0.2964"
            ],
            "text/html": [
              "\n",
              "  <div id=\"df-67234565-8b47-4842-86e5-7be55f6491f7\" class=\"colab-df-container\">\n",
              "    <div>\n",
              "<style scoped>\n",
              "    .dataframe tbody tr th:only-of-type {\n",
              "        vertical-align: middle;\n",
              "    }\n",
              "\n",
              "    .dataframe tbody tr th {\n",
              "        vertical-align: top;\n",
              "    }\n",
              "\n",
              "    .dataframe thead th {\n",
              "        text-align: right;\n",
              "    }\n",
              "</style>\n",
              "<table border=\"1\" class=\"dataframe\">\n",
              "  <thead>\n",
              "    <tr style=\"text-align: right;\">\n",
              "      <th></th>\n",
              "      <th>Recall</th>\n",
              "      <th>Recall PCA</th>\n",
              "    </tr>\n",
              "    <tr>\n",
              "      <th>Modelos</th>\n",
              "      <th></th>\n",
              "      <th></th>\n",
              "    </tr>\n",
              "  </thead>\n",
              "  <tbody>\n",
              "    <tr>\n",
              "      <th>LogisticRegression</th>\n",
              "      <td>0.6567</td>\n",
              "      <td>0.6507</td>\n",
              "    </tr>\n",
              "    <tr>\n",
              "      <th>LGBMClassifier</th>\n",
              "      <td>0.6541</td>\n",
              "      <td>0.6347</td>\n",
              "    </tr>\n",
              "    <tr>\n",
              "      <th>RandomForestClassifier</th>\n",
              "      <td>0.6465</td>\n",
              "      <td>0.6247</td>\n",
              "    </tr>\n",
              "    <tr>\n",
              "      <th>SVC</th>\n",
              "      <td>0.6403</td>\n",
              "      <td>0.6341</td>\n",
              "    </tr>\n",
              "    <tr>\n",
              "      <th>XGBClassifier</th>\n",
              "      <td>0.6367</td>\n",
              "      <td>0.6091</td>\n",
              "    </tr>\n",
              "    <tr>\n",
              "      <th>DecisionTreeClassifier</th>\n",
              "      <td>0.5825</td>\n",
              "      <td>0.5550</td>\n",
              "    </tr>\n",
              "    <tr>\n",
              "      <th>SGDClassifier</th>\n",
              "      <td>0.5778</td>\n",
              "      <td>0.6019</td>\n",
              "    </tr>\n",
              "    <tr>\n",
              "      <th>KNeighborsClassifier</th>\n",
              "      <td>0.5773</td>\n",
              "      <td>0.5689</td>\n",
              "    </tr>\n",
              "    <tr>\n",
              "      <th>GaussianNB</th>\n",
              "      <td>0.3467</td>\n",
              "      <td>0.2964</td>\n",
              "    </tr>\n",
              "  </tbody>\n",
              "</table>\n",
              "</div>\n",
              "    <div class=\"colab-df-buttons\">\n",
              "\n",
              "  <div class=\"colab-df-container\">\n",
              "    <button class=\"colab-df-convert\" onclick=\"convertToInteractive('df-67234565-8b47-4842-86e5-7be55f6491f7')\"\n",
              "            title=\"Convert this dataframe to an interactive table.\"\n",
              "            style=\"display:none;\">\n",
              "\n",
              "  <svg xmlns=\"http://www.w3.org/2000/svg\" height=\"24px\" viewBox=\"0 -960 960 960\">\n",
              "    <path d=\"M120-120v-720h720v720H120Zm60-500h600v-160H180v160Zm220 220h160v-160H400v160Zm0 220h160v-160H400v160ZM180-400h160v-160H180v160Zm440 0h160v-160H620v160ZM180-180h160v-160H180v160Zm440 0h160v-160H620v160Z\"/>\n",
              "  </svg>\n",
              "    </button>\n",
              "\n",
              "  <style>\n",
              "    .colab-df-container {\n",
              "      display:flex;\n",
              "      gap: 12px;\n",
              "    }\n",
              "\n",
              "    .colab-df-convert {\n",
              "      background-color: #E8F0FE;\n",
              "      border: none;\n",
              "      border-radius: 50%;\n",
              "      cursor: pointer;\n",
              "      display: none;\n",
              "      fill: #1967D2;\n",
              "      height: 32px;\n",
              "      padding: 0 0 0 0;\n",
              "      width: 32px;\n",
              "    }\n",
              "\n",
              "    .colab-df-convert:hover {\n",
              "      background-color: #E2EBFA;\n",
              "      box-shadow: 0px 1px 2px rgba(60, 64, 67, 0.3), 0px 1px 3px 1px rgba(60, 64, 67, 0.15);\n",
              "      fill: #174EA6;\n",
              "    }\n",
              "\n",
              "    .colab-df-buttons div {\n",
              "      margin-bottom: 4px;\n",
              "    }\n",
              "\n",
              "    [theme=dark] .colab-df-convert {\n",
              "      background-color: #3B4455;\n",
              "      fill: #D2E3FC;\n",
              "    }\n",
              "\n",
              "    [theme=dark] .colab-df-convert:hover {\n",
              "      background-color: #434B5C;\n",
              "      box-shadow: 0px 1px 3px 1px rgba(0, 0, 0, 0.15);\n",
              "      filter: drop-shadow(0px 1px 2px rgba(0, 0, 0, 0.3));\n",
              "      fill: #FFFFFF;\n",
              "    }\n",
              "  </style>\n",
              "\n",
              "    <script>\n",
              "      const buttonEl =\n",
              "        document.querySelector('#df-67234565-8b47-4842-86e5-7be55f6491f7 button.colab-df-convert');\n",
              "      buttonEl.style.display =\n",
              "        google.colab.kernel.accessAllowed ? 'block' : 'none';\n",
              "\n",
              "      async function convertToInteractive(key) {\n",
              "        const element = document.querySelector('#df-67234565-8b47-4842-86e5-7be55f6491f7');\n",
              "        const dataTable =\n",
              "          await google.colab.kernel.invokeFunction('convertToInteractive',\n",
              "                                                    [key], {});\n",
              "        if (!dataTable) return;\n",
              "\n",
              "        const docLinkHtml = 'Like what you see? Visit the ' +\n",
              "          '<a target=\"_blank\" href=https://colab.research.google.com/notebooks/data_table.ipynb>data table notebook</a>'\n",
              "          + ' to learn more about interactive tables.';\n",
              "        element.innerHTML = '';\n",
              "        dataTable['output_type'] = 'display_data';\n",
              "        await google.colab.output.renderOutput(dataTable, element);\n",
              "        const docLink = document.createElement('div');\n",
              "        docLink.innerHTML = docLinkHtml;\n",
              "        element.appendChild(docLink);\n",
              "      }\n",
              "    </script>\n",
              "  </div>\n",
              "\n",
              "\n",
              "<div id=\"df-f7a64410-d7a5-447c-9f14-b626287dc66a\">\n",
              "  <button class=\"colab-df-quickchart\" onclick=\"quickchart('df-f7a64410-d7a5-447c-9f14-b626287dc66a')\"\n",
              "            title=\"Suggest charts\"\n",
              "            style=\"display:none;\">\n",
              "\n",
              "<svg xmlns=\"http://www.w3.org/2000/svg\" height=\"24px\"viewBox=\"0 0 24 24\"\n",
              "     width=\"24px\">\n",
              "    <g>\n",
              "        <path d=\"M19 3H5c-1.1 0-2 .9-2 2v14c0 1.1.9 2 2 2h14c1.1 0 2-.9 2-2V5c0-1.1-.9-2-2-2zM9 17H7v-7h2v7zm4 0h-2V7h2v10zm4 0h-2v-4h2v4z\"/>\n",
              "    </g>\n",
              "</svg>\n",
              "  </button>\n",
              "\n",
              "<style>\n",
              "  .colab-df-quickchart {\n",
              "      --bg-color: #E8F0FE;\n",
              "      --fill-color: #1967D2;\n",
              "      --hover-bg-color: #E2EBFA;\n",
              "      --hover-fill-color: #174EA6;\n",
              "      --disabled-fill-color: #AAA;\n",
              "      --disabled-bg-color: #DDD;\n",
              "  }\n",
              "\n",
              "  [theme=dark] .colab-df-quickchart {\n",
              "      --bg-color: #3B4455;\n",
              "      --fill-color: #D2E3FC;\n",
              "      --hover-bg-color: #434B5C;\n",
              "      --hover-fill-color: #FFFFFF;\n",
              "      --disabled-bg-color: #3B4455;\n",
              "      --disabled-fill-color: #666;\n",
              "  }\n",
              "\n",
              "  .colab-df-quickchart {\n",
              "    background-color: var(--bg-color);\n",
              "    border: none;\n",
              "    border-radius: 50%;\n",
              "    cursor: pointer;\n",
              "    display: none;\n",
              "    fill: var(--fill-color);\n",
              "    height: 32px;\n",
              "    padding: 0;\n",
              "    width: 32px;\n",
              "  }\n",
              "\n",
              "  .colab-df-quickchart:hover {\n",
              "    background-color: var(--hover-bg-color);\n",
              "    box-shadow: 0 1px 2px rgba(60, 64, 67, 0.3), 0 1px 3px 1px rgba(60, 64, 67, 0.15);\n",
              "    fill: var(--button-hover-fill-color);\n",
              "  }\n",
              "\n",
              "  .colab-df-quickchart-complete:disabled,\n",
              "  .colab-df-quickchart-complete:disabled:hover {\n",
              "    background-color: var(--disabled-bg-color);\n",
              "    fill: var(--disabled-fill-color);\n",
              "    box-shadow: none;\n",
              "  }\n",
              "\n",
              "  .colab-df-spinner {\n",
              "    border: 2px solid var(--fill-color);\n",
              "    border-color: transparent;\n",
              "    border-bottom-color: var(--fill-color);\n",
              "    animation:\n",
              "      spin 1s steps(1) infinite;\n",
              "  }\n",
              "\n",
              "  @keyframes spin {\n",
              "    0% {\n",
              "      border-color: transparent;\n",
              "      border-bottom-color: var(--fill-color);\n",
              "      border-left-color: var(--fill-color);\n",
              "    }\n",
              "    20% {\n",
              "      border-color: transparent;\n",
              "      border-left-color: var(--fill-color);\n",
              "      border-top-color: var(--fill-color);\n",
              "    }\n",
              "    30% {\n",
              "      border-color: transparent;\n",
              "      border-left-color: var(--fill-color);\n",
              "      border-top-color: var(--fill-color);\n",
              "      border-right-color: var(--fill-color);\n",
              "    }\n",
              "    40% {\n",
              "      border-color: transparent;\n",
              "      border-right-color: var(--fill-color);\n",
              "      border-top-color: var(--fill-color);\n",
              "    }\n",
              "    60% {\n",
              "      border-color: transparent;\n",
              "      border-right-color: var(--fill-color);\n",
              "    }\n",
              "    80% {\n",
              "      border-color: transparent;\n",
              "      border-right-color: var(--fill-color);\n",
              "      border-bottom-color: var(--fill-color);\n",
              "    }\n",
              "    90% {\n",
              "      border-color: transparent;\n",
              "      border-bottom-color: var(--fill-color);\n",
              "    }\n",
              "  }\n",
              "</style>\n",
              "\n",
              "  <script>\n",
              "    async function quickchart(key) {\n",
              "      const quickchartButtonEl =\n",
              "        document.querySelector('#' + key + ' button');\n",
              "      quickchartButtonEl.disabled = true;  // To prevent multiple clicks.\n",
              "      quickchartButtonEl.classList.add('colab-df-spinner');\n",
              "      try {\n",
              "        const charts = await google.colab.kernel.invokeFunction(\n",
              "            'suggestCharts', [key], {});\n",
              "      } catch (error) {\n",
              "        console.error('Error during call to suggestCharts:', error);\n",
              "      }\n",
              "      quickchartButtonEl.classList.remove('colab-df-spinner');\n",
              "      quickchartButtonEl.classList.add('colab-df-quickchart-complete');\n",
              "    }\n",
              "    (() => {\n",
              "      let quickchartButtonEl =\n",
              "        document.querySelector('#df-f7a64410-d7a5-447c-9f14-b626287dc66a button');\n",
              "      quickchartButtonEl.style.display =\n",
              "        google.colab.kernel.accessAllowed ? 'block' : 'none';\n",
              "    })();\n",
              "  </script>\n",
              "</div>\n",
              "\n",
              "  <div id=\"id_abaf9d2c-437f-4525-9c2a-816d9a0fb6fc\">\n",
              "    <style>\n",
              "      .colab-df-generate {\n",
              "        background-color: #E8F0FE;\n",
              "        border: none;\n",
              "        border-radius: 50%;\n",
              "        cursor: pointer;\n",
              "        display: none;\n",
              "        fill: #1967D2;\n",
              "        height: 32px;\n",
              "        padding: 0 0 0 0;\n",
              "        width: 32px;\n",
              "      }\n",
              "\n",
              "      .colab-df-generate:hover {\n",
              "        background-color: #E2EBFA;\n",
              "        box-shadow: 0px 1px 2px rgba(60, 64, 67, 0.3), 0px 1px 3px 1px rgba(60, 64, 67, 0.15);\n",
              "        fill: #174EA6;\n",
              "      }\n",
              "\n",
              "      [theme=dark] .colab-df-generate {\n",
              "        background-color: #3B4455;\n",
              "        fill: #D2E3FC;\n",
              "      }\n",
              "\n",
              "      [theme=dark] .colab-df-generate:hover {\n",
              "        background-color: #434B5C;\n",
              "        box-shadow: 0px 1px 3px 1px rgba(0, 0, 0, 0.15);\n",
              "        filter: drop-shadow(0px 1px 2px rgba(0, 0, 0, 0.3));\n",
              "        fill: #FFFFFF;\n",
              "      }\n",
              "    </style>\n",
              "    <button class=\"colab-df-generate\" onclick=\"generateWithVariable('recall_models')\"\n",
              "            title=\"Generate code using this dataframe.\"\n",
              "            style=\"display:none;\">\n",
              "\n",
              "  <svg xmlns=\"http://www.w3.org/2000/svg\" height=\"24px\"viewBox=\"0 0 24 24\"\n",
              "       width=\"24px\">\n",
              "    <path d=\"M7,19H8.4L18.45,9,17,7.55,7,17.6ZM5,21V16.75L18.45,3.32a2,2,0,0,1,2.83,0l1.4,1.43a1.91,1.91,0,0,1,.58,1.4,1.91,1.91,0,0,1-.58,1.4L9.25,21ZM18.45,9,17,7.55Zm-12,3A5.31,5.31,0,0,0,4.9,8.1,5.31,5.31,0,0,0,1,6.5,5.31,5.31,0,0,0,4.9,4.9,5.31,5.31,0,0,0,6.5,1,5.31,5.31,0,0,0,8.1,4.9,5.31,5.31,0,0,0,12,6.5,5.46,5.46,0,0,0,6.5,12Z\"/>\n",
              "  </svg>\n",
              "    </button>\n",
              "    <script>\n",
              "      (() => {\n",
              "      const buttonEl =\n",
              "        document.querySelector('#id_abaf9d2c-437f-4525-9c2a-816d9a0fb6fc button.colab-df-generate');\n",
              "      buttonEl.style.display =\n",
              "        google.colab.kernel.accessAllowed ? 'block' : 'none';\n",
              "\n",
              "      buttonEl.onclick = () => {\n",
              "        google.colab.notebook.generateWithVariable('recall_models');\n",
              "      }\n",
              "      })();\n",
              "    </script>\n",
              "  </div>\n",
              "\n",
              "    </div>\n",
              "  </div>\n"
            ],
            "application/vnd.google.colaboratory.intrinsic+json": {
              "type": "dataframe",
              "variable_name": "recall_models",
              "summary": "{\n  \"name\": \"recall_models\",\n  \"rows\": 9,\n  \"fields\": [\n    {\n      \"column\": \"Modelos\",\n      \"properties\": {\n        \"dtype\": \"string\",\n        \"num_unique_values\": 9,\n        \"samples\": [\n          \"KNeighborsClassifier\",\n          \"LGBMClassifier\",\n          \"DecisionTreeClassifier\"\n        ],\n        \"semantic_type\": \"\",\n        \"description\": \"\"\n      }\n    },\n    {\n      \"column\": \"Recall\",\n      \"properties\": {\n        \"dtype\": \"number\",\n        \"std\": 0.09747690894656937,\n        \"min\": 0.3467,\n        \"max\": 0.6567,\n        \"num_unique_values\": 9,\n        \"samples\": [\n          0.5773,\n          0.6541,\n          0.5825\n        ],\n        \"semantic_type\": \"\",\n        \"description\": \"\"\n      }\n    },\n    {\n      \"column\": \"Recall PCA\",\n      \"properties\": {\n        \"dtype\": \"number\",\n        \"std\": 0.10908657239907109,\n        \"min\": 0.2964,\n        \"max\": 0.6507,\n        \"num_unique_values\": 9,\n        \"samples\": [\n          0.5689,\n          0.6347,\n          0.555\n        ],\n        \"semantic_type\": \"\",\n        \"description\": \"\"\n      }\n    }\n  ]\n}"
            }
          },
          "metadata": {},
          "execution_count": 51
        }
      ]
    },
    {
      "cell_type": "markdown",
      "source": [
        "Observando nossa tabela de resultados, podemos ver que os algoritmos que conseguiram obter os **melhores resultados** foram: `Random Forest`, `Logistic Regression` e `LGBMClassifier`, ambos com um recall de 65%. Algo que podemos notar também, é que os dados que foram aplicados o PCA obtiveram um resultado menor, cerca de 2% a 3%. Que quando tratamos de um problema real, um modelo que tem essa diferença é algo muito grande, então para esse problema a redução de dimensionalidade não foi tão eficiente para nossos modelos.\n",
        "\n",
        "O único algoritmo que melhorou seu desempenho foi o *GaussianBN (Naive Bayes)*, porém ele foi o algoritmo que obteve o pior desempenho com quase 20% e com os dados do PCA, foi para 25%. O que sim é uma ótima melhora, mas infelizmente foi o pior algoritmo.\n"
      ],
      "metadata": {
        "id": "BQ3SRPlxhKsF"
      }
    },
    {
      "cell_type": "markdown",
      "source": [
        "Como os melhores algoritmos tiveram quase que o mesmo resultado de 65%, irei escolher os 3 para fazer o tunning de hiperparâmetros e então ver qual irá obter um melhor desempenho."
      ],
      "metadata": {
        "id": "4NiUOoA6jrDw"
      }
    },
    {
      "cell_type": "markdown",
      "source": [
        "## Tunning de Hiperparâmetros\n",
        "\n",
        "Os hiperparâmetros são variáveis de configuração externas para gerenciar o treinamento do modelo de machine learning. São definidos manualmente antes de treinar um modelo. Eles são diferentes dos parâmetros, que são parâmetros internos derivados automaticamente durante o processo de aprendizado e não definidos manualemte.\n",
        "\n",
        "Os hiperparâmetros controlam diretamente a estrutura, a função e a performance do modelo. O ajuste de hiperparâmetro nos permite ajustar o desempenho do modelo para resultados ideais. Esse processo é uma parte essencial, e a escolha de valores de hiperparâmetros apropriados é crucial para o sucesso. E como iremos fazer esse ajuste de hiperparâmetros? Simples, irei utilizar a seguinte função do *sklearn*\n",
        "\n",
        "<br>\n",
        "\n",
        "* `Grid Search`: Com o grid search, especificamos uma lista de hiperparâmetros e uma métrica de desempenho(por exemplo o recall), e o algoritmo trabalha com todas as combinações possíveis para determinar o melhor ajuste.\n",
        "\n",
        "<br>\n",
        "\n",
        "E como dito anteriormente, irei fazer os ajuste dos seguintes algoritmos: `Logistic Regression`, `Random Forest` e `LGBMClassifier`. Então mão na massa:"
      ],
      "metadata": {
        "id": "ws-NDfY0mWoO"
      }
    },
    {
      "cell_type": "markdown",
      "source": [
        "### Regressão Logística\n",
        "\n",
        " A Regressão Logística é uma técnica de análise de dados que usa matemática para encontrar as relações entre dois fatores de dados. Em seguida, essa relação é usada para prever o valor de um desses fatores com base no outro. A previsão geralmente tem um número finito de resultados, como sim(1) ou não(0).\n",
        "\n",
        " <p align=center>\n",
        "  <img src=\"https://raw.githubusercontent.com/ferreiramar96/Analise_Risco_de_Credito_Nubank/main/Imagens/REGRESSAO-LOGISTICA-3.png\" width=\"50%\">\n",
        "</p>\n",
        "\n",
        " É um excelente modelo para ser usado quando nossa variável alvo possuí apenas 2 valores, os melhores benefícios de se utilizar esse algoritmo são: Simplicidade, Velocidade, Flexibilidade e Visibilidade. O cálculo da logistic regression é dada pela seguinte expressão:\n",
        "\n",
        " <p align=center>\n",
        "  <img src=\"https://raw.githubusercontent.com/ferreiramar96/Analise_Risco_de_Credito_Nubank/main/Imagens/rl_expression.png\" width=\"30%\">\n",
        "</p>\n",
        "\n",
        "A Regressão Logística não possuí um hiperparâmetro crítico para ser tunado, a o ponto de ser algo que possa mudar muito o resultado, porém irei tunar os seguintes parâmetros:\n",
        "\n",
        "* `solver`: Algoritmo a ser usado no problema de otimização\n",
        "* `penalty`: Qual penalidade será utilizada\n",
        "* `C`: Qual a força de regularização\n",
        "* `max_iter`: Número máximo de iterações necessárias para os solucionadores convergirem\n",
        "\n",
        "Como o Grid Search possuí uma alta complexidade computacional, irei treinar cada hiperparâmetro separado. E cada treinamento, irei passar os parâmetros treinados anteriormente"
      ],
      "metadata": {
        "id": "IQ_qsRPloOtk"
      }
    },
    {
      "cell_type": "code",
      "source": [
        "#Instanciando o modelo\n",
        "lr = LogisticRegression(random_state=42)\n",
        "\n",
        "#Definindo os hiperparâmetros a serem explorados\n",
        "parametro_grid = {'solver': ['newton-cg', 'lbfgs', 'liblinear', 'sag', 'saga'],\n",
        "                  'penalty': ['none', 'l1', 'l2', 'elasticnet']}\n",
        "\n",
        "#Aplicando uma validação cruzada e mantendo os dados estratificados\n",
        "kfold = StratifiedKFold(n_splits=10, shuffle=True, random_state=42)\n",
        "\n",
        "#Setando a busca pelos melhores parâmetros\n",
        "grid_search = GridSearchCV(lr, parametro_grid, n_jobs=-1, cv=kfold, scoring='recall')\n",
        "\n",
        "#Aplicando a busca\n",
        "resultado_grid = grid_search.fit(X_train, y_train)\n",
        "\n",
        "#Mostrando o resultado\n",
        "print(f'Melhor Resultados: {resultado_grid.best_score_:.4f} para {resultado_grid.best_params_}')"
      ],
      "metadata": {
        "colab": {
          "base_uri": "https://localhost:8080/",
          "height": 0
        },
        "id": "rtZ4Ds2l2GF-",
        "outputId": "438e7de2-f674-4a45-9245-06beacfabbc2"
      },
      "execution_count": 52,
      "outputs": [
        {
          "output_type": "stream",
          "name": "stdout",
          "text": [
            "Melhor Resultados: 0.6573 para {'penalty': 'l1', 'solver': 'liblinear'}\n"
          ]
        }
      ]
    },
    {
      "cell_type": "markdown",
      "source": [
        "Acima tunnei os parâmetros `solver` e `penalty` e encontrei os melhores, se observarmos o resultado veremos que não mudou quase nada pois o resultado original era 0.6567 e agora 0.6573. Porém vamos continuar, pois ainda falta 2 parâmetros."
      ],
      "metadata": {
        "id": "DAcM7H96GUsU"
      }
    },
    {
      "cell_type": "code",
      "source": [
        "#Instanciando o modelo\n",
        "lr = LogisticRegression(random_state=42, penalty='l1', solver='liblinear')\n",
        "\n",
        "#Definindo os hiperparâmetros a serem explorados\n",
        "parametro_grid = { 'C': [100, 10, 1.0, 0.1, 0.01]}\n",
        "\n",
        "#Aplicando uma validação cruzada e mantendo os dados estratificados\n",
        "kfold = StratifiedKFold(n_splits=10, shuffle=True, random_state=42)\n",
        "\n",
        "#Setando a busca pelos melhores parâmetros\n",
        "grid_search = GridSearchCV(lr, parametro_grid, n_jobs=-1, cv=kfold, scoring='recall')\n",
        "\n",
        "#Aplicando a busca\n",
        "resultado_grid = grid_search.fit(X_train, y_train)\n",
        "\n",
        "#Mostrando o resultado\n",
        "print(f'Melhor Resultados: {resultado_grid.best_score_:.4f} para {resultado_grid.best_params_}')"
      ],
      "metadata": {
        "colab": {
          "base_uri": "https://localhost:8080/",
          "height": 0
        },
        "id": "LTjKrog12JvO",
        "outputId": "5d48de93-ce87-4e26-df56-3438037c97a8"
      },
      "execution_count": 53,
      "outputs": [
        {
          "output_type": "stream",
          "name": "stdout",
          "text": [
            "Melhor Resultados: 0.6814 para {'C': 0.01}\n"
          ]
        }
      ]
    },
    {
      "cell_type": "markdown",
      "source": [
        "Após tunarmos o `C` obtivemos uma excelente evolução de cerca de 3% a mais, obtentendo um recall de 0.6814. Agora vamos para o último"
      ],
      "metadata": {
        "id": "_2XJd33PHl_o"
      }
    },
    {
      "cell_type": "code",
      "source": [
        "#Instanciando o modelo\n",
        "lr = LogisticRegression(random_state=42, penalty='l1', solver='liblinear', C=0.01)\n",
        "\n",
        "#Definindo os hiperparâmetros a serem explorados\n",
        "parametro_grid = {'max_iter': range(0, 100, 20)}\n",
        "\n",
        "#Aplicando uma validação cruzada e mantendo os dados estratificados\n",
        "kfold = StratifiedKFold(n_splits=10, shuffle=True, random_state=42)\n",
        "\n",
        "#Setando a busca pelos melhores parâmetros\n",
        "grid_search = GridSearchCV(lr, parametro_grid, n_jobs=-1, cv=kfold, scoring='recall')\n",
        "\n",
        "#Aplicando a busca\n",
        "resultado_grid = grid_search.fit(X_train, y_train)\n",
        "\n",
        "#Mostrando o resultado\n",
        "print(f'Melhor Resultados: {resultado_grid.best_score_:.4f} para {resultado_grid.best_params_}')"
      ],
      "metadata": {
        "colab": {
          "base_uri": "https://localhost:8080/",
          "height": 0
        },
        "id": "WxKLjZQs2Qd_",
        "outputId": "d9bc4dc9-3f41-4a46-f5c0-6977fbdcf721"
      },
      "execution_count": 54,
      "outputs": [
        {
          "output_type": "stream",
          "name": "stdout",
          "text": [
            "Melhor Resultados: 0.6814 para {'max_iter': 20}\n"
          ]
        }
      ]
    },
    {
      "cell_type": "markdown",
      "source": [
        "Agora depois de ter tunado o último hiperparâmetro `max_iter`, não conseguimos mais nenhuma evolução no resultado do modelo, ele foi exatamente igual ao passo anterior.\n",
        "\n",
        "Agora que já testamos todos, vamos para a construção de nosso modelo final e fazer a predição com nossos dados de teste."
      ],
      "metadata": {
        "id": "liNZQVokH-2n"
      }
    },
    {
      "cell_type": "markdown",
      "source": [
        "#### Treinando o Modelo Final - Regressão Logística"
      ],
      "metadata": {
        "id": "fbEifQq0QSWl"
      }
    },
    {
      "cell_type": "code",
      "source": [
        "#Instanciando o modelo final da Regressão Logística com os melhores hiperparâmetros encontrados\n",
        "lr = LogisticRegression(random_state=42, penalty='l1', solver='liblinear', C=0.01, max_iter=20)\n",
        "\n",
        "#Treinar o modelo\n",
        "lr.fit(X_train, y_train)\n",
        "\n",
        "#Fazendo as previsões com os dados de teste\n",
        "y_pred_lr = lr.predict(X_test)\n",
        "\n",
        "#Pegando as probabilidades para obter o AUC\n",
        "y_pred_proba_lr = lr.predict_proba(X_test)"
      ],
      "metadata": {
        "id": "WinLbHmmTCBj"
      },
      "execution_count": 55,
      "outputs": []
    },
    {
      "cell_type": "markdown",
      "source": [
        "Modelo completo, agora vamos avalia-lo com uma matriz de correlação, relatório de métricas de classificação e a curva ROC. E então chegar a algumas conclusões"
      ],
      "metadata": {
        "id": "2djP8rKyJAO9"
      }
    },
    {
      "cell_type": "code",
      "source": [
        "# imprimir relatório de métricas de avaliação\n",
        "print('Relatório de Métricas'.center(65) + ('\\n') + ('-' * 65))\n",
        "print(classification_report(y_test, y_pred_lr, digits=4) + ('\\n') + ('-' * 15))\n",
        "\n",
        "# imprimir AUC\n",
        "print('AUC: {:.4f} \\n'.format(roc_auc_score(y_test, y_pred_proba_lr[:, 1], )) + ('-' * 65))\n",
        "\n",
        "# plotar gráficos\n",
        "fig, ax = plt.subplots(nrows=1, ncols=2, figsize=(10, 4))\n",
        "\n",
        "#Matriz de confusão\n",
        "skplt.metrics.plot_confusion_matrix(y_test, y_pred_lr, normalize=True, title='Matriz de Confusão', text_fontsize='large', ax=ax[0])\n",
        "\n",
        "# AUC\n",
        "skplt.metrics.plot_roc(y_test, y_pred_proba_lr, title='Curva ROC', cmap='brg', text_fontsize='small', plot_macro=False, plot_micro=False, ax=ax[1])\n",
        "\n",
        "### imprimir valor AUC\n",
        "auc = (roc_auc_score(y_test, y_pred_proba_lr[:, 1]) * 100).round(2)\n",
        "ax[1].text(0.05, 0.97, f'{auc}%', fontsize=13, color='#004a8f', fontweight='bold')\n",
        "\n",
        "plt.show()"
      ],
      "metadata": {
        "colab": {
          "base_uri": "https://localhost:8080/",
          "height": 651
        },
        "id": "lwZuVO9WTEUs",
        "outputId": "e81d0fcb-bc17-4142-9966-03398a6fc3d1"
      },
      "execution_count": 56,
      "outputs": [
        {
          "output_type": "stream",
          "name": "stdout",
          "text": [
            "                      Relatório de Métricas                      \n",
            "-----------------------------------------------------------------\n",
            "              precision    recall  f1-score   support\n",
            "\n",
            "           0     0.9137    0.6413    0.7537      8768\n",
            "           1     0.2650    0.6811    0.3816      1665\n",
            "\n",
            "    accuracy                         0.6477     10433\n",
            "   macro avg     0.5894    0.6612    0.5676     10433\n",
            "weighted avg     0.8102    0.6477    0.6943     10433\n",
            "\n",
            "---------------\n",
            "AUC: 0.7135 \n",
            "-----------------------------------------------------------------\n"
          ]
        },
        {
          "output_type": "display_data",
          "data": {
            "text/plain": [
              "<Figure size 1000x400 with 3 Axes>"
            ],
            "image/png": "[encoded data removed]"
          },
          "metadata": {}
        }
      ]
    },
    {
      "cell_type": "markdown",
      "source": [
        "Após análisar as métricas acima, podemos concluir que conseguimos obter um resultado bom quando comparado com os dados de treino, onde tinhamos um resultado inicial de 65%. Com esse modelo, podemos dizer que dos dados que temos nosso modelo conseguiu prever 68% dos clientes que Default que realmente eram Default, errando cerca de 32%."
      ],
      "metadata": {
        "id": "DuqPQmuGJbv_"
      }
    },
    {
      "cell_type": "markdown",
      "source": [
        "A seguir vamos para nosso modelo de Random Forest, e seguirei os mesmos passos da Regresão Logística, tanto para o tunning quanto para a avaliação do modelo final."
      ],
      "metadata": {
        "id": "D7C1eRlSKULo"
      }
    },
    {
      "cell_type": "markdown",
      "source": [
        "### Random Forest\n",
        "\n",
        "Random Forest é um algoritmo que pertence à categoria de métodos de ensemble. Ensemble learning envolve a combinação de múltiplos modelos de decision tree para melhorar a robustez e o desempenho preditivo em comparação com modelos individuais, é mais comum obtermos um melhor resultado utilizando-o.\n",
        "\n",
        " <p align=center>\n",
        "  <img src=\"https://raw.githubusercontent.com/ferreiramar96/Analise_Risco_de_Credito_Nubank/main/Imagens/random_forest.png\" width=\"50%\">\n",
        "</p>\n",
        "\n",
        "O random forest como já dito anteriormente é um modelo bastante robusto por natureza, abaixo listo alguns dos hiperparâmetros que irei tunar com o objetivo de conseguir um resultado melhor que o modelo base. Vamos lá:\n",
        "\n",
        "* `bootstrap`: Indica se as amostras devem ser amostradas com substituição\n",
        "* `max_depth`: Controla a profundidade máxima de cada árvore da floresta\n",
        "* `max_features`: Número máximo de features a serem consideradas para dividir um nó\n",
        "* `criterion`: Define a função para medir a qualidade de uma divisão\n",
        "* `min_samples_leaf`: Número mínimo de amostras necessário para estar em um nó de folha\n",
        "* `min_samples_split`: Número mínimo de amostras necessárias para dividir um nó interno\n",
        "* `n_estimators`: Número de árvores da floresta\n",
        "\n",
        "Treinarei de 2 em 2 hiperparâmetros por conta da complexidade computacional ser muito elevada."
      ],
      "metadata": {
        "id": "ofzILnhFo8h7"
      }
    },
    {
      "cell_type": "code",
      "source": [
        "#Instanciando o modelo\n",
        "rf = RandomForestClassifier(random_state=42)\n",
        "\n",
        "#Definindo os hiperparâmetros a serem explorados\n",
        "parametro_grid = {'bootstrap': [True, False],\n",
        "                  'max_depth': range(5, 50, 5)}\n",
        "\n",
        "#Aplicando uma validação cruzada e mantendo os dados estratificados\n",
        "kfold = StratifiedKFold(n_splits=10, shuffle=True, random_state=42)\n",
        "\n",
        "#Setando a busca pelos melhores parâmetros\n",
        "grid_search = GridSearchCV(rf, parametro_grid, n_jobs=-1, cv=kfold, scoring='recall')\n",
        "\n",
        "#Aplicando a busca\n",
        "resultado_grid = grid_search.fit(X_train, y_train)\n",
        "\n",
        "#Mostrando o resultado\n",
        "print(f'Melhor Resultados: {resultado_grid.best_score_:.4f} para {resultado_grid.best_params_}')"
      ],
      "metadata": {
        "colab": {
          "base_uri": "https://localhost:8080/",
          "height": 0
        },
        "id": "0WkrOcocaLz9",
        "outputId": "6d862f80-ce5e-4d1c-df0c-d085f39d1853"
      },
      "execution_count": 57,
      "outputs": [
        {
          "output_type": "stream",
          "name": "stdout",
          "text": [
            "Melhor Resultados: 0.6637 para {'bootstrap': False, 'max_depth': 10}\n"
          ]
        }
      ]
    },
    {
      "cell_type": "markdown",
      "source": [
        "Após otimizarmos os hiperparâmetros `booststrap` e `max_depth` saímos de um recall de 0.6465 para 0.6637, uma melhoria de quase 2% a mais. Uma boa melhora, agora continuemos com o ajuste fino.\n"
      ],
      "metadata": {
        "id": "UBEYUBIIc-2n"
      }
    },
    {
      "cell_type": "code",
      "source": [
        "#Instanciando o modelo\n",
        "rf = RandomForestClassifier(random_state=42, bootstrap=False, max_depth=10)\n",
        "\n",
        "#Definindo os hiperparâmetros a serem explorados\n",
        "parametro_grid = {'max_features': ['auto', 'sqrt', 'log2'],\n",
        "                  'min_samples_leaf': range(1, 6, 1)}\n",
        "\n",
        "#Aplicando uma validação cruzada e mantendo os dados estratificados\n",
        "kfold = StratifiedKFold(n_splits=10, shuffle=True, random_state=42)\n",
        "\n",
        "#Setando a busca pelos melhores parâmetros\n",
        "grid_search = GridSearchCV(rf, parametro_grid, n_jobs=-1, cv=kfold, scoring='recall')\n",
        "\n",
        "#Aplicando a busca\n",
        "resultado_grid = grid_search.fit(X_train, y_train)\n",
        "\n",
        "#Mostrando o resultado\n",
        "print(f'Melhor Resultados: {resultado_grid.best_score_:.4f} para {resultado_grid.best_params_}')"
      ],
      "metadata": {
        "colab": {
          "base_uri": "https://localhost:8080/",
          "height": 0
        },
        "id": "AfZN-WDPcCPx",
        "outputId": "bdd23714-3ad5-4675-fa77-479db170dca8"
      },
      "execution_count": 58,
      "outputs": [
        {
          "output_type": "stream",
          "name": "stdout",
          "text": [
            "Melhor Resultados: 0.6671 para {'max_features': 'auto', 'min_samples_leaf': 3}\n"
          ]
        }
      ]
    },
    {
      "cell_type": "markdown",
      "source": [
        "Depois de otimizar o `max_feature` e `min_samples_leaf` conseguimos uma pequena melhora de 0.0034, algo pouco mas que pode trazer uma melhora significativa, ou não..."
      ],
      "metadata": {
        "id": "KvOeGhzMd3sB"
      }
    },
    {
      "cell_type": "code",
      "source": [
        "#Instanciando o modelo\n",
        "rf = RandomForestClassifier(random_state=42, bootstrap=False, max_depth=10, max_features='auto', min_samples_leaf=3)\n",
        "\n",
        "#Definindo os hiperparâmetros a serem explorados\n",
        "parametro_grid = {'criterion': ['gini', 'entropy', 'log_loss'],\n",
        "                  'min_samples_split': range(2, 10, 2)}\n",
        "\n",
        "#Aplicando uma validação cruzada e mantendo os dados estratificados\n",
        "kfold = StratifiedKFold(n_splits=10, shuffle=True, random_state=42)\n",
        "\n",
        "#Setando a busca pelos melhores parâmetros\n",
        "grid_search = GridSearchCV(rf, parametro_grid, n_jobs=-1, cv=kfold, scoring='recall')\n",
        "\n",
        "#Aplicando a busca\n",
        "resultado_grid = grid_search.fit(X_train, y_train)\n",
        "\n",
        "#Mostrando o resultado\n",
        "print(f'Melhor Resultados: {resultado_grid.best_score_:.4f} para {resultado_grid.best_params_}')"
      ],
      "metadata": {
        "colab": {
          "base_uri": "https://localhost:8080/",
          "height": 0
        },
        "id": "RqoBIGAOjjTc",
        "outputId": "94fea780-f30b-4294-fe7a-dc71923ac63e"
      },
      "execution_count": 59,
      "outputs": [
        {
          "output_type": "stream",
          "name": "stdout",
          "text": [
            "Melhor Resultados: 0.6679 para {'criterion': 'gini', 'min_samples_split': 8}\n"
          ]
        }
      ]
    },
    {
      "cell_type": "markdown",
      "source": [
        "Agora, mais que anteriormente nossa melhora foi de 0.0008. Logo mais abaixo irei realizar um teste para sabermos se comparado com o recall original, esses ajustes trouxeram uma mudança de fato ou não."
      ],
      "metadata": {
        "id": "zX9S_TckezOg"
      }
    },
    {
      "cell_type": "code",
      "source": [
        "#Instanciando o modelo\n",
        "rf = RandomForestClassifier(random_state=42, bootstrap=False, max_depth=10, max_features='auto',\n",
        "                            min_samples_leaf=3, criterion='gini', min_samples_split=8)\n",
        "\n",
        "#Definindo os hiperparâmetros a serem explorados\n",
        "parametro_grid = {'n_estimators': range(10, 100, 10)}\n",
        "\n",
        "#Aplicando uma validação cruzada e mantendo os dados estratificados\n",
        "kfold = StratifiedKFold(n_splits=10, shuffle=True, random_state=42)\n",
        "\n",
        "#Setando a busca pelos melhores parâmetros\n",
        "grid_search = GridSearchCV(rf, parametro_grid, n_jobs=-1, cv=kfold, scoring='recall')\n",
        "\n",
        "#Aplicando a busca\n",
        "resultado_grid = grid_search.fit(X_train, y_train)\n",
        "\n",
        "#Mostrando o resultado\n",
        "print(f'Melhor Resultados: {resultado_grid.best_score_:.4f} para {resultado_grid.best_params_}')"
      ],
      "metadata": {
        "colab": {
          "base_uri": "https://localhost:8080/",
          "height": 0
        },
        "id": "ZeNY5qBFk2GS",
        "outputId": "2c147820-9982-460b-872f-085b1a10d404"
      },
      "execution_count": 60,
      "outputs": [
        {
          "output_type": "stream",
          "name": "stdout",
          "text": [
            "Melhor Resultados: 0.6695 para {'n_estimators': 40}\n"
          ]
        }
      ]
    },
    {
      "cell_type": "markdown",
      "source": [
        "Para o ultimo hiperparâmetro `n_estimators`, mais uma vez conseguimos uma melhora bem pequena. Agora iremos realizar o treinamento e o predict, utilizando o Random Forest passando todos os hiperparâmetros com os melhores valores, e logo em seguida vamos avaliar."
      ],
      "metadata": {
        "id": "_4kBgHDughKq"
      }
    },
    {
      "cell_type": "markdown",
      "source": [
        "#### Treinando o Modelo Final - Random Forest"
      ],
      "metadata": {
        "id": "agdnbbiGQPBh"
      }
    },
    {
      "cell_type": "code",
      "source": [
        "#Instanciando o modelo final do Random Forest com os melhores hiperparâmetros encontrados\n",
        "rf = RandomForestClassifier(random_state=42, bootstrap=False, max_depth=10, max_features='auto',\n",
        "                            min_samples_leaf=3, criterion='gini', min_samples_split=8, n_estimators=40)\n",
        "\n",
        "#Treinar o modelo\n",
        "rf.fit(X_train, y_train)\n",
        "\n",
        "#Fazendo as previsões com os dados de teste\n",
        "y_pred_rf = rf.predict(X_test)\n",
        "\n",
        "#Pegando as probabilidades para obter o AUC\n",
        "y_pred_proba_rf = rf.predict_proba(X_test)"
      ],
      "metadata": {
        "id": "-B5GJsu0b4uT"
      },
      "execution_count": 61,
      "outputs": []
    },
    {
      "cell_type": "markdown",
      "source": [
        "Modelo treinado! A agora vamos ver como ele se comportou com os nossos dados."
      ],
      "metadata": {
        "id": "Z3pJZlceg-4Y"
      }
    },
    {
      "cell_type": "code",
      "source": [
        "# imprimir relatório de métricas de avaliação\n",
        "print('Relatório de Métricas'.center(65) + ('\\n') + ('-' * 65))\n",
        "print(classification_report(y_test, y_pred_rf, digits=4) + ('\\n') + ('-' * 15))\n",
        "\n",
        "# imprimir AUC\n",
        "print('AUC: {:.4f} \\n'.format(roc_auc_score(y_test, y_pred_proba_rf[:, 1], )) + ('-' * 65))\n",
        "\n",
        "# plotar gráficos\n",
        "fig, ax = plt.subplots(nrows=1, ncols=2, figsize=(10, 4))\n",
        "\n",
        "#Matriz de confusão\n",
        "skplt.metrics.plot_confusion_matrix(y_test, y_pred_rf, normalize=True, title='Matriz de Confusão', text_fontsize='large', ax=ax[0])\n",
        "\n",
        "# AUC\n",
        "skplt.metrics.plot_roc(y_test, y_pred_proba_rf, title='Curva ROC', cmap='brg', text_fontsize='small', plot_macro=False, plot_micro=False, ax=ax[1])\n",
        "\n",
        "### imprimir valor AUC\n",
        "auc = (roc_auc_score(y_test, y_pred_proba_rf[:, 1]) * 100).round(2)\n",
        "ax[1].text(0.05, 0.97, f'{auc}%', fontsize=13, color='#004a8f', fontweight='bold')\n",
        "\n",
        "plt.show()"
      ],
      "metadata": {
        "colab": {
          "base_uri": "https://localhost:8080/",
          "height": 651
        },
        "id": "LbaEYyaucRS5",
        "outputId": "aedc076b-0b73-4b8d-b9b8-da1429e7cb88"
      },
      "execution_count": 62,
      "outputs": [
        {
          "output_type": "stream",
          "name": "stdout",
          "text": [
            "                      Relatório de Métricas                      \n",
            "-----------------------------------------------------------------\n",
            "              precision    recall  f1-score   support\n",
            "\n",
            "           0     0.9165    0.6648    0.7706      8768\n",
            "           1     0.2784    0.6811    0.3953      1665\n",
            "\n",
            "    accuracy                         0.6674     10433\n",
            "   macro avg     0.5975    0.6729    0.5829     10433\n",
            "weighted avg     0.8147    0.6674    0.7107     10433\n",
            "\n",
            "---------------\n",
            "AUC: 0.7341 \n",
            "-----------------------------------------------------------------\n"
          ]
        },
        {
          "output_type": "display_data",
          "data": {
            "text/plain": [
              "<Figure size 1000x400 with 3 Axes>"
            ],
            "image/png": "[encoded data removed]"
          },
          "metadata": {}
        }
      ]
    },
    {
      "cell_type": "markdown",
      "source": [
        "Coincidência ou não, o nosso recall para os identificar corretamente os clientes Default foi exatamente igual ao da Regressão logística com 68.11%, porém para identificar os clintes Não-Default ele se saiu melhor com 66.48%, contra 64.13% da RL. E a outra métrica que estamos avaliando é a AUC(area under the curve), e nela conseguimos um resultado de 73.41% contra 71.35% da RL.\n",
        "\n",
        "**Então até o momento, o melhor classificador foi o Random Forest**. Mas ainda vamos testar o LGBM que possuí algumas propriedades diferentes, e pode ser que ele se sai melhor que esse."
      ],
      "metadata": {
        "id": "iVafr8yxhsJb"
      }
    },
    {
      "cell_type": "markdown",
      "source": [
        "### LGBM Classifier\n",
        "\n",
        "O LightGBM Classifier é uma implementação eficiente e poderosa de um algoritmo de aprendizado de máquina baseado em árvores de decisão assim como o random forest, desenvolvido pela Microsoft. Ele é especialmente projetado para trabalhar com grandes conjuntos de dados e é conhecido por sua velocidade e precisão em comparação com outros algoritmos de árvores de decisão.\n",
        "\n",
        " <p align=center>\n",
        "  <img src=\"https://raw.githubusercontent.com/ferreiramar96/Analise_Risco_de_Credito_Nubank/main/Imagens/lightgbm.png\" width=\"45%\">\n",
        "</p>\n",
        "\n",
        "Ele pertence à família de algoritmos de gradient boosting, construindo modelos preditivos combinando várias árvores fracas em uma forte. Sua eficiência é notável devido à otimização para grandes conjuntos de dados e uso eficaz de memória, além da capacidade de paralelização em várias CPUs ou GPUs.\n",
        "\n",
        "E como funciona um algoritmo boosting? Ele pega o modelo anterior e foca onde foram seus erros e reforça seu treinamento em cima deles, com o objetivo reduzi-los ao máximo. Ajustar seus hiperparâmetros é crucial para obter o melhor desempenho\n",
        "\n",
        "Sabendo disso, irei tunar os seguintes:\n",
        "\n",
        "* `num_leaves`: O número máximo de folhas em uma árvore\n",
        "* `learning_rate`: A taxa de aprendizado determina o tamanho das etapas que o algoritmo dá ao atualizar os pesos dos modelos em cada iteração\n",
        "* `max_depth`: A profundidade máxima de cada árvore de decisão. Controla a complexidade das árvores\n",
        "* `min_data_in_leaf`: O número mínimo de amostras (ou dados) necessárias em cada folha. Isso pode ajudar a evitar sobreajuste, garantindo que cada folha tenha uma quantidade mínima de informações\n",
        "* `bagging_fraction`: A fração de dados a serem amostrados aleatoriamente (sem substituição) para treinar cada árvore\n",
        "* `bagging_freq`: A frequência de amostragem, ou seja, realizar o bagging a cada k iterações\n",
        "\n",
        "Novamente irei treinar de 2 em 2 hiperparâmetros por conta da complexidade computacional ser muito elevada."
      ],
      "metadata": {
        "id": "D2-jtnoQpGK5"
      }
    },
    {
      "cell_type": "code",
      "source": [
        "#Instanciando o modelo\n",
        "lgbm = LGBMClassifier(random_state=42, verbosity=0)\n",
        "\n",
        "#Definindo os hiperparâmetros a serem explorados\n",
        "parametro_grid = {'num_leaves': range(0, 50, 5),\n",
        "                  'learning_rate': [0.01, 0.05, 0.1, 1.0]}\n",
        "\n",
        "#Aplicando uma validação cruzada e mantendo os dados estratificados\n",
        "kfold = StratifiedKFold(n_splits=10, shuffle=True, random_state=42)\n",
        "\n",
        "#Setando a busca pelos melhores parâmetros\n",
        "grid_search = GridSearchCV(lgbm, parametro_grid, n_jobs=-1, cv=kfold, scoring='recall')\n",
        "\n",
        "#Aplicando a busca\n",
        "resultado_grid = grid_search.fit(X_train, y_train)\n",
        "\n",
        "#Mostrando o resultado\n",
        "print(f'Melhor Resultados: {resultado_grid.best_score_:.4f} para {resultado_grid.best_params_}')"
      ],
      "metadata": {
        "id": "RC7b1Jz65P9X",
        "colab": {
          "base_uri": "https://localhost:8080/",
          "height": 0
        },
        "outputId": "8898748c-a8b0-4450-e050-a357d6036e20"
      },
      "execution_count": 63,
      "outputs": [
        {
          "output_type": "stream",
          "name": "stdout",
          "text": [
            "Melhor Resultados: 0.6641 para {'learning_rate': 0.1, 'num_leaves': 5}\n"
          ]
        }
      ]
    },
    {
      "cell_type": "markdown",
      "source": [
        "Após os primiros hiperparâmetros `num_leaves` e `learning_rate` conseguimos sair de um resultado de 0.6541 para 0.6641, uma boa melhora."
      ],
      "metadata": {
        "id": "HMWrzTnqOmpw"
      }
    },
    {
      "cell_type": "code",
      "source": [
        "#Instanciando o modelo\n",
        "lgbm = LGBMClassifier(random_state=42, verbosity=0, learning_rate=0.1, num_leaves=5)\n",
        "\n",
        "#Definindo os hiperparâmetros a serem explorados\n",
        "parametro_grid = {'max_depth': range(5, 30, 5),\n",
        "                  'min_data_in_leaf': range(10, 100, 10)}\n",
        "\n",
        "#Aplicando uma validação cruzada e mantendo os dados estratificados\n",
        "kfold = StratifiedKFold(n_splits=10, shuffle=True, random_state=42)\n",
        "\n",
        "#Setando a busca pelos melhores parâmetros\n",
        "grid_search = GridSearchCV(lgbm, parametro_grid, n_jobs=-1, cv=kfold, scoring='recall')\n",
        "\n",
        "#Aplicando a busca\n",
        "resultado_grid = grid_search.fit(X_train, y_train)\n",
        "\n",
        "#Mostrando o resultado\n",
        "print(f'Melhor Resultados: {resultado_grid.best_score_:.4f} para {resultado_grid.best_params_}')"
      ],
      "metadata": {
        "colab": {
          "base_uri": "https://localhost:8080/",
          "height": 0
        },
        "id": "1Y4Xz1-y_n3J",
        "outputId": "e754e3bf-32e5-40a6-b7ce-d6029480d343"
      },
      "execution_count": 64,
      "outputs": [
        {
          "output_type": "stream",
          "name": "stdout",
          "text": [
            "[LightGBM] [Warning] min_data_in_leaf is set=50, min_child_samples=20 will be ignored. Current value: min_data_in_leaf=50\n",
            "[LightGBM] [Warning] min_data_in_leaf is set=50, min_child_samples=20 will be ignored. Current value: min_data_in_leaf=50\n",
            "Melhor Resultados: 0.6659 para {'max_depth': 5, 'min_data_in_leaf': 50}\n"
          ]
        }
      ]
    },
    {
      "cell_type": "markdown",
      "source": [
        "Próxima leva de tunning `max_depth` e `min_data_in_leaf` saímos de 0.6641 anteriormente para 0.6659, um pequeno aumento."
      ],
      "metadata": {
        "id": "nNjrxi-CPHdf"
      }
    },
    {
      "cell_type": "code",
      "source": [
        "#Instanciando o modelo\n",
        "lgbm = LGBMClassifier(random_state=42, verbosity=0, learning_rate=0.1, num_leaves=5, max_depth=5, min_data_in_leaf=50)\n",
        "\n",
        "#Definindo os hiperparâmetros a serem explorados\n",
        "parametro_grid = {'bagging_fraction': [0.2, 0.4, 0.6, 0.8, 1.0],\n",
        "                  'bagging_freq': range(0, 11, 2)}\n",
        "\n",
        "#Aplicando uma validação cruzada e mantendo os dados estratificados\n",
        "kfold = StratifiedKFold(n_splits=10, shuffle=True, random_state=42)\n",
        "\n",
        "#Setando a busca pelos melhores parâmetros\n",
        "grid_search = GridSearchCV(lgbm, parametro_grid, n_jobs=-1, cv=kfold, scoring='recall')\n",
        "\n",
        "#Aplicando a busca\n",
        "resultado_grid = grid_search.fit(X_train, y_train)\n",
        "\n",
        "#Mostrando o resultado\n",
        "print(f'Melhor Resultados: {resultado_grid.best_score_:.4f} para {resultado_grid.best_params_}')"
      ],
      "metadata": {
        "colab": {
          "base_uri": "https://localhost:8080/",
          "height": 0
        },
        "id": "7gLz8nINCf1w",
        "outputId": "a8372b27-f83a-4865-d0c5-136df8ef6022"
      },
      "execution_count": 65,
      "outputs": [
        {
          "output_type": "stream",
          "name": "stdout",
          "text": [
            "[LightGBM] [Warning] min_data_in_leaf is set=50, min_child_samples=20 will be ignored. Current value: min_data_in_leaf=50\n",
            "[LightGBM] [Warning] bagging_freq is set=4, subsample_freq=0 will be ignored. Current value: bagging_freq=4\n",
            "[LightGBM] [Warning] bagging_fraction is set=0.6, subsample=1.0 will be ignored. Current value: bagging_fraction=0.6\n",
            "[LightGBM] [Warning] min_data_in_leaf is set=50, min_child_samples=20 will be ignored. Current value: min_data_in_leaf=50\n",
            "[LightGBM] [Warning] bagging_freq is set=4, subsample_freq=0 will be ignored. Current value: bagging_freq=4\n",
            "[LightGBM] [Warning] bagging_fraction is set=0.6, subsample=1.0 will be ignored. Current value: bagging_fraction=0.6\n",
            "Melhor Resultados: 0.6695 para {'bagging_fraction': 0.6, 'bagging_freq': 4}\n"
          ]
        }
      ]
    },
    {
      "cell_type": "markdown",
      "source": [
        "Finalizando os últimos 2 hiperparâmetros `bagging_fraction` e `bagging_freq` com um resultado final de tunning de 0.6695. Agora a próxima etapa é treinar o nosso modelo final passando todos os parâmetros e seus respectivos resultados obtidos nas células anteriores."
      ],
      "metadata": {
        "id": "BqFeyUYbPdc3"
      }
    },
    {
      "cell_type": "markdown",
      "source": [
        "#### Treinando o Modelo Final - LGBM"
      ],
      "metadata": {
        "id": "i5BJvvYeQHLh"
      }
    },
    {
      "cell_type": "code",
      "source": [
        "#Instanciando o modelo final do LGBMClassifier com os melhores hiperparâmetros encontrados\n",
        "lgbm = LGBMClassifier(random_state=42, verbosity=0, learning_rate=0.1, num_leaves=5, max_depth=5,\n",
        "                      min_data_in_leaf=50, bagging_fraction=0.6, bagging_freq=4)\n",
        "\n",
        "#Treinar o modelo\n",
        "lgbm.fit(X_train, y_train)\n",
        "\n",
        "#Fazendo as previsões com os dados de teste\n",
        "y_pred_lgbm = lgbm.predict(X_test)\n",
        "\n",
        "#Pegando as probabilidades para obter o AUC\n",
        "y_pred_proba_lgbm = lgbm.predict_proba(X_test)"
      ],
      "metadata": {
        "colab": {
          "base_uri": "https://localhost:8080/",
          "height": 0
        },
        "id": "obSeIipCH0Gy",
        "outputId": "7254b430-c5a5-4fd9-8773-3f7c0948a2ba"
      },
      "execution_count": 66,
      "outputs": [
        {
          "output_type": "stream",
          "name": "stdout",
          "text": [
            "[LightGBM] [Warning] min_data_in_leaf is set=50, min_child_samples=20 will be ignored. Current value: min_data_in_leaf=50\n",
            "[LightGBM] [Warning] bagging_freq is set=4, subsample_freq=0 will be ignored. Current value: bagging_freq=4\n",
            "[LightGBM] [Warning] bagging_fraction is set=0.6, subsample=1.0 will be ignored. Current value: bagging_fraction=0.6\n",
            "[LightGBM] [Warning] min_data_in_leaf is set=50, min_child_samples=20 will be ignored. Current value: min_data_in_leaf=50\n",
            "[LightGBM] [Warning] bagging_freq is set=4, subsample_freq=0 will be ignored. Current value: bagging_freq=4\n",
            "[LightGBM] [Warning] bagging_fraction is set=0.6, subsample=1.0 will be ignored. Current value: bagging_fraction=0.6\n",
            "[LightGBM] [Warning] min_data_in_leaf is set=50, min_child_samples=20 will be ignored. Current value: min_data_in_leaf=50\n",
            "[LightGBM] [Warning] bagging_freq is set=4, subsample_freq=0 will be ignored. Current value: bagging_freq=4\n",
            "[LightGBM] [Warning] bagging_fraction is set=0.6, subsample=1.0 will be ignored. Current value: bagging_fraction=0.6\n",
            "[LightGBM] [Warning] min_data_in_leaf is set=50, min_child_samples=20 will be ignored. Current value: min_data_in_leaf=50\n",
            "[LightGBM] [Warning] bagging_freq is set=4, subsample_freq=0 will be ignored. Current value: bagging_freq=4\n",
            "[LightGBM] [Warning] bagging_fraction is set=0.6, subsample=1.0 will be ignored. Current value: bagging_fraction=0.6\n"
          ]
        }
      ]
    },
    {
      "cell_type": "code",
      "source": [
        "# imprimir relatório de métricas de avaliação\n",
        "print('Relatório de Métricas'.center(65) + ('\\n') + ('-' * 65))\n",
        "print(classification_report(y_test, y_pred_lgbm, digits=4) + ('\\n') + ('-' * 15))\n",
        "\n",
        "# imprimir AUC\n",
        "print('AUC: {:.4f} \\n'.format(roc_auc_score(y_test, y_pred_proba_lgbm[:, 1], )) + ('-' * 65))\n",
        "\n",
        "# plotar gráficos\n",
        "fig, ax = plt.subplots(nrows=1, ncols=2, figsize=(10, 4))\n",
        "\n",
        "#Matriz de confusão\n",
        "skplt.metrics.plot_confusion_matrix(y_test, y_pred_lgbm, normalize=True, title='Matriz de Confusão', text_fontsize='large', ax=ax[0])\n",
        "\n",
        "# AUC\n",
        "skplt.metrics.plot_roc(y_test, y_pred_proba_lgbm, title='Curva ROC', cmap='brg', text_fontsize='small', plot_macro=False, plot_micro=False, ax=ax[1])\n",
        "\n",
        "### imprimir valor AUC\n",
        "auc = (roc_auc_score(y_test, y_pred_proba_lgbm[:, 1]) * 100).round(2)\n",
        "ax[1].text(0.05, 0.97, f'{auc}%', fontsize=13, color='#004a8f', fontweight='bold')\n",
        "\n",
        "plt.show()"
      ],
      "metadata": {
        "colab": {
          "base_uri": "https://localhost:8080/",
          "height": 651
        },
        "id": "EU_s84YcJXiX",
        "outputId": "6f6bb6ac-1aa7-40ce-a716-39b5ad19e09a"
      },
      "execution_count": 67,
      "outputs": [
        {
          "output_type": "stream",
          "name": "stdout",
          "text": [
            "                      Relatório de Métricas                      \n",
            "-----------------------------------------------------------------\n",
            "              precision    recall  f1-score   support\n",
            "\n",
            "           0     0.9214    0.6561    0.7665      8768\n",
            "           1     0.2803    0.7051    0.4011      1665\n",
            "\n",
            "    accuracy                         0.6640     10433\n",
            "   macro avg     0.6008    0.6806    0.5838     10433\n",
            "weighted avg     0.8191    0.6640    0.7081     10433\n",
            "\n",
            "---------------\n",
            "AUC: 0.7458 \n",
            "-----------------------------------------------------------------\n"
          ]
        },
        {
          "output_type": "display_data",
          "data": {
            "text/plain": [
              "<Figure size 1000x400 with 3 Axes>"
            ],
            "image/png": "[encoded data removed]"
          },
          "metadata": {}
        }
      ]
    },
    {
      "cell_type": "markdown",
      "source": [
        "Finalmente finalizado nosso modelo LGBM! E avaliando as métricas, conseguimos um resultado muito bom, melhor que os modelos anteriores. Utilizando o LightGBM e aprimorando seus hiperparâmetros, ***conseguimos obter um recall de 71%*** utilizando nossos dados de teste, e um AUC de 74.58% sendo o melhor entre os modelos anteriores. A seguir irei aplicar um teste estatístico, para ver se o tunning de hiperparâmetros obteve realmente uma melhora significativa, que irá nos indicar se o tempo que dedicamos a tunagem foi efetiva ou não."
      ],
      "metadata": {
        "id": "Af_7qGLLRDFh"
      }
    },
    {
      "cell_type": "markdown",
      "source": [
        "## Teste Estatístico de Hipótese\n",
        "\n",
        "O teste de hipóteses é uma ferramenta estatística poderosa que nos permite fazer inferências objetivas e baseadas em evidências sobre a população com base em uma amostra dos dados observados.\n",
        "\n",
        "Como e por que irei utilizar esse teste? Por mais que tenhamos percebido um aumento numericamente de 5% em nosso modelo LightGBM (antes 0.6541, agora 0.7051) após aplicarmos o tunning de hiperparâmetros, irei aplicar um teste estatístico para comprovar se é uma melhora significativa ou não.\n",
        "\n",
        "Existem 3 tipos de teste de hipóteses:\n",
        "\n",
        "<br/>\n",
        "\n",
        "* `Teste Z`: É usado principalmente quando se trabalha com uma grande amostra (geralmente com n maior que 30) e quando a variância populacional é conhecida.\n",
        "\n",
        "* `Teste T`: O teste t é usado quando a variância populacional é desconhecida ou quando a amostra é pequena (geralmente com n menor que 30).\n",
        "\n",
        "* `Teste F`: O teste F é usado principalmente em análise de variância (ANOVA) para comparar as médias de três ou mais grupos.\n",
        "\n",
        "<br/>\n",
        "\n",
        "Sabendo disso, irei utilizar o **Teste Z** pois temos uma maior quantidade de dados. Vamos considerar as seguintes hipóteses:\n",
        "\n",
        "<br/>\n",
        "\n",
        "* Hipótese Nula ($H_0$) ▶ $\\text{p-value}>$ 0.05\n",
        "\n",
        "  **Não há diferença significativa** no valor de Recall entre o modelo com e sem engenharia de atributos.\n",
        "\n",
        "  <br>\n",
        "\n",
        "* Hipótese Alternativa ($H_1$) ▶ $\\text{p-value} <=$  0.05\n",
        "\n",
        "  Rejeita a hipótese nula, ou seja, **existe diferença** entre os dois modelos avaliados.\n",
        "\n",
        "<br/>\n",
        "\n",
        "Em termos mais simples, o nível de significância (p-value) nos diz qual é a probabilidade de os resultados observados ocorrerem se a hipótese nula for verdadeira. Quanto menor o valor-p, mais forte é a evidência contra a hipótese nula.\n",
        "\n",
        "Escolhi um de sigificância de 0.05(5%), é um valor comumente utilizado pois nos dá um intervalo de confiança de 95%. Se o p-value for menor que 0.05, então consideraremos rejeitar a hipótese nula, caso seja maior que 0.05 irei considerar que não existem evidências suficientes para rejeitar nossa hipótese nula, ou seja, que nosso modelo não obteve uma melhora significativa.\n",
        "\n",
        "Vale lembrar que a fórmula do Teste Z é dado por:\n",
        "\n",
        "$$ z_{\\text{stat}} = \\frac{{p1 - p2}}{{\\sqrt{\\frac{{p \\cdot (1 - p) \\cdot (1/n + 1/n)}}{{2}}}}} $$\n",
        "\n",
        "Agora mãos à obra:\n"
      ],
      "metadata": {
        "id": "4Ybb7yL7pJ9z"
      }
    },
    {
      "cell_type": "code",
      "source": [
        "#Salvando os valores dos Recalls\n",
        "reacall_ant = 0.6541\n",
        "recall_dps = 0.6695\n",
        "\n",
        "##Quantidade de clientes que foram avaliados\n",
        "n_clients = X_train.shape[0]\n",
        "\n",
        "#Quantidade de acertos de cada modelo\n",
        "model_ant = int(reacall_ant * n_clients)\n",
        "model_dps = int(recall_dps * n_clients)\n",
        "\n",
        "#Função para calcular o teste z para duas proporções\n",
        "def test_z(success_a, success_b, n_samples):\n",
        "\n",
        "    #Calculando os parâmetros\n",
        "    p1 = success_a / n_samples\n",
        "    p2 = success_b / n_samples\n",
        "    p = (success_a + success_b) / (2 * n_samples)\n",
        "\n",
        "    #Definir fórmula do Z-test com o threshold de p = 0.05\n",
        "    z_stat = (p1 - p2) / ((p * (1 - p) * (1/n_samples + 1/n_samples))**0.5)\n",
        "\n",
        "    #Calculando o p-value\n",
        "    p_val = (1 - norm.cdf(abs(z_stat))) * 2\n",
        "\n",
        "    return z_stat, p_val\n",
        "\n",
        "# aplicar a função aos modelos de machine-learning\n",
        "z_stat = test_z(model_ant, model_dps, n_clients)\n",
        "print(z_stat)"
      ],
      "metadata": {
        "id": "KDW3ibl5SK77",
        "colab": {
          "base_uri": "https://localhost:8080/",
          "height": 0
        },
        "outputId": "e3f6bb07-a606-4498-f214-86cf0b53f6e5"
      },
      "execution_count": 68,
      "outputs": [
        {
          "output_type": "stream",
          "name": "stdout",
          "text": [
            "(-2.3025398915726196, 0.021304744471240644)\n"
          ]
        }
      ]
    },
    {
      "cell_type": "markdown",
      "source": [
        "Conseguimos um p-value de aproximadamente ***0.021*** que é menor do que o nível de significância padrão de 0.05. Isso significa que há evidências estatísticas suficientes para rejeitar a hipótese nula e podemos considerar a hipótese alternativa, em outras palavras, **a diferença observada entre os modelos é estatisticamente significativa**.\n",
        "\n",
        "O que podemos concluir é que, o ajuste de hiperparâmetro traz sim um resultado superior e significativo ao modelo original!\n",
        "\n",
        "Vamos para as conclusões finais..."
      ],
      "metadata": {
        "id": "r4erxztL3nCY"
      }
    },
    {
      "cell_type": "markdown",
      "source": [
        "# Conclusão\n",
        "\n",
        "Até compreender o problema de negócio, precisei dedicar um tempo para estudar sobre o que era Default e como tudo funcionava. Após ter compreendido o case do negócio, comecei a colocar a mão na massa onde as etapas técnicas do projeto que se seguiram foram: Importar os Dados, Realizar a Análise Exploratória, Transformações nos Dados, Fazer um Pré-Processamento com Técnicas pré machine learning, Fiz algumas suposições de negócios utilizando os Dados para responder a algumas perguntas, Modelos de Machine Learning, Tunning de Hiperparâmetros e um Teste Estatístico para finalizar.\n",
        "\n",
        "A seguir irei discorrer um pouco sobre cada tema.\n",
        "\n",
        "<br>\n",
        "\n",
        "Comecei o projeto explicando como iria funcionar e qual seria o **nosso objetivo**, que era: *Criar um modelo de machine learning com o melhor desempenho possível, para classificar os clientes como um possível Default ou não.* Depois já fui para a importação dos dados onde os puxei de um repositório no GitHub, e também importei e instalei as bibliotecas que utilizei ao longo de todo o projeto. Vizualizei quais eram as dimensões do dataframe e criei um dicionário de variáveis, para a melhor compreensão do significado de cada variável.\n",
        "\n",
        "<br>\n",
        "\n",
        " <p align=center>\n",
        "  <img src=\"https://raw.githubusercontent.com/ferreiramar96/Analise_Risco_de_Credito_Nubank/main/Imagens/conclusion.jpg\" width=\"35%\">\n",
        "</p>\n",
        "\n",
        "\n",
        "<br>\n",
        "\n",
        "Próxima parte, fui para a análise exploratória onde pude aprofundar mais ainda nos dados. Consegui verificar o quais eram os tipos das variáveis, identificar qual era a variável alvo(y), se existiam valores nulos, valores outliers, valores único, estatística descritiva e também aprofundei em algumas features que eram mais importantes, e então criei vários gráficos. Após essas análises, verifiquei que existiam algumas transformações pendentes que precisariam ser feitas, como: Alteração de tipo, tratamento de valores ausentes, remover outliers e excluir features que não agregavam valor algum.\n",
        "\n",
        "<br>\n",
        "\n",
        "Então começo a entrar na parte que diz respeito ao objetivo princial, que era um criar um modelo de Machine Learnin. Nessa parte crie um modelo base, com os dados \"originais\" sem nenhum pré-processamento e obti um resultado de 20% (recall) com um algoritmo de *Árvore de Decisão*, com esse valor em mente...iremos trabalhar para obter um valor acima desse, aplicando pré-processamentos, testanto diversos algoritmos e tunando seus hiperparâmetros, e assim fiz! No Pré-Processamento apliquei diversas técnicas, como: Feature Engineer, Codificação de Variáveis Categóricas, Feature Scaling, Balanceamento de Classes, Redução de Dimensionalidade(PCA) e Separar os dados em Treino e Teste. Depois de terminar essa etapa, ainda propus algumas hipóteses que acabei respondendo com os dados, algumas sendo verdadeiras e outrasnão.\n",
        "\n",
        "<br>\n",
        "\n",
        "Após todo esse Pré-Processamento robusto, testei diversos algoritmos, com o conjunto de dados com a dimensionalidade original (104 features) e com a dimensionalidade reduzida (84 features), dentre esses algoritmos, temos: *Regressão Logística*, *K-nearest neighbors(KNN)*, *Suport Vector Machine(SVC)*, *Random Forest*, *Gradient Descent*, *Árvore de Decisão*, *Naive Bayes*, *Xgboost* e *LightGBM*. E então fiz a validação com todos os modelos utilizando uma função que crie para isso e a métrica de avaliação que estou considerando é o *Recall*. Concluído a validação de todos os modelos, o primeiro ponto que observei foi qual conjunto de dados havia se performado melhor, e os *dados com as dimensões originais se sairam melhor*. Segundo, seria ver quais modelos obtiveram o melhor resultado, e os melhores foram: Regressão Logística, LightGBM e Random Forest, com os respectivos resultados: 65.67%, 65.41% e 64.65%. E o pior modelo sendo o KNN com um recall de 34.67%.\n",
        "\n",
        "<br>\n",
        "\n",
        "Escolhido os 3 melhores modelos, fui para a tunagem de hiperparâmetros com o objetivo de melhorar ainda mais nossos resultados e obter um modelo mais robusto. Em ambos consegui um resultado melhor:\n",
        "* `Regressão Logística`: saindo de 65.67% para 68.14% e um modelo final com os dados de teste com 68.11% e um AUC ROC de 71.35%.\n",
        "\n",
        "* `Random Forest`: saindo de 64.65% para 66.95% e um modelo final com os dados de teste com 68.11% e um AUC ROC de 73.41%.\n",
        "\n",
        "* `LightGBM`: saindo de 65.41% para 66.95% e um modelo final com os dados de teste com 70.51% e um AUC ROC de 74.58%.\n",
        "\n",
        "Após ter todos os resultados em mãos, resolvi aplicar um teste de hipótese (teste z), para saber se essa melhora nos valores após o ajuste de hiperparâmetros, possuí um nível de segnificância ou se foi uma melhora irrelevante. Utilizei um intervalo de confiança de 95%, e então como resultado obtive 2.1%, assim então consideramos a hipótese alternativa de que sim, essa melhora foi significativa. E com tudo isso podemos concluir que:\n",
        "\n",
        "**Consegui construir um modelo de Machine Learning com um resultado de 71% para prever clientes Default utilizando o algoritmo LightGBM.**"
      ],
      "metadata": {
        "id": "JAJqU7zpb21C"
      }
    }
  ],
  "metadata": {
    "colab": {
      "provenance": [],
      "include_colab_link": true
    },
    "kernelspec": {
      "display_name": "Python 3",
      "name": "python3"
    }
  },
  "nbformat": 4,
  "nbformat_minor": 0
}